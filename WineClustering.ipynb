{
 "cells": [
  {
   "cell_type": "markdown",
   "metadata": {},
   "source": [
    "# Labeling Wine by Clustering\n",
    "\n",
    "Today people can be inundated with data. This can be a gigantic problem for firms; by overwhelming customers, companies can lose sales. Add in the fact that the current generation is known for having a short attention span and you have a recipe for losing customers if your marketing strategy is not concise and catchy. \n",
    "\n",
    "Now this notebook looks at a particular product: wine. If you are a wine connoisseur, I recommend you stop reading now; this notebook may rub you the wrong way. For everyone else, wine can be overly complicated. Thousands of diffrent attributes can be used to describe wine and some, honestly, just sound like fluff. This notebook will look at a particular marketing problem when it comes to describing many different wines to customers.\n",
    "\n",
    "Basically, how to catergize wine into dinsticnt bins based on all their different attributes. By doing this effectively, a wine retailer can reduce the cost associated with all the data around different wines, helping the customer buy faster and enjoy sooner. Also, if they do it really well, customers may come to rely on these bins and use them consistly into their future (making these labels mainstream and adding other avenues to capitalize on).\n",
    "\n",
    "## The Technical Aspects\n",
    "\n",
    "Because the problem is to label/catergize wines, and yet the catergories don't yet exist; this problem falls into the unsupervized learning realm. Becasue of this, deciding on whether the clusters created from the data makes sense becomes very, very, very subjective. I won't comment on whether the methods used throughout this notebook are good or not and will leave that up to reader. \n",
    "\n",
    "Anyway, the plan is to try several different techniques to catergorize: <b> K-means, Density-Based Spatial Clustering of Applications with Noise (DBSCAN), and Topic Models</b>. The notebook will also use some supervised learning (mainly regression) to aid in feature enginerring. Let's start with the data."
   ]
  },
  {
   "cell_type": "code",
   "execution_count": 146,
   "metadata": {
    "collapsed": true
   },
   "outputs": [],
   "source": [
    "#import packages\n",
    "import graphlab as gl\n",
    "import re\n",
    "import math"
   ]
  },
  {
   "cell_type": "code",
   "execution_count": 147,
   "metadata": {
    "collapsed": false
   },
   "outputs": [],
   "source": [
    "#load data into Sframe\n",
    "wine=gl.SFrame('./wine.gl/')"
   ]
  },
  {
   "cell_type": "code",
   "execution_count": 148,
   "metadata": {
    "collapsed": false
   },
   "outputs": [
    {
     "data": {
      "text/html": [
       "<div style=\"max-height:1000px;max-width:1500px;overflow:auto;\"><table frame=\"box\" rules=\"cols\">\n",
       "    <tr>\n",
       "        <th style=\"padding-left: 1em; padding-right: 1em; text-align: center\">id</th>\n",
       "        <th style=\"padding-left: 1em; padding-right: 1em; text-align: center\">name</th>\n",
       "        <th style=\"padding-left: 1em; padding-right: 1em; text-align: center\">price</th>\n",
       "        <th style=\"padding-left: 1em; padding-right: 1em; text-align: center\">sales</th>\n",
       "        <th style=\"padding-left: 1em; padding-right: 1em; text-align: center\">img</th>\n",
       "        <th style=\"padding-left: 1em; padding-right: 1em; text-align: center\">reviews</th>\n",
       "    </tr>\n",
       "    <tr>\n",
       "        <td style=\"padding-left: 1em; padding-right: 1em; text-align: center; vertical-align: top\">0</td>\n",
       "        <td style=\"padding-left: 1em; padding-right: 1em; text-align: center; vertical-align: top\">Jamieson Ranch Vineyards<br>Double Lariat Cabernet ...</td>\n",
       "        <td style=\"padding-left: 1em; padding-right: 1em; text-align: center; vertical-align: top\">60.0</td>\n",
       "        <td style=\"padding-left: 1em; padding-right: 1em; text-align: center; vertical-align: top\">34.99</td>\n",
       "        <td style=\"padding-left: 1em; padding-right: 1em; text-align: center; vertical-align: top\">http://cache.wine.com/lab<br>els/147264l.jpg ...</td>\n",
       "        <td style=\"padding-left: 1em; padding-right: 1em; text-align: center; vertical-align: top\">{'anonymous1914596960':<br>('', '4')} ...</td>\n",
       "    </tr>\n",
       "    <tr>\n",
       "        <td style=\"padding-left: 1em; padding-right: 1em; text-align: center; vertical-align: top\">1</td>\n",
       "        <td style=\"padding-left: 1em; padding-right: 1em; text-align: center; vertical-align: top\">Rombauer Chardonnay 2014</td>\n",
       "        <td style=\"padding-left: 1em; padding-right: 1em; text-align: center; vertical-align: top\">36.0</td>\n",
       "        <td style=\"padding-left: 1em; padding-right: 1em; text-align: center; vertical-align: top\">34.99</td>\n",
       "        <td style=\"padding-left: 1em; padding-right: 1em; text-align: center; vertical-align: top\">no pic</td>\n",
       "        <td style=\"padding-left: 1em; padding-right: 1em; text-align: center; vertical-align: top\">{'hgoodstein': ('Love<br>this chardonnay! Best ...</td>\n",
       "    </tr>\n",
       "    <tr>\n",
       "        <td style=\"padding-left: 1em; padding-right: 1em; text-align: center; vertical-align: top\">2</td>\n",
       "        <td style=\"padding-left: 1em; padding-right: 1em; text-align: center; vertical-align: top\">Tenuta San Guido<br>Sassicaia 2012 ...</td>\n",
       "        <td style=\"padding-left: 1em; padding-right: 1em; text-align: center; vertical-align: top\">235.0</td>\n",
       "        <td style=\"padding-left: 1em; padding-right: 1em; text-align: center; vertical-align: top\">189.0</td>\n",
       "        <td style=\"padding-left: 1em; padding-right: 1em; text-align: center; vertical-align: top\">no pic</td>\n",
       "        <td style=\"padding-left: 1em; padding-right: 1em; text-align: center; vertical-align: top\">None</td>\n",
       "    </tr>\n",
       "    <tr>\n",
       "        <td style=\"padding-left: 1em; padding-right: 1em; text-align: center; vertical-align: top\">3</td>\n",
       "        <td style=\"padding-left: 1em; padding-right: 1em; text-align: center; vertical-align: top\">Clarendon Hills Sandown<br>Cabernet Sauvignon 2010 ...</td>\n",
       "        <td style=\"padding-left: 1em; padding-right: 1em; text-align: center; vertical-align: top\">45.0</td>\n",
       "        <td style=\"padding-left: 1em; padding-right: 1em; text-align: center; vertical-align: top\">29.99</td>\n",
       "        <td style=\"padding-left: 1em; padding-right: 1em; text-align: center; vertical-align: top\">no pic</td>\n",
       "        <td style=\"padding-left: 1em; padding-right: 1em; text-align: center; vertical-align: top\">{'anonymous1431286300':<br>('', '2'), ...</td>\n",
       "    </tr>\n",
       "    <tr>\n",
       "        <td style=\"padding-left: 1em; padding-right: 1em; text-align: center; vertical-align: top\">4</td>\n",
       "        <td style=\"padding-left: 1em; padding-right: 1em; text-align: center; vertical-align: top\">Silver Oak Alexander<br>Valley Cabernet Sauvi ...</td>\n",
       "        <td style=\"padding-left: 1em; padding-right: 1em; text-align: center; vertical-align: top\">45.0</td>\n",
       "        <td style=\"padding-left: 1em; padding-right: 1em; text-align: center; vertical-align: top\">None</td>\n",
       "        <td style=\"padding-left: 1em; padding-right: 1em; text-align: center; vertical-align: top\">no pic</td>\n",
       "        <td style=\"padding-left: 1em; padding-right: 1em; text-align: center; vertical-align: top\">{'RedPill': ('', '1'),<br>'sherin_sruthi': ('', ...</td>\n",
       "    </tr>\n",
       "    <tr>\n",
       "        <td style=\"padding-left: 1em; padding-right: 1em; text-align: center; vertical-align: top\">5</td>\n",
       "        <td style=\"padding-left: 1em; padding-right: 1em; text-align: center; vertical-align: top\">Chateau Lafite-Rothschild<br>2000 ...</td>\n",
       "        <td style=\"padding-left: 1em; padding-right: 1em; text-align: center; vertical-align: top\">None</td>\n",
       "        <td style=\"padding-left: 1em; padding-right: 1em; text-align: center; vertical-align: top\">None</td>\n",
       "        <td style=\"padding-left: 1em; padding-right: 1em; text-align: center; vertical-align: top\">http://cache.wine.com/lab<br>els/42783l.jpg ...</td>\n",
       "        <td style=\"padding-left: 1em; padding-right: 1em; text-align: center; vertical-align: top\">{'DrDon': ('', '5'),<br>'jeevasurya1': ('', ' ...</td>\n",
       "    </tr>\n",
       "    <tr>\n",
       "        <td style=\"padding-left: 1em; padding-right: 1em; text-align: center; vertical-align: top\">6</td>\n",
       "        <td style=\"padding-left: 1em; padding-right: 1em; text-align: center; vertical-align: top\">Clos du Val Cabernet<br>Sauvignon 2013 ...</td>\n",
       "        <td style=\"padding-left: 1em; padding-right: 1em; text-align: center; vertical-align: top\">38.0</td>\n",
       "        <td style=\"padding-left: 1em; padding-right: 1em; text-align: center; vertical-align: top\">29.99</td>\n",
       "        <td style=\"padding-left: 1em; padding-right: 1em; text-align: center; vertical-align: top\">no pic</td>\n",
       "        <td style=\"padding-left: 1em; padding-right: 1em; text-align: center; vertical-align: top\">{'anonymous346739964':<br>('', '5'), ...</td>\n",
       "    </tr>\n",
       "    <tr>\n",
       "        <td style=\"padding-left: 1em; padding-right: 1em; text-align: center; vertical-align: top\">7</td>\n",
       "        <td style=\"padding-left: 1em; padding-right: 1em; text-align: center; vertical-align: top\">Valdicava Brunello di<br>Montalcino 2010 ...</td>\n",
       "        <td style=\"padding-left: 1em; padding-right: 1em; text-align: center; vertical-align: top\">75.0</td>\n",
       "        <td style=\"padding-left: 1em; padding-right: 1em; text-align: center; vertical-align: top\">None</td>\n",
       "        <td style=\"padding-left: 1em; padding-right: 1em; text-align: center; vertical-align: top\">no pic</td>\n",
       "        <td style=\"padding-left: 1em; padding-right: 1em; text-align: center; vertical-align: top\">None</td>\n",
       "    </tr>\n",
       "    <tr>\n",
       "        <td style=\"padding-left: 1em; padding-right: 1em; text-align: center; vertical-align: top\">8</td>\n",
       "        <td style=\"padding-left: 1em; padding-right: 1em; text-align: center; vertical-align: top\">Duckhorn Napa Valley<br>Cabernet Sauvignon 2012 ...</td>\n",
       "        <td style=\"padding-left: 1em; padding-right: 1em; text-align: center; vertical-align: top\">72.0</td>\n",
       "        <td style=\"padding-left: 1em; padding-right: 1em; text-align: center; vertical-align: top\">69.99</td>\n",
       "        <td style=\"padding-left: 1em; padding-right: 1em; text-align: center; vertical-align: top\">no pic</td>\n",
       "        <td style=\"padding-left: 1em; padding-right: 1em; text-align: center; vertical-align: top\">None</td>\n",
       "    </tr>\n",
       "    <tr>\n",
       "        <td style=\"padding-left: 1em; padding-right: 1em; text-align: center; vertical-align: top\">9</td>\n",
       "        <td style=\"padding-left: 1em; padding-right: 1em; text-align: center; vertical-align: top\">Stag's Leap Wine Cellars<br>Cask 23 Cabernet ...</td>\n",
       "        <td style=\"padding-left: 1em; padding-right: 1em; text-align: center; vertical-align: top\">165.0</td>\n",
       "        <td style=\"padding-left: 1em; padding-right: 1em; text-align: center; vertical-align: top\">None</td>\n",
       "        <td style=\"padding-left: 1em; padding-right: 1em; text-align: center; vertical-align: top\">no pic</td>\n",
       "        <td style=\"padding-left: 1em; padding-right: 1em; text-align: center; vertical-align: top\">{'anonymous519829852':<br>('', '1')} ...</td>\n",
       "    </tr>\n",
       "</table>\n",
       "<table frame=\"box\" rules=\"cols\">\n",
       "    <tr>\n",
       "        <th style=\"padding-left: 1em; padding-right: 1em; text-align: center\">wm_notes</th>\n",
       "        <th style=\"padding-left: 1em; padding-right: 1em; text-align: center\">winery</th>\n",
       "        <th style=\"padding-left: 1em; padding-right: 1em; text-align: center\">lat</th>\n",
       "        <th style=\"padding-left: 1em; padding-right: 1em; text-align: center\">long</th>\n",
       "        <th style=\"padding-left: 1em; padding-right: 1em; text-align: center\">year</th>\n",
       "    </tr>\n",
       "    <tr>\n",
       "        <td style=\"padding-left: 1em; padding-right: 1em; text-align: center; vertical-align: top\">Winemaker's Notes<br>Enticing aromas jump out ...</td>\n",
       "        <td style=\"padding-left: 1em; padding-right: 1em; text-align: center; vertical-align: top\">Jamieson Ranch Vineyards<br>is the southernmost ...</td>\n",
       "        <td style=\"padding-left: 1em; padding-right: 1em; text-align: center; vertical-align: top\">38.220417</td>\n",
       "        <td style=\"padding-left: 1em; padding-right: 1em; text-align: center; vertical-align: top\">-122.228952</td>\n",
       "        <td style=\"padding-left: 1em; padding-right: 1em; text-align: center; vertical-align: top\">2013</td>\n",
       "    </tr>\n",
       "    <tr>\n",
       "        <td style=\"padding-left: 1em; padding-right: 1em; text-align: center; vertical-align: top\">Winemaker's Notes Juicy<br>peaches-- pineapple and ...</td>\n",
       "        <td style=\"padding-left: 1em; padding-right: 1em; text-align: center; vertical-align: top\">Rombauer Vineyards was<br>founded in 1982 by ...</td>\n",
       "        <td style=\"padding-left: 1em; padding-right: 1em; text-align: center; vertical-align: top\">38.546127</td>\n",
       "        <td style=\"padding-left: 1em; padding-right: 1em; text-align: center; vertical-align: top\">-122.49276</td>\n",
       "        <td style=\"padding-left: 1em; padding-right: 1em; text-align: center; vertical-align: top\">2014</td>\n",
       "    </tr>\n",
       "    <tr>\n",
       "        <td style=\"padding-left: 1em; padding-right: 1em; text-align: center; vertical-align: top\">Winemaker's Notes<br>Intense-- concentrated ...</td>\n",
       "        <td style=\"padding-left: 1em; padding-right: 1em; text-align: center; vertical-align: top\">The Tenuta San Guido is a<br>7--500-acre estate ...</td>\n",
       "        <td style=\"padding-left: 1em; padding-right: 1em; text-align: center; vertical-align: top\">43.225883</td>\n",
       "        <td style=\"padding-left: 1em; padding-right: 1em; text-align: center; vertical-align: top\">10.563555</td>\n",
       "        <td style=\"padding-left: 1em; padding-right: 1em; text-align: center; vertical-align: top\">2012</td>\n",
       "    </tr>\n",
       "    <tr>\n",
       "        <td style=\"padding-left: 1em; padding-right: 1em; text-align: center; vertical-align: top\">Winemaker's Notes The<br>Clarendon Hills Sandown ...</td>\n",
       "        <td style=\"padding-left: 1em; padding-right: 1em; text-align: center; vertical-align: top\">Clarendon Hills is a<br>small family-run winery ...</td>\n",
       "        <td style=\"padding-left: 1em; padding-right: 1em; text-align: center; vertical-align: top\">-34.919913</td>\n",
       "        <td style=\"padding-left: 1em; padding-right: 1em; text-align: center; vertical-align: top\">138.654506</td>\n",
       "        <td style=\"padding-left: 1em; padding-right: 1em; text-align: center; vertical-align: top\">2010</td>\n",
       "    </tr>\n",
       "    <tr>\n",
       "        <td style=\"padding-left: 1em; padding-right: 1em; text-align: center; vertical-align: top\">Winemaker's Notes The<br>2011 Alexander Valley ...</td>\n",
       "        <td style=\"padding-left: 1em; padding-right: 1em; text-align: center; vertical-align: top\">Great wine is meant to be<br>savored with family and ...</td>\n",
       "        <td style=\"padding-left: 1em; padding-right: 1em; text-align: center; vertical-align: top\">38.741804</td>\n",
       "        <td style=\"padding-left: 1em; padding-right: 1em; text-align: center; vertical-align: top\">-122.955029</td>\n",
       "        <td style=\"padding-left: 1em; padding-right: 1em; text-align: center; vertical-align: top\">2011</td>\n",
       "    </tr>\n",
       "    <tr>\n",
       "        <td style=\"padding-left: 1em; padding-right: 1em; text-align: center; vertical-align: top\">Winemaker's Notes A<br>relatively early growing ...</td>\n",
       "        <td style=\"padding-left: 1em; padding-right: 1em; text-align: center; vertical-align: top\">Chateau Lafite-Rothschild<br>is perhaps the most ...</td>\n",
       "        <td style=\"padding-left: 1em; padding-right: 1em; text-align: center; vertical-align: top\">45.224217</td>\n",
       "        <td style=\"padding-left: 1em; padding-right: 1em; text-align: center; vertical-align: top\">-0.772444</td>\n",
       "        <td style=\"padding-left: 1em; padding-right: 1em; text-align: center; vertical-align: top\">2000</td>\n",
       "    </tr>\n",
       "    <tr>\n",
       "        <td style=\"padding-left: 1em; padding-right: 1em; text-align: center; vertical-align: top\">Winemaker's Notes This<br>wine delivers everything ...</td>\n",
       "        <td style=\"padding-left: 1em; padding-right: 1em; text-align: center; vertical-align: top\">Clos Du Val-- French for<br>small vineyard estate of ...</td>\n",
       "        <td style=\"padding-left: 1em; padding-right: 1em; text-align: center; vertical-align: top\">38.387141</td>\n",
       "        <td style=\"padding-left: 1em; padding-right: 1em; text-align: center; vertical-align: top\">-122.313005</td>\n",
       "        <td style=\"padding-left: 1em; padding-right: 1em; text-align: center; vertical-align: top\">2013</td>\n",
       "    </tr>\n",
       "    <tr>\n",
       "        <td style=\"padding-left: 1em; padding-right: 1em; text-align: center; vertical-align: top\">Winemaker's Notes<br>Valdicava philosophy is ...</td>\n",
       "        <td style=\"padding-left: 1em; padding-right: 1em; text-align: center; vertical-align: top\">Montalcino is home to the<br>opulent of the Sangio ...</td>\n",
       "        <td style=\"padding-left: 1em; padding-right: 1em; text-align: center; vertical-align: top\">43.077656</td>\n",
       "        <td style=\"padding-left: 1em; padding-right: 1em; text-align: center; vertical-align: top\">11.491754</td>\n",
       "        <td style=\"padding-left: 1em; padding-right: 1em; text-align: center; vertical-align: top\">2010</td>\n",
       "    </tr>\n",
       "    <tr>\n",
       "        <td style=\"padding-left: 1em; padding-right: 1em; text-align: center; vertical-align: top\">Winemaker's Notes Both<br>generous and graceful-- ...</td>\n",
       "        <td style=\"padding-left: 1em; padding-right: 1em; text-align: center; vertical-align: top\">Founded in 1976--<br>Duckhorn Vineyards has ...</td>\n",
       "        <td style=\"padding-left: 1em; padding-right: 1em; text-align: center; vertical-align: top\">38.529416</td>\n",
       "        <td style=\"padding-left: 1em; padding-right: 1em; text-align: center; vertical-align: top\">-122.490612</td>\n",
       "        <td style=\"padding-left: 1em; padding-right: 1em; text-align: center; vertical-align: top\">2012</td>\n",
       "    </tr>\n",
       "    <tr>\n",
       "        <td style=\"padding-left: 1em; padding-right: 1em; text-align: center; vertical-align: top\">Winemaker's Notes The<br>2012 CASK 23 combines ...</td>\n",
       "        <td style=\"padding-left: 1em; padding-right: 1em; text-align: center; vertical-align: top\">Considered one of the<br>first growths  of Napa ...</td>\n",
       "        <td style=\"padding-left: 1em; padding-right: 1em; text-align: center; vertical-align: top\">38.398864</td>\n",
       "        <td style=\"padding-left: 1em; padding-right: 1em; text-align: center; vertical-align: top\">-122.325167</td>\n",
       "        <td style=\"padding-left: 1em; padding-right: 1em; text-align: center; vertical-align: top\">2012</td>\n",
       "    </tr>\n",
       "</table>\n",
       "<table frame=\"box\" rules=\"cols\">\n",
       "    <tr>\n",
       "        <th style=\"padding-left: 1em; padding-right: 1em; text-align: center\">url</th>\n",
       "        <th style=\"padding-left: 1em; padding-right: 1em; text-align: center\">past_acclaim</th>\n",
       "        <th style=\"padding-left: 1em; padding-right: 1em; text-align: center\">sim_wine</th>\n",
       "        <th style=\"padding-left: 1em; padding-right: 1em; text-align: center\">curr_acclaim</th>\n",
       "    </tr>\n",
       "    <tr>\n",
       "        <td style=\"padding-left: 1em; padding-right: 1em; text-align: center; vertical-align: top\">http://www.wine.com/v6<br>/Jamieson-Ranch- ...</td>\n",
       "        <td style=\"padding-left: 1em; padding-right: 1em; text-align: center; vertical-align: top\">{'2012': {'Tasting Panel<br>92 point rating': [[' ...</td>\n",
       "        <td style=\"padding-left: 1em; padding-right: 1em; text-align: center; vertical-align: top\">{'Cabernet Sauvignon':<br>'http://www.wine.com/v6 ...</td>\n",
       "        <td style=\"padding-left: 1em; padding-right: 1em; text-align: center; vertical-align: top\">{'Tasting Panel 92 point<br>rating': [['92', 'TP']], ...</td>\n",
       "    </tr>\n",
       "    <tr>\n",
       "        <td style=\"padding-left: 1em; padding-right: 1em; text-align: center; vertical-align: top\">http://www.wine.com/v6<br>/Rombauer-Chardonnay- ...</td>\n",
       "        <td style=\"padding-left: 1em; padding-right: 1em; text-align: center; vertical-align: top\">{'1999<br>': {'Wine Spectator 88 ...</td>\n",
       "        <td style=\"padding-left: 1em; padding-right: 1em; text-align: center; vertical-align: top\">{'Style: Rich &amp; Creamy':<br>'http://www.wine.com/v6 ...</td>\n",
       "        <td style=\"padding-left: 1em; padding-right: 1em; text-align: center; vertical-align: top\">{'Wilfred Wong of<br>Wine.com 92 point ...</td>\n",
       "    </tr>\n",
       "    <tr>\n",
       "        <td style=\"padding-left: 1em; padding-right: 1em; text-align: center; vertical-align: top\">http://www.wine.com/v6<br>/Tenuta-San-Guido-Sas ...</td>\n",
       "        <td style=\"padding-left: 1em; padding-right: 1em; text-align: center; vertical-align: top\">{'1990': {'The Wine<br>Advocate 94 point ...</td>\n",
       "        <td style=\"padding-left: 1em; padding-right: 1em; text-align: center; vertical-align: top\">{'Tenuta San Guido<br>Winery': ...</td>\n",
       "        <td style=\"padding-left: 1em; padding-right: 1em; text-align: center; vertical-align: top\">{'Wine Enthusiast 99<br>point rating': [['99', ...</td>\n",
       "    </tr>\n",
       "    <tr>\n",
       "        <td style=\"padding-left: 1em; padding-right: 1em; text-align: center; vertical-align: top\">http://www.wine.com/v6<br>/Clarendon-Hills-Sand ...</td>\n",
       "        <td style=\"padding-left: 1em; padding-right: 1em; text-align: center; vertical-align: top\">{'1998': {'Wine &amp; Spirits<br>90 point rating': [[' ...</td>\n",
       "        <td style=\"padding-left: 1em; padding-right: 1em; text-align: center; vertical-align: top\">{'Cabernet Sauvignon':<br>'http://www.wine.com/v6 ...</td>\n",
       "        <td style=\"padding-left: 1em; padding-right: 1em; text-align: center; vertical-align: top\">{'The Wine Advocate 90<br>point rating': [['90', ...</td>\n",
       "    </tr>\n",
       "    <tr>\n",
       "        <td style=\"padding-left: 1em; padding-right: 1em; text-align: center; vertical-align: top\">http://www.wine.com/v6<br>/Silver-Oak-Alexander- ...</td>\n",
       "        <td style=\"padding-left: 1em; padding-right: 1em; text-align: center; vertical-align: top\">{'1991': {'Wine Spectator<br>91 point rating': [[' ...</td>\n",
       "        <td style=\"padding-left: 1em; padding-right: 1em; text-align: center; vertical-align: top\">{'Cabernet Sauvignon':<br>'http://www.wine.com/v6 ...</td>\n",
       "        <td style=\"padding-left: 1em; padding-right: 1em; text-align: center; vertical-align: top\">{'Wilfred Wong of<br>Wine.com 91 point ...</td>\n",
       "    </tr>\n",
       "    <tr>\n",
       "        <td style=\"padding-left: 1em; padding-right: 1em; text-align: center; vertical-align: top\">http://www.wine.com/v6<br>/Chateau-Lafite-Roths ...</td>\n",
       "        <td style=\"padding-left: 1em; padding-right: 1em; text-align: center; vertical-align: top\">{'1986': {'The Wine<br>Advocate 100 point ...</td>\n",
       "        <td style=\"padding-left: 1em; padding-right: 1em; text-align: center; vertical-align: top\">{'Pauillac, Bordeaux,<br>France': 'http://www. ...</td>\n",
       "        <td style=\"padding-left: 1em; padding-right: 1em; text-align: center; vertical-align: top\">{'Wine Spectator 100<br>point rating': [['100', ...</td>\n",
       "    </tr>\n",
       "    <tr>\n",
       "        <td style=\"padding-left: 1em; padding-right: 1em; text-align: center; vertical-align: top\">http://www.wine.com/v6<br>/Clos-du-Val-Cabernet ...</td>\n",
       "        <td style=\"padding-left: 1em; padding-right: 1em; text-align: center; vertical-align: top\">{'2001': {'Wine<br>Enthusiast 90 point ...</td>\n",
       "        <td style=\"padding-left: 1em; padding-right: 1em; text-align: center; vertical-align: top\">{'Cabernet Sauvignon':<br>'http://www.wine.com/v6 ...</td>\n",
       "        <td style=\"padding-left: 1em; padding-right: 1em; text-align: center; vertical-align: top\">{'James Suckling 92 point<br>rating': [['92', 'JS']], ...</td>\n",
       "    </tr>\n",
       "    <tr>\n",
       "        <td style=\"padding-left: 1em; padding-right: 1em; text-align: center; vertical-align: top\">http://www.wine.com/v6<br>/Valdicava-Brunello-d ...</td>\n",
       "        <td style=\"padding-left: 1em; padding-right: 1em; text-align: center; vertical-align: top\">{'1997': {'Wine Spectator<br>94 point rating': [[' ...</td>\n",
       "        <td style=\"padding-left: 1em; padding-right: 1em; text-align: center; vertical-align: top\">{'Valdicava Winery': 'htt<br>p://www.wine.com/v6/V ...</td>\n",
       "        <td style=\"padding-left: 1em; padding-right: 1em; text-align: center; vertical-align: top\">{'James Suckling 99 point<br>rating': [['99', 'JS']], ...</td>\n",
       "    </tr>\n",
       "    <tr>\n",
       "        <td style=\"padding-left: 1em; padding-right: 1em; text-align: center; vertical-align: top\">http://www.wine.com/v6<br>/Duckhorn-Napa-Valley- ...</td>\n",
       "        <td style=\"padding-left: 1em; padding-right: 1em; text-align: center; vertical-align: top\">{'1990': {'Wine Spectator<br>95 point rating': [[' ...</td>\n",
       "        <td style=\"padding-left: 1em; padding-right: 1em; text-align: center; vertical-align: top\">{'Cabernet Sauvignon':<br>'http://www.wine.com/v6 ...</td>\n",
       "        <td style=\"padding-left: 1em; padding-right: 1em; text-align: center; vertical-align: top\">{'Wilfred Wong of<br>Wine.com 92 point ...</td>\n",
       "    </tr>\n",
       "    <tr>\n",
       "        <td style=\"padding-left: 1em; padding-right: 1em; text-align: center; vertical-align: top\">http://www.wine.com/v6<br>/Stags-Leap-Wine-Cell ...</td>\n",
       "        <td style=\"padding-left: 1em; padding-right: 1em; text-align: center; vertical-align: top\">{'1999': {'Wine Spectator<br>93 point rating': [[' ...</td>\n",
       "        <td style=\"padding-left: 1em; padding-right: 1em; text-align: center; vertical-align: top\">{'Cabernet Sauvignon':<br>'http://www.wine.com/v6 ...</td>\n",
       "        <td style=\"padding-left: 1em; padding-right: 1em; text-align: center; vertical-align: top\">{'The Wine Advocate 100<br>point rating': [['100', ...</td>\n",
       "    </tr>\n",
       "</table>\n",
       "<table frame=\"box\" rules=\"cols\">\n",
       "    <tr>\n",
       "        <th style=\"padding-left: 1em; padding-right: 1em; text-align: center\">rev_notes</th>\n",
       "        <th style=\"padding-left: 1em; padding-right: 1em; text-align: center\">bow_wmn</th>\n",
       "        <th style=\"padding-left: 1em; padding-right: 1em; text-align: center\">tfidf_wmn</th>\n",
       "        <th style=\"padding-left: 1em; padding-right: 1em; text-align: center\">Style</th>\n",
       "    </tr>\n",
       "    <tr>\n",
       "        <td style=\"padding-left: 1em; padding-right: 1em; text-align: center; vertical-align: top\">{'Wine Enthusiast': 'A<br>crisp bouquet of orange ...</td>\n",
       "        <td style=\"padding-left: 1em; padding-right: 1em; text-align: center; vertical-align: top\">{'tannins': 1,<br>'beautiful': 1, 'pala ...</td>\n",
       "        <td style=\"padding-left: 1em; padding-right: 1em; text-align: center; vertical-align: top\">{'tannins':<br>1.8164677264964983, ...</td>\n",
       "        <td style=\"padding-left: 1em; padding-right: 1em; text-align: center; vertical-align: top\">None</td>\n",
       "    </tr>\n",
       "    <tr>\n",
       "        <td style=\"padding-left: 1em; padding-right: 1em; text-align: center; vertical-align: top\">{'Wilfred Wong of<br>Wine.com': 'It exhibits ...</td>\n",
       "        <td style=\"padding-left: 1em; padding-right: 1em; text-align: center; vertical-align: top\">{'and': 5, 'spice--': 1,<br>'followed': 1, 'apple': ...</td>\n",
       "        <td style=\"padding-left: 1em; padding-right: 1em; text-align: center; vertical-align: top\">{'and':<br>0.35100233030439065, ...</td>\n",
       "        <td style=\"padding-left: 1em; padding-right: 1em; text-align: center; vertical-align: top\">Rich &amp; Creamy</td>\n",
       "    </tr>\n",
       "    <tr>\n",
       "        <td style=\"padding-left: 1em; padding-right: 1em; text-align: center; vertical-align: top\">{'Wine Enthusiast': 'One<br>of Italys most iconic ...</td>\n",
       "        <td style=\"padding-left: 1em; padding-right: 1em; text-align: center; vertical-align: top\">{'and': 3, 'dense--': 1,<br>'is': 1, 'in': 1, ...</td>\n",
       "        <td style=\"padding-left: 1em; padding-right: 1em; text-align: center; vertical-align: top\">{'and':<br>0.21060139818263438, ...</td>\n",
       "        <td style=\"padding-left: 1em; padding-right: 1em; text-align: center; vertical-align: top\">Big &amp; Bold</td>\n",
       "    </tr>\n",
       "    <tr>\n",
       "        <td style=\"padding-left: 1em; padding-right: 1em; text-align: center; vertical-align: top\">{'Australian Wine<br>Companion': 'Showing  ...</td>\n",
       "        <td style=\"padding-left: 1em; padding-right: 1em; text-align: center; vertical-align: top\">{'tannins': 1, 'and': 6,<br>'is': 1, 'flicker': 1, ...</td>\n",
       "        <td style=\"padding-left: 1em; padding-right: 1em; text-align: center; vertical-align: top\">{'tannins':<br>1.8164677264964983, ...</td>\n",
       "        <td style=\"padding-left: 1em; padding-right: 1em; text-align: center; vertical-align: top\">Big &amp; Bold</td>\n",
       "    </tr>\n",
       "    <tr>\n",
       "        <td style=\"padding-left: 1em; padding-right: 1em; text-align: center; vertical-align: top\">{'Wilfred Wong of<br>Wine.com': 'One of the ...</td>\n",
       "        <td style=\"padding-left: 1em; padding-right: 1em; text-align: center; vertical-align: top\">{'palate--': 1, 'being':<br>1, 'verdot.': 1, ...</td>\n",
       "        <td style=\"padding-left: 1em; padding-right: 1em; text-align: center; vertical-align: top\">{'palate--':<br>2.2766416985020217, ...</td>\n",
       "        <td style=\"padding-left: 1em; padding-right: 1em; text-align: center; vertical-align: top\">Big &amp; Bold</td>\n",
       "    </tr>\n",
       "    <tr>\n",
       "        <td style=\"padding-left: 1em; padding-right: 1em; text-align: center; vertical-align: top\">{'Wine Enthusiast':<br>'Perhaps of all the f ...</td>\n",
       "        <td style=\"padding-left: 1em; padding-right: 1em; text-align: center; vertical-align: top\">{'and': 7, 'summer': 1,<br>'palate--': 1, ...</td>\n",
       "        <td style=\"padding-left: 1em; padding-right: 1em; text-align: center; vertical-align: top\">{'and':<br>0.49140326242614685, ...</td>\n",
       "        <td style=\"padding-left: 1em; padding-right: 1em; text-align: center; vertical-align: top\">Big &amp; Bold</td>\n",
       "    </tr>\n",
       "    <tr>\n",
       "        <td style=\"padding-left: 1em; padding-right: 1em; text-align: center; vertical-align: top\">{'James Suckling': 'A<br>silky and tight red with ...</td>\n",
       "        <td style=\"padding-left: 1em; padding-right: 1em; text-align: center; vertical-align: top\">{'tannins': 1, 'and': 5,<br>'spices--': 1, 'inky' ...</td>\n",
       "        <td style=\"padding-left: 1em; padding-right: 1em; text-align: center; vertical-align: top\">{'tannins':<br>1.8164677264964983, ...</td>\n",
       "        <td style=\"padding-left: 1em; padding-right: 1em; text-align: center; vertical-align: top\">Big &amp; Bold</td>\n",
       "    </tr>\n",
       "    <tr>\n",
       "        <td style=\"padding-left: 1em; padding-right: 1em; text-align: center; vertical-align: top\">{'James Suckling':<br>'Absolutely stunning ...</td>\n",
       "        <td style=\"padding-left: 1em; padding-right: 1em; text-align: center; vertical-align: top\">{'and': 4, 'palate--': 1,<br>'traditions': 1, 'ripe': ...</td>\n",
       "        <td style=\"padding-left: 1em; padding-right: 1em; text-align: center; vertical-align: top\">{'and':<br>0.2808018642435125, ...</td>\n",
       "        <td style=\"padding-left: 1em; padding-right: 1em; text-align: center; vertical-align: top\">None</td>\n",
       "    </tr>\n",
       "    <tr>\n",
       "        <td style=\"padding-left: 1em; padding-right: 1em; text-align: center; vertical-align: top\">{'James Suckling':<br>'Aromas of black ...</td>\n",
       "        <td style=\"padding-left: 1em; padding-right: 1em; text-align: center; vertical-align: top\">{'and': 4, 'tannins': 1,<br>'palate--': 1, 'weight': ...</td>\n",
       "        <td style=\"padding-left: 1em; padding-right: 1em; text-align: center; vertical-align: top\">{'and':<br>0.2808018642435125, ...</td>\n",
       "        <td style=\"padding-left: 1em; padding-right: 1em; text-align: center; vertical-align: top\">None</td>\n",
       "    </tr>\n",
       "    <tr>\n",
       "        <td style=\"padding-left: 1em; padding-right: 1em; text-align: center; vertical-align: top\">{'The Wine Advocate':<br>'The spectacular 2012 ...</td>\n",
       "        <td style=\"padding-left: 1em; padding-right: 1em; text-align: center; vertical-align: top\">{'expansive--': 1,<br>'help': 1, 'over': 1, ...</td>\n",
       "        <td style=\"padding-left: 1em; padding-right: 1em; text-align: center; vertical-align: top\">{'expansive--':<br>6.335054251498059, ...</td>\n",
       "        <td style=\"padding-left: 1em; padding-right: 1em; text-align: center; vertical-align: top\">Big &amp; Bold</td>\n",
       "    </tr>\n",
       "</table>\n",
       "[10 rows x 19 columns]<br/>\n",
       "</div>"
      ],
      "text/plain": [
       "Columns:\n",
       "\tid\tint\n",
       "\tname\tstr\n",
       "\tprice\tfloat\n",
       "\tsales\tfloat\n",
       "\timg\tstr\n",
       "\treviews\tstr\n",
       "\twm_notes\tstr\n",
       "\twinery\tstr\n",
       "\tlat\tfloat\n",
       "\tlong\tfloat\n",
       "\tyear\tint\n",
       "\turl\tstr\n",
       "\tpast_acclaim\tdict\n",
       "\tsim_wine\tdict\n",
       "\tcurr_acclaim\tdict\n",
       "\trev_notes\tdict\n",
       "\tbow_wmn\tdict\n",
       "\ttfidf_wmn\tdict\n",
       "\tStyle\tstr\n",
       "\n",
       "Rows: 10\n",
       "\n",
       "Data:\n",
       "+----+--------------------------------+-------+-------+\n",
       "| id |              name              | price | sales |\n",
       "+----+--------------------------------+-------+-------+\n",
       "| 0  | Jamieson Ranch Vineyards D...  |  60.0 | 34.99 |\n",
       "| 1  |    Rombauer Chardonnay 2014    |  36.0 | 34.99 |\n",
       "| 2  | Tenuta San Guido Sassicaia...  | 235.0 | 189.0 |\n",
       "| 3  | Clarendon Hills Sandown Ca...  |  45.0 | 29.99 |\n",
       "| 4  | Silver Oak Alexander Valle...  |  45.0 |  None |\n",
       "| 5  | Chateau Lafite-Rothschild 2000 |  None |  None |\n",
       "| 6  | Clos du Val Cabernet Sauvi...  |  38.0 | 29.99 |\n",
       "| 7  | Valdicava Brunello di Mont...  |  75.0 |  None |\n",
       "| 8  | Duckhorn Napa Valley Caber...  |  72.0 | 69.99 |\n",
       "| 9  | Stag's Leap Wine Cellars C...  | 165.0 |  None |\n",
       "+----+--------------------------------+-------+-------+\n",
       "+-------------------------------+-------------------------------+\n",
       "|              img              |            reviews            |\n",
       "+-------------------------------+-------------------------------+\n",
       "| http://cache.wine.com/labe... | {'anonymous1914596960': ('... |\n",
       "|             no pic            | {'hgoodstein': ('Love this... |\n",
       "|             no pic            |              None             |\n",
       "|             no pic            | {'anonymous1431286300': ('... |\n",
       "|             no pic            | {'RedPill': ('', '1'), 'sh... |\n",
       "| http://cache.wine.com/labe... | {'DrDon': ('', '5'), 'jeev... |\n",
       "|             no pic            | {'anonymous346739964': (''... |\n",
       "|             no pic            |              None             |\n",
       "|             no pic            |              None             |\n",
       "|             no pic            | {'anonymous519829852': (''... |\n",
       "+-------------------------------+-------------------------------+\n",
       "+-------------------------------+-------------------------------+------------+\n",
       "|            wm_notes           |             winery            |    lat     |\n",
       "+-------------------------------+-------------------------------+------------+\n",
       "| Winemaker's Notes Enticing... | Jamieson Ranch Vineyards i... | 38.220417  |\n",
       "| Winemaker's Notes Juicy pe... | Rombauer Vineyards was fou... | 38.546127  |\n",
       "| Winemaker's Notes Intense-... | The Tenuta San Guido is a ... | 43.225883  |\n",
       "| Winemaker's Notes The Clar... | Clarendon Hills is a small... | -34.919913 |\n",
       "| Winemaker's Notes The 2011... | Great wine is meant to be ... | 38.741804  |\n",
       "| Winemaker's Notes A relati... | Chateau Lafite-Rothschild ... | 45.224217  |\n",
       "| Winemaker's Notes This win... | Clos Du Val-- French for  ... | 38.387141  |\n",
       "| Winemaker's Notes Valdicav... | Montalcino is home to the ... | 43.077656  |\n",
       "| Winemaker's Notes Both gen... | Founded in 1976-- Duckhorn... | 38.529416  |\n",
       "| Winemaker's Notes The 2012... | Considered one of the  fir... | 38.398864  |\n",
       "+-------------------------------+-------------------------------+------------+\n",
       "+-------------+------+-------------------------------+\n",
       "|     long    | year |              url              |\n",
       "+-------------+------+-------------------------------+\n",
       "| -122.228952 | 2013 | http://www.wine.com/v6/Jam... |\n",
       "|  -122.49276 | 2014 | http://www.wine.com/v6/Rom... |\n",
       "|  10.563555  | 2012 | http://www.wine.com/v6/Ten... |\n",
       "|  138.654506 | 2010 | http://www.wine.com/v6/Cla... |\n",
       "| -122.955029 | 2011 | http://www.wine.com/v6/Sil... |\n",
       "|  -0.772444  | 2000 | http://www.wine.com/v6/Cha... |\n",
       "| -122.313005 | 2013 | http://www.wine.com/v6/Clo... |\n",
       "|  11.491754  | 2010 | http://www.wine.com/v6/Val... |\n",
       "| -122.490612 | 2012 | http://www.wine.com/v6/Duc... |\n",
       "| -122.325167 | 2012 | http://www.wine.com/v6/Sta... |\n",
       "+-------------+------+-------------------------------+\n",
       "+-------------------------------+-------------------------------+\n",
       "|          past_acclaim         |            sim_wine           |\n",
       "+-------------------------------+-------------------------------+\n",
       "| {'2012': {'Tasting Panel 9... | {'Cabernet Sauvignon': 'ht... |\n",
       "| {'1999                    ... | {'Style: Rich & Creamy': '... |\n",
       "| {'1990': {'The Wine Advoca... | {'Tenuta San Guido Winery'... |\n",
       "| {'1998': {'Wine & Spirits ... | {'Cabernet Sauvignon': 'ht... |\n",
       "| {'1991': {'Wine Spectator ... | {'Cabernet Sauvignon': 'ht... |\n",
       "| {'1986': {'The Wine Advoca... | {'Pauillac, Bordeaux, Fran... |\n",
       "| {'2001': {'Wine Enthusiast... | {'Cabernet Sauvignon': 'ht... |\n",
       "| {'1997': {'Wine Spectator ... | {'Valdicava Winery': 'http... |\n",
       "| {'1990': {'Wine Spectator ... | {'Cabernet Sauvignon': 'ht... |\n",
       "| {'1999': {'Wine Spectator ... | {'Cabernet Sauvignon': 'ht... |\n",
       "+-------------------------------+-------------------------------+\n",
       "+-------------------------------+-------------------------------+\n",
       "|          curr_acclaim         |           rev_notes           |\n",
       "+-------------------------------+-------------------------------+\n",
       "| {'Tasting Panel 92 point r... | {'Wine Enthusiast': 'A cri... |\n",
       "| {'Wilfred Wong of Wine.com... | {'Wilfred Wong of Wine.com... |\n",
       "| {'Wine Enthusiast 99 point... | {'Wine Enthusiast': 'One o... |\n",
       "| {'The Wine Advocate 90 poi... | {'Australian Wine Companio... |\n",
       "| {'Wilfred Wong of Wine.com... | {'Wilfred Wong of Wine.com... |\n",
       "| {'Wine Spectator 100 point... | {'Wine Enthusiast': 'Perha... |\n",
       "| {'James Suckling 92 point ... | {'James Suckling': 'A silk... |\n",
       "| {'James Suckling 99 point ... | {'James Suckling': 'Absolu... |\n",
       "| {'Wilfred Wong of Wine.com... | {'James Suckling': 'Aromas... |\n",
       "| {'The Wine Advocate 100 po... | {'The Wine Advocate': 'The... |\n",
       "+-------------------------------+-------------------------------+\n",
       "+-------------------------------+-------------------------------+---------------+\n",
       "|            bow_wmn            |           tfidf_wmn           |     Style     |\n",
       "+-------------------------------+-------------------------------+---------------+\n",
       "| {'tannins': 1, 'beautiful'... | {'tannins': 1.816467726496... |      None     |\n",
       "| {'and': 5, 'spice--': 1, '... | {'and': 0.3510023303043906... | Rich & Creamy |\n",
       "| {'and': 3, 'dense--': 1, '... | {'and': 0.2106013981826343... |   Big & Bold  |\n",
       "| {'tannins': 1, 'and': 6, '... | {'tannins': 1.816467726496... |   Big & Bold  |\n",
       "| {'palate--': 1, 'being': 1... | {'palate--': 2.27664169850... |   Big & Bold  |\n",
       "| {'and': 7, 'summer': 1, 'p... | {'and': 0.4914032624261468... |   Big & Bold  |\n",
       "| {'tannins': 1, 'and': 5, '... | {'tannins': 1.816467726496... |   Big & Bold  |\n",
       "| {'and': 4, 'palate--': 1, ... | {'and': 0.2808018642435125... |      None     |\n",
       "| {'and': 4, 'tannins': 1, '... | {'and': 0.2808018642435125... |      None     |\n",
       "| {'expansive--': 1, 'help':... | {'expansive--': 6.33505425... |   Big & Bold  |\n",
       "+-------------------------------+-------------------------------+---------------+\n",
       "[10 rows x 19 columns]"
      ]
     },
     "execution_count": 148,
     "metadata": {},
     "output_type": "execute_result"
    }
   ],
   "source": [
    "#load head of wine table\n",
    "wine.head()"
   ]
  },
  {
   "cell_type": "markdown",
   "metadata": {},
   "source": [
    "## Cleaning the Data\n",
    "\n",
    "The wine data for this notebook has been collected by scraping a large online wine seller. The information collected is the wine name, price, picture, reviews of wine, wine maker's notes on wine, summary about winery, location of winery, year, past awards, current awards, similar wines, style, and customer reviews (see frame above for reference). As with any data science project the information is messy and needs to be cleaned (needs to convert things into a usable form; this could mean dropping, appending, combining, etc.) Anyway, we will not show the 'Fun and Exciting' cleaning procedure here and instead will show cleaned frames for the specified technique to be used."
   ]
  },
  {
   "cell_type": "markdown",
   "metadata": {},
   "source": [
    "## DBSCAN \n",
    "\n",
    "DSBCAN, short for Density-Based Spatial Clustering of Applications with Noise, is the most popular density-based clustering method. Density-based clustering algorithms attempt to capture our intuition that a cluster — a difficult term to define precisely — is a region of the data space where there are lots of points, surrounded by a region where there are few points. \n",
    "\n",
    "<b>DBSCAN</b> does this by partitioning the input data points into three types:\n",
    "<ul><li>Core points have a large number of other points within a given neighborhood</li>\n",
    "<li>Boundary points are within distance radius of a core point, but don't have sufficient neighbors of their own to be considered core.</li>\n",
    "<li>Noise points comprise the remainder of the data. These points have too few neighbors to be considered core points, and are further than distance radius from all core points.</li>\n",
    "</ul>\n",
    "\n",
    "Clusters are formed by connecting core points that are neighbors of each other, then assigning boundary points to their nearest core neighbor's cluster. Noise points are left unassigned. DBSCAN has the following advantages over K-means: clusters do not need to be know a priori, can find more flexible shapes comapred to the sphereical shapes in k-means, and finds and labels outliers.\n",
    "\n",
    "### First attempt with DBSCAN on data"
   ]
  },
  {
   "cell_type": "code",
   "execution_count": 149,
   "metadata": {
    "collapsed": true
   },
   "outputs": [],
   "source": [
    "#load cleaned dataframe for dbscan\n",
    "sf=gl.SFrame('./fordbscanbasic.gl/')\n",
    "\n",
    "#drop words wine & fruit\n",
    "sf['tfidf']=sf['tfidf'].dict_trim_by_keys(['fruit','wine', 'winemaker','notes'])"
   ]
  },
  {
   "cell_type": "code",
   "execution_count": 150,
   "metadata": {
    "collapsed": false
   },
   "outputs": [
    {
     "data": {
      "text/html": [
       "<div style=\"max-height:1000px;max-width:1500px;overflow:auto;\"><table frame=\"box\" rules=\"cols\">\n",
       "    <tr>\n",
       "        <th style=\"padding-left: 1em; padding-right: 1em; text-align: center\">year</th>\n",
       "        <th style=\"padding-left: 1em; padding-right: 1em; text-align: center\">lat</th>\n",
       "        <th style=\"padding-left: 1em; padding-right: 1em; text-align: center\">long</th>\n",
       "        <th style=\"padding-left: 1em; padding-right: 1em; text-align: center\">ln_price</th>\n",
       "        <th style=\"padding-left: 1em; padding-right: 1em; text-align: center\">wmr</th>\n",
       "        <th style=\"padding-left: 1em; padding-right: 1em; text-align: center\">tfidf</th>\n",
       "    </tr>\n",
       "    <tr>\n",
       "        <td style=\"padding-left: 1em; padding-right: 1em; text-align: center; vertical-align: top\">2013</td>\n",
       "        <td style=\"padding-left: 1em; padding-right: 1em; text-align: center; vertical-align: top\">38.220417</td>\n",
       "        <td style=\"padding-left: 1em; padding-right: 1em; text-align: center; vertical-align: top\">-122.228952</td>\n",
       "        <td style=\"padding-left: 1em; padding-right: 1em; text-align: center; vertical-align: top\">4.09434456222</td>\n",
       "        <td style=\"padding-left: 1em; padding-right: 1em; text-align: center; vertical-align: top\">winemaker s notes<br>enticing aromas jump out ...</td>\n",
       "        <td style=\"padding-left: 1em; padding-right: 1em; text-align: center; vertical-align: top\">{'tannins':<br>2.992188494032592, ...</td>\n",
       "    </tr>\n",
       "    <tr>\n",
       "        <td style=\"padding-left: 1em; padding-right: 1em; text-align: center; vertical-align: top\">2014</td>\n",
       "        <td style=\"padding-left: 1em; padding-right: 1em; text-align: center; vertical-align: top\">38.546127</td>\n",
       "        <td style=\"padding-left: 1em; padding-right: 1em; text-align: center; vertical-align: top\">-122.49276</td>\n",
       "        <td style=\"padding-left: 1em; padding-right: 1em; text-align: center; vertical-align: top\">3.58351893846</td>\n",
       "        <td style=\"padding-left: 1em; padding-right: 1em; text-align: center; vertical-align: top\">winemaker s notes juicy<br>peaches   pineapple and ...</td>\n",
       "        <td style=\"padding-left: 1em; padding-right: 1em; text-align: center; vertical-align: top\">{'alluring':<br>8.453879052391954, ...</td>\n",
       "    </tr>\n",
       "    <tr>\n",
       "        <td style=\"padding-left: 1em; padding-right: 1em; text-align: center; vertical-align: top\">2012</td>\n",
       "        <td style=\"padding-left: 1em; padding-right: 1em; text-align: center; vertical-align: top\">43.225883</td>\n",
       "        <td style=\"padding-left: 1em; padding-right: 1em; text-align: center; vertical-align: top\">10.563555</td>\n",
       "        <td style=\"padding-left: 1em; padding-right: 1em; text-align: center; vertical-align: top\">5.45958551414</td>\n",
       "        <td style=\"padding-left: 1em; padding-right: 1em; text-align: center; vertical-align: top\">winemaker s notes intense<br>concentrated and deep ...</td>\n",
       "        <td style=\"padding-left: 1em; padding-right: 1em; text-align: center; vertical-align: top\">{'breadth':<br>5.3929930956596195, ...</td>\n",
       "    </tr>\n",
       "    <tr>\n",
       "        <td style=\"padding-left: 1em; padding-right: 1em; text-align: center; vertical-align: top\">2010</td>\n",
       "        <td style=\"padding-left: 1em; padding-right: 1em; text-align: center; vertical-align: top\">-34.919913</td>\n",
       "        <td style=\"padding-left: 1em; padding-right: 1em; text-align: center; vertical-align: top\">138.654506</td>\n",
       "        <td style=\"padding-left: 1em; padding-right: 1em; text-align: center; vertical-align: top\">3.80666248977</td>\n",
       "        <td style=\"padding-left: 1em; padding-right: 1em; text-align: center; vertical-align: top\">winemaker s notes the<br>clarendon hills sandown ...</td>\n",
       "        <td style=\"padding-left: 1em; padding-right: 1em; text-align: center; vertical-align: top\">{'tannins':<br>1.9947923293550611, ...</td>\n",
       "    </tr>\n",
       "    <tr>\n",
       "        <td style=\"padding-left: 1em; padding-right: 1em; text-align: center; vertical-align: top\">2011</td>\n",
       "        <td style=\"padding-left: 1em; padding-right: 1em; text-align: center; vertical-align: top\">38.741804</td>\n",
       "        <td style=\"padding-left: 1em; padding-right: 1em; text-align: center; vertical-align: top\">-122.955029</td>\n",
       "        <td style=\"padding-left: 1em; padding-right: 1em; text-align: center; vertical-align: top\">3.80666248977</td>\n",
       "        <td style=\"padding-left: 1em; padding-right: 1em; text-align: center; vertical-align: top\">winemaker s notes the<br>alexander valley cabe ...</td>\n",
       "        <td style=\"padding-left: 1em; padding-right: 1em; text-align: center; vertical-align: top\">{'currants':<br>6.68012535905623, ...</td>\n",
       "    </tr>\n",
       "    <tr>\n",
       "        <td style=\"padding-left: 1em; padding-right: 1em; text-align: center; vertical-align: top\">2000</td>\n",
       "        <td style=\"padding-left: 1em; padding-right: 1em; text-align: center; vertical-align: top\">45.224217</td>\n",
       "        <td style=\"padding-left: 1em; padding-right: 1em; text-align: center; vertical-align: top\">-0.772444</td>\n",
       "        <td style=\"padding-left: 1em; padding-right: 1em; text-align: center; vertical-align: top\">3.96289038246</td>\n",
       "        <td style=\"padding-left: 1em; padding-right: 1em; text-align: center; vertical-align: top\">winemaker s notes a<br>relatively early growing ...</td>\n",
       "        <td style=\"padding-left: 1em; padding-right: 1em; text-align: center; vertical-align: top\">{'precise':<br>3.845925513951977, ...</td>\n",
       "    </tr>\n",
       "    <tr>\n",
       "        <td style=\"padding-left: 1em; padding-right: 1em; text-align: center; vertical-align: top\">2013</td>\n",
       "        <td style=\"padding-left: 1em; padding-right: 1em; text-align: center; vertical-align: top\">38.387141</td>\n",
       "        <td style=\"padding-left: 1em; padding-right: 1em; text-align: center; vertical-align: top\">-122.313005</td>\n",
       "        <td style=\"padding-left: 1em; padding-right: 1em; text-align: center; vertical-align: top\">3.63758615973</td>\n",
       "        <td style=\"padding-left: 1em; padding-right: 1em; text-align: center; vertical-align: top\">winemaker s notes this<br>wine delivers everything ...</td>\n",
       "        <td style=\"padding-left: 1em; padding-right: 1em; text-align: center; vertical-align: top\">{'tannins':<br>2.992188494032592, ...</td>\n",
       "    </tr>\n",
       "    <tr>\n",
       "        <td style=\"padding-left: 1em; padding-right: 1em; text-align: center; vertical-align: top\">2010</td>\n",
       "        <td style=\"padding-left: 1em; padding-right: 1em; text-align: center; vertical-align: top\">43.077656</td>\n",
       "        <td style=\"padding-left: 1em; padding-right: 1em; text-align: center; vertical-align: top\">11.491754</td>\n",
       "        <td style=\"padding-left: 1em; padding-right: 1em; text-align: center; vertical-align: top\">4.31748811354</td>\n",
       "        <td style=\"padding-left: 1em; padding-right: 1em; text-align: center; vertical-align: top\">winemaker s notes<br>valdicava philosophy is ...</td>\n",
       "        <td style=\"padding-left: 1em; padding-right: 1em; text-align: center; vertical-align: top\">{'traditions':<br>7.362433742125127, ...</td>\n",
       "    </tr>\n",
       "    <tr>\n",
       "        <td style=\"padding-left: 1em; padding-right: 1em; text-align: center; vertical-align: top\">2012</td>\n",
       "        <td style=\"padding-left: 1em; padding-right: 1em; text-align: center; vertical-align: top\">38.529416</td>\n",
       "        <td style=\"padding-left: 1em; padding-right: 1em; text-align: center; vertical-align: top\">-122.490612</td>\n",
       "        <td style=\"padding-left: 1em; padding-right: 1em; text-align: center; vertical-align: top\">4.27666611902</td>\n",
       "        <td style=\"padding-left: 1em; padding-right: 1em; text-align: center; vertical-align: top\">winemaker s notes both<br>generous and graceful ...</td>\n",
       "        <td style=\"padding-left: 1em; padding-right: 1em; text-align: center; vertical-align: top\">{'tannins':<br>1.9947923293550611, ...</td>\n",
       "    </tr>\n",
       "    <tr>\n",
       "        <td style=\"padding-left: 1em; padding-right: 1em; text-align: center; vertical-align: top\">2012</td>\n",
       "        <td style=\"padding-left: 1em; padding-right: 1em; text-align: center; vertical-align: top\">38.398864</td>\n",
       "        <td style=\"padding-left: 1em; padding-right: 1em; text-align: center; vertical-align: top\">-122.325167</td>\n",
       "        <td style=\"padding-left: 1em; padding-right: 1em; text-align: center; vertical-align: top\">5.1059454739</td>\n",
       "        <td style=\"padding-left: 1em; padding-right: 1em; text-align: center; vertical-align: top\">winemaker s notes the<br>cask    combines the ...</td>\n",
       "        <td style=\"padding-left: 1em; padding-right: 1em; text-align: center; vertical-align: top\">{'years':<br>3.642340393933401, ...</td>\n",
       "    </tr>\n",
       "</table>\n",
       "[10 rows x 6 columns]<br/>\n",
       "</div>"
      ],
      "text/plain": [
       "Columns:\n",
       "\tyear\tint\n",
       "\tlat\tfloat\n",
       "\tlong\tfloat\n",
       "\tln_price\tfloat\n",
       "\twmr\tstr\n",
       "\ttfidf\tdict\n",
       "\n",
       "Rows: 10\n",
       "\n",
       "Data:\n",
       "+------+------------+-------------+---------------+\n",
       "| year |    lat     |     long    |    ln_price   |\n",
       "+------+------------+-------------+---------------+\n",
       "| 2013 | 38.220417  | -122.228952 | 4.09434456222 |\n",
       "| 2014 | 38.546127  |  -122.49276 | 3.58351893846 |\n",
       "| 2012 | 43.225883  |  10.563555  | 5.45958551414 |\n",
       "| 2010 | -34.919913 |  138.654506 | 3.80666248977 |\n",
       "| 2011 | 38.741804  | -122.955029 | 3.80666248977 |\n",
       "| 2000 | 45.224217  |  -0.772444  | 3.96289038246 |\n",
       "| 2013 | 38.387141  | -122.313005 | 3.63758615973 |\n",
       "| 2010 | 43.077656  |  11.491754  | 4.31748811354 |\n",
       "| 2012 | 38.529416  | -122.490612 | 4.27666611902 |\n",
       "| 2012 | 38.398864  | -122.325167 |  5.1059454739 |\n",
       "+------+------------+-------------+---------------+\n",
       "+-------------------------------+-------------------------------+\n",
       "|              wmr              |             tfidf             |\n",
       "+-------------------------------+-------------------------------+\n",
       "| winemaker s notes enticing... | {'tannins': 2.992188494032... |\n",
       "| winemaker s notes juicy pe... | {'alluring': 8.45387905239... |\n",
       "| winemaker s notes intense ... | {'breadth': 5.392993095659... |\n",
       "| winemaker s notes the clar... | {'tannins': 1.994792329355... |\n",
       "| winemaker s notes the     ... | {'currants': 6.68012535905... |\n",
       "| winemaker s notes a relati... | {'precise': 3.845925513951... |\n",
       "| winemaker s notes this win... | {'tannins': 2.992188494032... |\n",
       "| winemaker s notes valdicav... | {'traditions': 7.362433742... |\n",
       "| winemaker s notes both gen... | {'tannins': 1.994792329355... |\n",
       "| winemaker s notes the     ... | {'years': 3.64234039393340... |\n",
       "+-------------------------------+-------------------------------+\n",
       "[10 rows x 6 columns]"
      ]
     },
     "execution_count": 150,
     "metadata": {},
     "output_type": "execute_result"
    }
   ],
   "source": [
    "sf.head()"
   ]
  },
  {
   "cell_type": "markdown",
   "metadata": {},
   "source": [
    "The data we are going to use is location, log of price (to deal with the skewness), and tf-idf of the combined wine maker's notes, winery info, and reviews. (Note: the tf-idf column has been trimmed to drop the common words like: the, a, at, in, etc.)"
   ]
  },
  {
   "cell_type": "code",
   "execution_count": 151,
   "metadata": {
    "collapsed": false
   },
   "outputs": [
    {
     "data": {
      "text/html": [
       "<pre>Starting brute force nearest neighbors model training.</pre>"
      ],
      "text/plain": [
       "Starting brute force nearest neighbors model training."
      ]
     },
     "metadata": {},
     "output_type": "display_data"
    },
    {
     "data": {
      "text/html": [
       "<pre>Starting pairwise querying.</pre>"
      ],
      "text/plain": [
       "Starting pairwise querying."
      ]
     },
     "metadata": {},
     "output_type": "display_data"
    },
    {
     "data": {
      "text/html": [
       "<pre>+--------------+---------+-------------+--------------+</pre>"
      ],
      "text/plain": [
       "+--------------+---------+-------------+--------------+"
      ]
     },
     "metadata": {},
     "output_type": "display_data"
    },
    {
     "data": {
      "text/html": [
       "<pre>| Query points | # Pairs | % Complete. | Elapsed Time |</pre>"
      ],
      "text/plain": [
       "| Query points | # Pairs | % Complete. | Elapsed Time |"
      ]
     },
     "metadata": {},
     "output_type": "display_data"
    },
    {
     "data": {
      "text/html": [
       "<pre>+--------------+---------+-------------+--------------+</pre>"
      ],
      "text/plain": [
       "+--------------+---------+-------------+--------------+"
      ]
     },
     "metadata": {},
     "output_type": "display_data"
    },
    {
     "data": {
      "text/html": [
       "<pre>| 1            | 9454    | 0.0105775   | 28.545ms     |</pre>"
      ],
      "text/plain": [
       "| 1            | 9454    | 0.0105775   | 28.545ms     |"
      ]
     },
     "metadata": {},
     "output_type": "display_data"
    },
    {
     "data": {
      "text/html": [
       "<pre>| 910          | 8603140 | 9.62556     | 1.03s        |</pre>"
      ],
      "text/plain": [
       "| 910          | 8603140 | 9.62556     | 1.03s        |"
      ]
     },
     "metadata": {},
     "output_type": "display_data"
    },
    {
     "data": {
      "text/html": [
       "<pre>| 1826         | 1.7e+07 | 19.3146     | 2.03s        |</pre>"
      ],
      "text/plain": [
       "| 1826         | 1.7e+07 | 19.3146     | 2.03s        |"
      ]
     },
     "metadata": {},
     "output_type": "display_data"
    },
    {
     "data": {
      "text/html": [
       "<pre>| 2723         | 2.6e+07 | 28.8026     | 3.02s        |</pre>"
      ],
      "text/plain": [
       "| 2723         | 2.6e+07 | 28.8026     | 3.02s        |"
      ]
     },
     "metadata": {},
     "output_type": "display_data"
    },
    {
     "data": {
      "text/html": [
       "<pre>| 3623         | 3.4e+07 | 38.3224     | 4.03s        |</pre>"
      ],
      "text/plain": [
       "| 3623         | 3.4e+07 | 38.3224     | 4.03s        |"
      ]
     },
     "metadata": {},
     "output_type": "display_data"
    },
    {
     "data": {
      "text/html": [
       "<pre>| 4490         | 4.2e+07 | 47.4931     | 5.02s        |</pre>"
      ],
      "text/plain": [
       "| 4490         | 4.2e+07 | 47.4931     | 5.02s        |"
      ]
     },
     "metadata": {},
     "output_type": "display_data"
    },
    {
     "data": {
      "text/html": [
       "<pre>| 5361         | 5.1e+07 | 56.7062     | 6.03s        |</pre>"
      ],
      "text/plain": [
       "| 5361         | 5.1e+07 | 56.7062     | 6.03s        |"
      ]
     },
     "metadata": {},
     "output_type": "display_data"
    },
    {
     "data": {
      "text/html": [
       "<pre>| 6227         | 5.9e+07 | 65.8663     | 7.03s        |</pre>"
      ],
      "text/plain": [
       "| 6227         | 5.9e+07 | 65.8663     | 7.03s        |"
      ]
     },
     "metadata": {},
     "output_type": "display_data"
    },
    {
     "data": {
      "text/html": [
       "<pre>| 7088         | 6.7e+07 | 74.9736     | 8.02s        |</pre>"
      ],
      "text/plain": [
       "| 7088         | 6.7e+07 | 74.9736     | 8.02s        |"
      ]
     },
     "metadata": {},
     "output_type": "display_data"
    },
    {
     "data": {
      "text/html": [
       "<pre>| 8007         | 7.6e+07 | 84.6943     | 9.02s        |</pre>"
      ],
      "text/plain": [
       "| 8007         | 7.6e+07 | 84.6943     | 9.02s        |"
      ]
     },
     "metadata": {},
     "output_type": "display_data"
    },
    {
     "data": {
      "text/html": [
       "<pre>| 8896         | 8.4e+07 | 94.0977     | 10.03s       |</pre>"
      ],
      "text/plain": [
       "| 8896         | 8.4e+07 | 94.0977     | 10.03s       |"
      ]
     },
     "metadata": {},
     "output_type": "display_data"
    },
    {
     "data": {
      "text/html": [
       "<pre>| 9373         | 8.9e+07 | 99.1432     | 11.03s       |</pre>"
      ],
      "text/plain": [
       "| 9373         | 8.9e+07 | 99.1432     | 11.03s       |"
      ]
     },
     "metadata": {},
     "output_type": "display_data"
    },
    {
     "data": {
      "text/html": [
       "<pre>| Done         |         | 100         | 11.39s       |</pre>"
      ],
      "text/plain": [
       "| Done         |         | 100         | 11.39s       |"
      ]
     },
     "metadata": {},
     "output_type": "display_data"
    },
    {
     "data": {
      "text/html": [
       "<pre>+--------------+---------+-------------+--------------+</pre>"
      ],
      "text/plain": [
       "+--------------+---------+-------------+--------------+"
      ]
     },
     "metadata": {},
     "output_type": "display_data"
    },
    {
     "name": "stderr",
     "output_type": "stream",
     "text": [
      "[INFO] graphlab.toolkits.clustering.dbscan: Identifying noise points and core points.\n",
      "[INFO] graphlab.toolkits.clustering.dbscan: Constructing the core point similarity graph.\n"
     ]
    },
    {
     "data": {
      "text/html": [
       "<pre>+-----------------------------+</pre>"
      ],
      "text/plain": [
       "+-----------------------------+"
      ]
     },
     "metadata": {},
     "output_type": "display_data"
    },
    {
     "data": {
      "text/html": [
       "<pre>| Number of components merged |</pre>"
      ],
      "text/plain": [
       "| Number of components merged |"
      ]
     },
     "metadata": {},
     "output_type": "display_data"
    },
    {
     "data": {
      "text/html": [
       "<pre>+-----------------------------+</pre>"
      ],
      "text/plain": [
       "+-----------------------------+"
      ]
     },
     "metadata": {},
     "output_type": "display_data"
    },
    {
     "data": {
      "text/html": [
       "<pre>| 72525                       |</pre>"
      ],
      "text/plain": [
       "| 72525                       |"
      ]
     },
     "metadata": {},
     "output_type": "display_data"
    },
    {
     "data": {
      "text/html": [
       "<pre>| 0                           |</pre>"
      ],
      "text/plain": [
       "| 0                           |"
      ]
     },
     "metadata": {},
     "output_type": "display_data"
    },
    {
     "data": {
      "text/html": [
       "<pre>+-----------------------------+</pre>"
      ],
      "text/plain": [
       "+-----------------------------+"
      ]
     },
     "metadata": {},
     "output_type": "display_data"
    },
    {
     "name": "stderr",
     "output_type": "stream",
     "text": [
      "[INFO] graphlab.toolkits.clustering.dbscan: Processing boundary points.\n"
     ]
    },
    {
     "name": "stdout",
     "output_type": "stream",
     "text": [
      "Class                                   : DBSCANModel\n",
      "\n",
      "Schema\n",
      "------\n",
      "Number of examples                      : 9454\n",
      "Number of feature columns               : 5\n",
      "Max distance to a neighbor (radius)     : 5\n",
      "Min number of neighbors for core points : 10\n",
      "Number of distance components           : 3\n",
      "\n",
      "Training summary\n",
      "----------------\n",
      "Total training time (seconds)           : 32.2594\n",
      "Number of clusters                      : 14\n",
      "\n",
      "Accessible fields\n",
      "-----------------\n",
      "cluster_id                              : Cluster label for each row in the input dataset.\n"
     ]
    }
   ],
   "source": [
    "# perform dbscan uisng graphlab create\n",
    "# set dist\n",
    "comp_dis=[[['year', 'lat', 'long'], 'euclidean', 1],[['ln_price'], 'euclidean', .75],[['tfidf'], 'cosine', 2]]\n",
    "\n",
    "# run dbscan\n",
    "dbscan_model = gl.dbscan.create(sf,distance=comp_dis, radius=5)\n",
    "dbscan_model.summary() "
   ]
  },
  {
   "cell_type": "markdown",
   "metadata": {},
   "source": [
    "## Results of first DBSCAN\n",
    "\n",
    "DBSCAN resulted 14 clusters for a radius of 5 and notice that we weighed the features used differently, giving tf-idf the most wait. Now, let's see how it looks. To do that, the notebook will use a python package called wordclouds and create a table with particualr information to look at."
   ]
  },
  {
   "cell_type": "code",
   "execution_count": 152,
   "metadata": {
    "collapsed": false
   },
   "outputs": [
    {
     "data": {
      "text/html": [
       "<div style=\"max-height:1000px;max-width:1500px;overflow:auto;\"><table frame=\"box\" rules=\"cols\">\n",
       "    <tr>\n",
       "        <th style=\"padding-left: 1em; padding-right: 1em; text-align: center\">id</th>\n",
       "        <th style=\"padding-left: 1em; padding-right: 1em; text-align: center\">name</th>\n",
       "        <th style=\"padding-left: 1em; padding-right: 1em; text-align: center\">cluster_id</th>\n",
       "        <th style=\"padding-left: 1em; padding-right: 1em; text-align: center\">type</th>\n",
       "    </tr>\n",
       "    <tr>\n",
       "        <td style=\"padding-left: 1em; padding-right: 1em; text-align: center; vertical-align: top\">0</td>\n",
       "        <td style=\"padding-left: 1em; padding-right: 1em; text-align: center; vertical-align: top\">Jamieson Ranch Vineyards<br>Double Lariat Cabernet ...</td>\n",
       "        <td style=\"padding-left: 1em; padding-right: 1em; text-align: center; vertical-align: top\">0</td>\n",
       "        <td style=\"padding-left: 1em; padding-right: 1em; text-align: center; vertical-align: top\">core</td>\n",
       "    </tr>\n",
       "    <tr>\n",
       "        <td style=\"padding-left: 1em; padding-right: 1em; text-align: center; vertical-align: top\">1</td>\n",
       "        <td style=\"padding-left: 1em; padding-right: 1em; text-align: center; vertical-align: top\">Rombauer Chardonnay 2014</td>\n",
       "        <td style=\"padding-left: 1em; padding-right: 1em; text-align: center; vertical-align: top\">0</td>\n",
       "        <td style=\"padding-left: 1em; padding-right: 1em; text-align: center; vertical-align: top\">core</td>\n",
       "    </tr>\n",
       "    <tr>\n",
       "        <td style=\"padding-left: 1em; padding-right: 1em; text-align: center; vertical-align: top\">2</td>\n",
       "        <td style=\"padding-left: 1em; padding-right: 1em; text-align: center; vertical-align: top\">Tenuta San Guido<br>Sassicaia 2012 ...</td>\n",
       "        <td style=\"padding-left: 1em; padding-right: 1em; text-align: center; vertical-align: top\">2</td>\n",
       "        <td style=\"padding-left: 1em; padding-right: 1em; text-align: center; vertical-align: top\">core</td>\n",
       "    </tr>\n",
       "    <tr>\n",
       "        <td style=\"padding-left: 1em; padding-right: 1em; text-align: center; vertical-align: top\">3</td>\n",
       "        <td style=\"padding-left: 1em; padding-right: 1em; text-align: center; vertical-align: top\">Clarendon Hills Sandown<br>Cabernet Sauvignon 2010 ...</td>\n",
       "        <td style=\"padding-left: 1em; padding-right: 1em; text-align: center; vertical-align: top\">4</td>\n",
       "        <td style=\"padding-left: 1em; padding-right: 1em; text-align: center; vertical-align: top\">core</td>\n",
       "    </tr>\n",
       "    <tr>\n",
       "        <td style=\"padding-left: 1em; padding-right: 1em; text-align: center; vertical-align: top\">4</td>\n",
       "        <td style=\"padding-left: 1em; padding-right: 1em; text-align: center; vertical-align: top\">Silver Oak Alexander<br>Valley Cabernet Sauvi ...</td>\n",
       "        <td style=\"padding-left: 1em; padding-right: 1em; text-align: center; vertical-align: top\">0</td>\n",
       "        <td style=\"padding-left: 1em; padding-right: 1em; text-align: center; vertical-align: top\">core</td>\n",
       "    </tr>\n",
       "    <tr>\n",
       "        <td style=\"padding-left: 1em; padding-right: 1em; text-align: center; vertical-align: top\">5</td>\n",
       "        <td style=\"padding-left: 1em; padding-right: 1em; text-align: center; vertical-align: top\">Chateau Lafite-Rothschild<br>2000 ...</td>\n",
       "        <td style=\"padding-left: 1em; padding-right: 1em; text-align: center; vertical-align: top\">2</td>\n",
       "        <td style=\"padding-left: 1em; padding-right: 1em; text-align: center; vertical-align: top\">core</td>\n",
       "    </tr>\n",
       "    <tr>\n",
       "        <td style=\"padding-left: 1em; padding-right: 1em; text-align: center; vertical-align: top\">6</td>\n",
       "        <td style=\"padding-left: 1em; padding-right: 1em; text-align: center; vertical-align: top\">Clos du Val Cabernet<br>Sauvignon 2013 ...</td>\n",
       "        <td style=\"padding-left: 1em; padding-right: 1em; text-align: center; vertical-align: top\">0</td>\n",
       "        <td style=\"padding-left: 1em; padding-right: 1em; text-align: center; vertical-align: top\">core</td>\n",
       "    </tr>\n",
       "    <tr>\n",
       "        <td style=\"padding-left: 1em; padding-right: 1em; text-align: center; vertical-align: top\">7</td>\n",
       "        <td style=\"padding-left: 1em; padding-right: 1em; text-align: center; vertical-align: top\">Valdicava Brunello di<br>Montalcino 2010 ...</td>\n",
       "        <td style=\"padding-left: 1em; padding-right: 1em; text-align: center; vertical-align: top\">2</td>\n",
       "        <td style=\"padding-left: 1em; padding-right: 1em; text-align: center; vertical-align: top\">core</td>\n",
       "    </tr>\n",
       "    <tr>\n",
       "        <td style=\"padding-left: 1em; padding-right: 1em; text-align: center; vertical-align: top\">8</td>\n",
       "        <td style=\"padding-left: 1em; padding-right: 1em; text-align: center; vertical-align: top\">Duckhorn Napa Valley<br>Cabernet Sauvignon 2012 ...</td>\n",
       "        <td style=\"padding-left: 1em; padding-right: 1em; text-align: center; vertical-align: top\">0</td>\n",
       "        <td style=\"padding-left: 1em; padding-right: 1em; text-align: center; vertical-align: top\">core</td>\n",
       "    </tr>\n",
       "    <tr>\n",
       "        <td style=\"padding-left: 1em; padding-right: 1em; text-align: center; vertical-align: top\">9</td>\n",
       "        <td style=\"padding-left: 1em; padding-right: 1em; text-align: center; vertical-align: top\">Stag's Leap Wine Cellars<br>Cask 23 Cabernet ...</td>\n",
       "        <td style=\"padding-left: 1em; padding-right: 1em; text-align: center; vertical-align: top\">0</td>\n",
       "        <td style=\"padding-left: 1em; padding-right: 1em; text-align: center; vertical-align: top\">core</td>\n",
       "    </tr>\n",
       "</table>\n",
       "[10 rows x 4 columns]<br/>\n",
       "</div>"
      ],
      "text/plain": [
       "Columns:\n",
       "\tid\tint\n",
       "\tname\tstr\n",
       "\tcluster_id\tint\n",
       "\ttype\tstr\n",
       "\n",
       "Rows: 10\n",
       "\n",
       "Data:\n",
       "+----+--------------------------------+------------+------+\n",
       "| id |              name              | cluster_id | type |\n",
       "+----+--------------------------------+------------+------+\n",
       "| 0  | Jamieson Ranch Vineyards D...  |     0      | core |\n",
       "| 1  |    Rombauer Chardonnay 2014    |     0      | core |\n",
       "| 2  | Tenuta San Guido Sassicaia...  |     2      | core |\n",
       "| 3  | Clarendon Hills Sandown Ca...  |     4      | core |\n",
       "| 4  | Silver Oak Alexander Valle...  |     0      | core |\n",
       "| 5  | Chateau Lafite-Rothschild 2000 |     2      | core |\n",
       "| 6  | Clos du Val Cabernet Sauvi...  |     0      | core |\n",
       "| 7  | Valdicava Brunello di Mont...  |     2      | core |\n",
       "| 8  | Duckhorn Napa Valley Caber...  |     0      | core |\n",
       "| 9  | Stag's Leap Wine Cellars C...  |     0      | core |\n",
       "+----+--------------------------------+------------+------+\n",
       "[10 rows x 4 columns]"
      ]
     },
     "execution_count": 152,
     "metadata": {},
     "output_type": "execute_result"
    }
   ],
   "source": [
    "#to match id with wine\n",
    "cur=gl.SFrame('./formodel.gl/')\n",
    "\n",
    "names=cur[['id', 'name']]\n",
    "names=names.add_row_number('row_id')\n",
    "sf=sf.add_row_number('row_id')\n",
    "sf=sf.join(names, on='row_id', how='left')\n",
    "sf=sf.join(dbscan_model['cluster_id'], on='row_id', how='left')\n",
    "\n",
    "sf[['id','name','cluster_id', 'type']].head()"
   ]
  },
  {
   "cell_type": "code",
   "execution_count": 153,
   "metadata": {
    "collapsed": false
   },
   "outputs": [],
   "source": [
    "import pylab\n",
    "\n",
    "#word cloud function\n",
    "def plot_wordcount(cluster_id, model):\n",
    "    from wordcloud import WordCloud\n",
    "    cluster_data = sf.filter_by(model['cluster_id']['row_id'][model['cluster_id']['cluster_id']==cluster_id],'row_id')\n",
    "    #print cluster_data['tfidf'].sketch_summary()\n",
    "    #print cluster_data['name']\n",
    "    data = list(cluster_data['tfidf'])\n",
    "    data = [' '.join(c) for c in data]\n",
    "    data = ' '.join(data)\n",
    "    wc = WordCloud().generate(data) \n",
    "    figure(figsize=(20,10))\n",
    "    return imshow(wc)\n",
    "\n",
    "#to save multiple\n",
    "i=0\n",
    "while i<14:\n",
    "    plot_wordcount(i,dbscan_model)\n",
    "    pylab.savefig('cluster'+str(i)+'png')\n",
    "    i+=1"
   ]
  },
  {
   "cell_type": "markdown",
   "metadata": {},
   "source": [
    "## Looking at the results\n",
    "\n",
    "We took out some words that were common to all the tf-idf columns, but even with that there still exists alot of similarity between the clusters. Btw, the wordclouds are showing you the most common words in the clusters, where size indicates the word is more prevalent. \n",
    "<center><table>\n",
    "<tr><td><img src=\"cluster0png.png\"></td>\n",
    "<td><img src=\"cluster1png.png\"></td>\n",
    "<td><img src=\"cluster2png.png\"></td></tr><br>\n",
    "<tr><td><img src=\"cluster3png.png\"></td>\n",
    "<td><img src=\"cluster4png.png\"></td>\n",
    "<td><img src=\"cluster5png.png\"></td></tr><br>\n",
    "<tr><td><img src=\"cluster6png.png\"></td>\n",
    "<td><img src=\"cluster7png.png\"></td>\n",
    "<td><img src=\"cluster8png.png\"></td></tr><br>\n",
    "<tr><td><img src=\"cluster9png.png\"></td>\n",
    "<td><img src=\"cluster10png.png\"></td>\n",
    "<td><img src=\"cluster11png.png\"></td></tr><br>\n",
    "<tr><td><img src=\"cluster12png.png\"></td>\n",
    "<td><img src=\"cluster13png.png\"></td>\n",
    "</tr><br>\n",
    "</table></center>\n",
    "\n",
    "Now let's get some basic facts on clusters"
   ]
  },
  {
   "cell_type": "code",
   "execution_count": 154,
   "metadata": {
    "collapsed": false
   },
   "outputs": [],
   "source": [
    "#create table for info on dbscan\n",
    "import csv\n",
    "filenamed= 'tabledbscan'\n",
    "titles=['HOW MANY WINES IN THE CLUSTER','mean price', 'min price', 'max price','upleft: lat long:', 'upright: lat long: ','downleft: lat long: ', 'downright: lat long: ']\n",
    "\n",
    "writer = csv.writer(open(filenamed, 'a'))\n",
    "writer.writerow(titles)   \n",
    " \n",
    "#to get min, max, mean price\n",
    "def getstats(cluster_id,model):\n",
    "     cd = sf.filter_by(model['cluster_id']['row_id'][model['cluster_id']['cluster_id']==cluster_id],'row_id')\n",
    "     holder=[]\n",
    "     holder.append(str(len(cd['lat'])))\n",
    "     holder.append(str(math.exp(cd['ln_price'].mean())))\n",
    "     holder.append(str(math.exp(cd['ln_price'].min())))\n",
    "     holder.append(str(math.exp(cd['ln_price'].max())))\n",
    "     holder.append(str(cd['lat'].max()) +' '+str(cd['long'].min()))\n",
    "     holder.append(str(cd['lat'].max()) +' '+str(cd['long'].max()))\n",
    "     holder.append(str(cd['lat'].min()) +' '+str(cd['long'].min()))\n",
    "     holder.append(str(cd['lat'].min()) +' '+str(cd['long'].max()))\n",
    "     writer = csv.writer(open(filenamed, 'a'))\n",
    "     writer.writerow(holder)   \n",
    "        \n",
    "#to loop through clusters\n",
    "i=0\n",
    "while i<14:\n",
    "    getstats(i,dbscan_model)\n",
    "    i+=1"
   ]
  },
  {
   "cell_type": "code",
   "execution_count": 161,
   "metadata": {
    "collapsed": false
   },
   "outputs": [
    {
     "data": {
      "text/html": [
       "<pre>Finished parsing file /home/ryan/Portfolio/Wine/tabledbscan</pre>"
      ],
      "text/plain": [
       "Finished parsing file /home/ryan/Portfolio/Wine/tabledbscan"
      ]
     },
     "metadata": {},
     "output_type": "display_data"
    },
    {
     "data": {
      "text/html": [
       "<pre>Parsing completed. Parsed 26 lines in 0.135892 secs.</pre>"
      ],
      "text/plain": [
       "Parsing completed. Parsed 26 lines in 0.135892 secs."
      ]
     },
     "metadata": {},
     "output_type": "display_data"
    },
    {
     "name": "stdout",
     "output_type": "stream",
     "text": [
      "------------------------------------------------------\n",
      "Inferred types from first 100 line(s) of file as \n",
      "column_type_hints=[str,str,str,str,str,str,str,str]\n",
      "If parsing fails due to incorrect types, you can correct\n",
      "the inferred type list above and pass it to read_csv in\n",
      "the column_type_hints argument\n",
      "------------------------------------------------------\n"
     ]
    },
    {
     "data": {
      "text/html": [
       "<pre>Finished parsing file /home/ryan/Portfolio/Wine/tabledbscan</pre>"
      ],
      "text/plain": [
       "Finished parsing file /home/ryan/Portfolio/Wine/tabledbscan"
      ]
     },
     "metadata": {},
     "output_type": "display_data"
    },
    {
     "data": {
      "text/html": [
       "<pre>Parsing completed. Parsed 26 lines in 0.008952 secs.</pre>"
      ],
      "text/plain": [
       "Parsing completed. Parsed 26 lines in 0.008952 secs."
      ]
     },
     "metadata": {},
     "output_type": "display_data"
    },
    {
     "data": {
      "text/html": [
       "<div style=\"max-height:1000px;max-width:1500px;overflow:auto;\"><table frame=\"box\" rules=\"cols\">\n",
       "    <tr>\n",
       "        <th style=\"padding-left: 1em; padding-right: 1em; text-align: center\">HOW MANY WINES IN THE<br>CLUSTER ...</th>\n",
       "        <th style=\"padding-left: 1em; padding-right: 1em; text-align: center\">mean price</th>\n",
       "        <th style=\"padding-left: 1em; padding-right: 1em; text-align: center\">min price</th>\n",
       "        <th style=\"padding-left: 1em; padding-right: 1em; text-align: center\">max price</th>\n",
       "        <th style=\"padding-left: 1em; padding-right: 1em; text-align: center\">upleft: lat long:</th>\n",
       "        <th style=\"padding-left: 1em; padding-right: 1em; text-align: center\">upright: lat long:</th>\n",
       "    </tr>\n",
       "    <tr>\n",
       "        <td style=\"padding-left: 1em; padding-right: 1em; text-align: center; vertical-align: top\">31</td>\n",
       "        <td style=\"padding-left: 1em; padding-right: 1em; text-align: center; vertical-align: top\">29.8160715178</td>\n",
       "        <td style=\"padding-left: 1em; padding-right: 1em; text-align: center; vertical-align: top\">10.0</td>\n",
       "        <td style=\"padding-left: 1em; padding-right: 1em; text-align: center; vertical-align: top\">55.0</td>\n",
       "        <td style=\"padding-left: 1em; padding-right: 1em; text-align: center; vertical-align: top\">47.816008 -123.434727</td>\n",
       "        <td style=\"padding-left: 1em; padding-right: 1em; text-align: center; vertical-align: top\">47.816008 174.112313</td>\n",
       "    </tr>\n",
       "    <tr>\n",
       "        <td style=\"padding-left: 1em; padding-right: 1em; text-align: center; vertical-align: top\">20</td>\n",
       "        <td style=\"padding-left: 1em; padding-right: 1em; text-align: center; vertical-align: top\">31.9646110683</td>\n",
       "        <td style=\"padding-left: 1em; padding-right: 1em; text-align: center; vertical-align: top\">15.0</td>\n",
       "        <td style=\"padding-left: 1em; padding-right: 1em; text-align: center; vertical-align: top\">240.0</td>\n",
       "        <td style=\"padding-left: 1em; padding-right: 1em; text-align: center; vertical-align: top\">49.94067 -122.871963</td>\n",
       "        <td style=\"padding-left: 1em; padding-right: 1em; text-align: center; vertical-align: top\">49.94067 173.116234</td>\n",
       "    </tr>\n",
       "    <tr>\n",
       "        <td style=\"padding-left: 1em; padding-right: 1em; text-align: center; vertical-align: top\">2308</td>\n",
       "        <td style=\"padding-left: 1em; padding-right: 1em; text-align: center; vertical-align: top\">36.6495812285</td>\n",
       "        <td style=\"padding-left: 1em; padding-right: 1em; text-align: center; vertical-align: top\">9.0</td>\n",
       "        <td style=\"padding-left: 1em; padding-right: 1em; text-align: center; vertical-align: top\">600.0</td>\n",
       "        <td style=\"padding-left: 1em; padding-right: 1em; text-align: center; vertical-align: top\">50.022967 -123.498398</td>\n",
       "        <td style=\"padding-left: 1em; padding-right: 1em; text-align: center; vertical-align: top\">50.022967 176.922699</td>\n",
       "    </tr>\n",
       "    <tr>\n",
       "        <td style=\"padding-left: 1em; padding-right: 1em; text-align: center; vertical-align: top\">131</td>\n",
       "        <td style=\"padding-left: 1em; padding-right: 1em; text-align: center; vertical-align: top\">35.6204053043</td>\n",
       "        <td style=\"padding-left: 1em; padding-right: 1em; text-align: center; vertical-align: top\">10.0</td>\n",
       "        <td style=\"padding-left: 1em; padding-right: 1em; text-align: center; vertical-align: top\">1700.0</td>\n",
       "        <td style=\"padding-left: 1em; padding-right: 1em; text-align: center; vertical-align: top\">48.874956 -123.207764</td>\n",
       "        <td style=\"padding-left: 1em; padding-right: 1em; text-align: center; vertical-align: top\">48.874956 176.733844</td>\n",
       "    </tr>\n",
       "    <tr>\n",
       "        <td style=\"padding-left: 1em; padding-right: 1em; text-align: center; vertical-align: top\">145</td>\n",
       "        <td style=\"padding-left: 1em; padding-right: 1em; text-align: center; vertical-align: top\">33.5438348741</td>\n",
       "        <td style=\"padding-left: 1em; padding-right: 1em; text-align: center; vertical-align: top\">8.99</td>\n",
       "        <td style=\"padding-left: 1em; padding-right: 1em; text-align: center; vertical-align: top\">235.0</td>\n",
       "        <td style=\"padding-left: 1em; padding-right: 1em; text-align: center; vertical-align: top\">49.980794 -123.294335</td>\n",
       "        <td style=\"padding-left: 1em; padding-right: 1em; text-align: center; vertical-align: top\">49.980794 176.922699</td>\n",
       "    </tr>\n",
       "    <tr>\n",
       "        <td style=\"padding-left: 1em; padding-right: 1em; text-align: center; vertical-align: top\">12</td>\n",
       "        <td style=\"padding-left: 1em; padding-right: 1em; text-align: center; vertical-align: top\">30.6783440856</td>\n",
       "        <td style=\"padding-left: 1em; padding-right: 1em; text-align: center; vertical-align: top\">14.0</td>\n",
       "        <td style=\"padding-left: 1em; padding-right: 1em; text-align: center; vertical-align: top\">139.0</td>\n",
       "        <td style=\"padding-left: 1em; padding-right: 1em; text-align: center; vertical-align: top\">47.734308 -123.207764</td>\n",
       "        <td style=\"padding-left: 1em; padding-right: 1em; text-align: center; vertical-align: top\">47.734308 139.077086</td>\n",
       "    </tr>\n",
       "    <tr>\n",
       "        <td style=\"padding-left: 1em; padding-right: 1em; text-align: center; vertical-align: top\">287</td>\n",
       "        <td style=\"padding-left: 1em; padding-right: 1em; text-align: center; vertical-align: top\">37.4567900807</td>\n",
       "        <td style=\"padding-left: 1em; padding-right: 1em; text-align: center; vertical-align: top\">10.0</td>\n",
       "        <td style=\"padding-left: 1em; padding-right: 1em; text-align: center; vertical-align: top\">287.0</td>\n",
       "        <td style=\"padding-left: 1em; padding-right: 1em; text-align: center; vertical-align: top\">49.988934 -123.487213</td>\n",
       "        <td style=\"padding-left: 1em; padding-right: 1em; text-align: center; vertical-align: top\">49.988934 175.485649</td>\n",
       "    </tr>\n",
       "    <tr>\n",
       "        <td style=\"padding-left: 1em; padding-right: 1em; text-align: center; vertical-align: top\">333</td>\n",
       "        <td style=\"padding-left: 1em; padding-right: 1em; text-align: center; vertical-align: top\">34.2632959806</td>\n",
       "        <td style=\"padding-left: 1em; padding-right: 1em; text-align: center; vertical-align: top\">9.0</td>\n",
       "        <td style=\"padding-left: 1em; padding-right: 1em; text-align: center; vertical-align: top\">325.0</td>\n",
       "        <td style=\"padding-left: 1em; padding-right: 1em; text-align: center; vertical-align: top\">49.260232 -123.250455</td>\n",
       "        <td style=\"padding-left: 1em; padding-right: 1em; text-align: center; vertical-align: top\">49.260232 176.870699</td>\n",
       "    </tr>\n",
       "    <tr>\n",
       "        <td style=\"padding-left: 1em; padding-right: 1em; text-align: center; vertical-align: top\">3097</td>\n",
       "        <td style=\"padding-left: 1em; padding-right: 1em; text-align: center; vertical-align: top\">35.4352100925</td>\n",
       "        <td style=\"padding-left: 1em; padding-right: 1em; text-align: center; vertical-align: top\">8.0</td>\n",
       "        <td style=\"padding-left: 1em; padding-right: 1em; text-align: center; vertical-align: top\">720.0</td>\n",
       "        <td style=\"padding-left: 1em; padding-right: 1em; text-align: center; vertical-align: top\">50.053387 -123.447497</td>\n",
       "        <td style=\"padding-left: 1em; padding-right: 1em; text-align: center; vertical-align: top\">50.053387 176.922699</td>\n",
       "    </tr>\n",
       "    <tr>\n",
       "        <td style=\"padding-left: 1em; padding-right: 1em; text-align: center; vertical-align: top\">14</td>\n",
       "        <td style=\"padding-left: 1em; padding-right: 1em; text-align: center; vertical-align: top\">40.3202768402</td>\n",
       "        <td style=\"padding-left: 1em; padding-right: 1em; text-align: center; vertical-align: top\">13.0</td>\n",
       "        <td style=\"padding-left: 1em; padding-right: 1em; text-align: center; vertical-align: top\">240.0</td>\n",
       "        <td style=\"padding-left: 1em; padding-right: 1em; text-align: center; vertical-align: top\">48.48707 -122.556197</td>\n",
       "        <td style=\"padding-left: 1em; padding-right: 1em; text-align: center; vertical-align: top\">48.48707 15.687983</td>\n",
       "    </tr>\n",
       "</table>\n",
       "<table frame=\"box\" rules=\"cols\">\n",
       "    <tr>\n",
       "        <th style=\"padding-left: 1em; padding-right: 1em; text-align: center\">downleft: lat long:</th>\n",
       "        <th style=\"padding-left: 1em; padding-right: 1em; text-align: center\">downright: lat long:</th>\n",
       "    </tr>\n",
       "    <tr>\n",
       "        <td style=\"padding-left: 1em; padding-right: 1em; text-align: center; vertical-align: top\">-41.625321 -123.434727</td>\n",
       "        <td style=\"padding-left: 1em; padding-right: 1em; text-align: center; vertical-align: top\">-41.625321 174.112313</td>\n",
       "    </tr>\n",
       "    <tr>\n",
       "        <td style=\"padding-left: 1em; padding-right: 1em; text-align: center; vertical-align: top\">-41.300867 -122.871963</td>\n",
       "        <td style=\"padding-left: 1em; padding-right: 1em; text-align: center; vertical-align: top\">-41.300867 173.116234</td>\n",
       "    </tr>\n",
       "    <tr>\n",
       "        <td style=\"padding-left: 1em; padding-right: 1em; text-align: center; vertical-align: top\">-45.211275 -123.498398</td>\n",
       "        <td style=\"padding-left: 1em; padding-right: 1em; text-align: center; vertical-align: top\">-45.211275 176.922699</td>\n",
       "    </tr>\n",
       "    <tr>\n",
       "        <td style=\"padding-left: 1em; padding-right: 1em; text-align: center; vertical-align: top\">-43.092164 -123.207764</td>\n",
       "        <td style=\"padding-left: 1em; padding-right: 1em; text-align: center; vertical-align: top\">-43.092164 176.733844</td>\n",
       "    </tr>\n",
       "    <tr>\n",
       "        <td style=\"padding-left: 1em; padding-right: 1em; text-align: center; vertical-align: top\">-45.02216 -123.294335</td>\n",
       "        <td style=\"padding-left: 1em; padding-right: 1em; text-align: center; vertical-align: top\">-45.02216 176.922699</td>\n",
       "    </tr>\n",
       "    <tr>\n",
       "        <td style=\"padding-left: 1em; padding-right: 1em; text-align: center; vertical-align: top\">-34.502639 -123.207764</td>\n",
       "        <td style=\"padding-left: 1em; padding-right: 1em; text-align: center; vertical-align: top\">-34.502639 139.077086</td>\n",
       "    </tr>\n",
       "    <tr>\n",
       "        <td style=\"padding-left: 1em; padding-right: 1em; text-align: center; vertical-align: top\">-41.497707 -123.487213</td>\n",
       "        <td style=\"padding-left: 1em; padding-right: 1em; text-align: center; vertical-align: top\">-41.497707 175.485649</td>\n",
       "    </tr>\n",
       "    <tr>\n",
       "        <td style=\"padding-left: 1em; padding-right: 1em; text-align: center; vertical-align: top\">-42.964539 -123.250455</td>\n",
       "        <td style=\"padding-left: 1em; padding-right: 1em; text-align: center; vertical-align: top\">-42.964539 176.870699</td>\n",
       "    </tr>\n",
       "    <tr>\n",
       "        <td style=\"padding-left: 1em; padding-right: 1em; text-align: center; vertical-align: top\">-45.211275 -123.447497</td>\n",
       "        <td style=\"padding-left: 1em; padding-right: 1em; text-align: center; vertical-align: top\">-45.211275 176.922699</td>\n",
       "    </tr>\n",
       "    <tr>\n",
       "        <td style=\"padding-left: 1em; padding-right: 1em; text-align: center; vertical-align: top\">-33.397338 -122.556197</td>\n",
       "        <td style=\"padding-left: 1em; padding-right: 1em; text-align: center; vertical-align: top\">-33.397338 15.687983</td>\n",
       "    </tr>\n",
       "</table>\n",
       "[26 rows x 8 columns]<br/>Note: Only the head of the SFrame is printed.<br/>You can use print_rows(num_rows=m, num_columns=n) to print more rows and columns.\n",
       "</div>"
      ],
      "text/plain": [
       "Columns:\n",
       "\tHOW MANY WINES IN THE CLUSTER\tstr\n",
       "\tmean price\tstr\n",
       "\tmin price\tstr\n",
       "\tmax price\tstr\n",
       "\tupleft: lat long:\tstr\n",
       "\tupright: lat long:\tstr\n",
       "\tdownleft: lat long:\tstr\n",
       "\tdownright: lat long:\tstr\n",
       "\n",
       "Rows: 26\n",
       "\n",
       "Data:\n",
       "+-------------------------------+---------------+-----------+-----------+\n",
       "| HOW MANY WINES IN THE CLUSTER |   mean price  | min price | max price |\n",
       "+-------------------------------+---------------+-----------+-----------+\n",
       "|               31              | 29.8160715178 |    10.0   |    55.0   |\n",
       "|               20              | 31.9646110683 |    15.0   |   240.0   |\n",
       "|              2308             | 36.6495812285 |    9.0    |   600.0   |\n",
       "|              131              | 35.6204053043 |    10.0   |   1700.0  |\n",
       "|              145              | 33.5438348741 |    8.99   |   235.0   |\n",
       "|               12              | 30.6783440856 |    14.0   |   139.0   |\n",
       "|              287              | 37.4567900807 |    10.0   |   287.0   |\n",
       "|              333              | 34.2632959806 |    9.0    |   325.0   |\n",
       "|              3097             | 35.4352100925 |    8.0    |   720.0   |\n",
       "|               14              | 40.3202768402 |    13.0   |   240.0   |\n",
       "+-------------------------------+---------------+-----------+-----------+\n",
       "+-----------------------+----------------------+------------------------+\n",
       "|   upleft: lat long:   |  upright: lat long:  |  downleft: lat long:   |\n",
       "+-----------------------+----------------------+------------------------+\n",
       "| 47.816008 -123.434727 | 47.816008 174.112313 | -41.625321 -123.434727 |\n",
       "|  49.94067 -122.871963 | 49.94067 173.116234  | -41.300867 -122.871963 |\n",
       "| 50.022967 -123.498398 | 50.022967 176.922699 | -45.211275 -123.498398 |\n",
       "| 48.874956 -123.207764 | 48.874956 176.733844 | -43.092164 -123.207764 |\n",
       "| 49.980794 -123.294335 | 49.980794 176.922699 | -45.02216 -123.294335  |\n",
       "| 47.734308 -123.207764 | 47.734308 139.077086 | -34.502639 -123.207764 |\n",
       "| 49.988934 -123.487213 | 49.988934 175.485649 | -41.497707 -123.487213 |\n",
       "| 49.260232 -123.250455 | 49.260232 176.870699 | -42.964539 -123.250455 |\n",
       "| 50.053387 -123.447497 | 50.053387 176.922699 | -45.211275 -123.447497 |\n",
       "|  48.48707 -122.556197 |  48.48707 15.687983  | -33.397338 -122.556197 |\n",
       "+-----------------------+----------------------+------------------------+\n",
       "+-----------------------+\n",
       "|  downright: lat long: |\n",
       "+-----------------------+\n",
       "| -41.625321 174.112313 |\n",
       "| -41.300867 173.116234 |\n",
       "| -45.211275 176.922699 |\n",
       "| -43.092164 176.733844 |\n",
       "|  -45.02216 176.922699 |\n",
       "| -34.502639 139.077086 |\n",
       "| -41.497707 175.485649 |\n",
       "| -42.964539 176.870699 |\n",
       "| -45.211275 176.922699 |\n",
       "|  -33.397338 15.687983 |\n",
       "+-----------------------+\n",
       "[26 rows x 8 columns]\n",
       "Note: Only the head of the SFrame is printed.\n",
       "You can use print_rows(num_rows=m, num_columns=n) to print more rows and columns."
      ]
     },
     "execution_count": 161,
     "metadata": {},
     "output_type": "execute_result"
    }
   ],
   "source": [
    "#load table results\n",
    "res=gl.SFrame.read_csv('./tabledbscan', header=True)\n",
    "\n",
    "res"
   ]
  },
  {
   "cell_type": "markdown",
   "metadata": {},
   "source": [
    "## Interpretation\n",
    "\n",
    "Now, the wordclouds showed us that there are still some very common words in each cluster. We could strip out more wore words, and repeat (also play with radius and wieghts), but the notebook's goal is to explore other techniques as well. So let's try to do something , perhaps, more intelligent.\n",
    "\n",
    "Also, a quick note on the stats, some of the clusters are rather small, which may not be a problem. For example, there are a few sakes in the data, so the sakes could easily be clustered together in a small group. \n",
    "\n",
    "Anyway, using Wine Enthusaiast and Wikipedia, a list of important words in wine was created. The notebook will now see if these words are better to look for in the data and use."
   ]
  },
  {
   "cell_type": "code",
   "execution_count": 155,
   "metadata": {
    "collapsed": true
   },
   "outputs": [],
   "source": [
    "words1=gl.SFrame(\"./words.gl/\")"
   ]
  },
  {
   "cell_type": "code",
   "execution_count": 156,
   "metadata": {
    "collapsed": false
   },
   "outputs": [
    {
     "data": {
      "text/html": [
       "<div style=\"max-height:1000px;max-width:1500px;overflow:auto;\"><table frame=\"box\" rules=\"cols\">\n",
       "    <tr>\n",
       "        <th style=\"padding-left: 1em; padding-right: 1em; text-align: center\">X1</th>\n",
       "    </tr>\n",
       "    <tr>\n",
       "        <td style=\"padding-left: 1em; padding-right: 1em; text-align: center; vertical-align: top\">austere</td>\n",
       "    </tr>\n",
       "    <tr>\n",
       "        <td style=\"padding-left: 1em; padding-right: 1em; text-align: center; vertical-align: top\">grown</td>\n",
       "    </tr>\n",
       "    <tr>\n",
       "        <td style=\"padding-left: 1em; padding-right: 1em; text-align: center; vertical-align: top\">brilliant</td>\n",
       "    </tr>\n",
       "    <tr>\n",
       "        <td style=\"padding-left: 1em; padding-right: 1em; text-align: center; vertical-align: top\">american</td>\n",
       "    </tr>\n",
       "    <tr>\n",
       "        <td style=\"padding-left: 1em; padding-right: 1em; text-align: center; vertical-align: top\">viticultural</td>\n",
       "    </tr>\n",
       "    <tr>\n",
       "        <td style=\"padding-left: 1em; padding-right: 1em; text-align: center; vertical-align: top\">chewy</td>\n",
       "    </tr>\n",
       "    <tr>\n",
       "        <td style=\"padding-left: 1em; padding-right: 1em; text-align: center; vertical-align: top\">volatile</td>\n",
       "    </tr>\n",
       "    <tr>\n",
       "        <td style=\"padding-left: 1em; padding-right: 1em; text-align: center; vertical-align: top\">filtering</td>\n",
       "    </tr>\n",
       "    <tr>\n",
       "        <td style=\"padding-left: 1em; padding-right: 1em; text-align: center; vertical-align: top\">french</td>\n",
       "    </tr>\n",
       "    <tr>\n",
       "        <td style=\"padding-left: 1em; padding-right: 1em; text-align: center; vertical-align: top\">pomegranate</td>\n",
       "    </tr>\n",
       "</table>\n",
       "[? rows x 1 columns]<br/>Note: Only the head of the SFrame is printed. This SFrame is lazily evaluated.<br/>You can use sf.materialize() to force materialization.\n",
       "</div>"
      ],
      "text/plain": [
       "Columns:\n",
       "\tX1\tstr\n",
       "\n",
       "Rows: Unknown\n",
       "\n",
       "Data:\n",
       "+--------------+\n",
       "|      X1      |\n",
       "+--------------+\n",
       "|   austere    |\n",
       "|    grown     |\n",
       "|  brilliant   |\n",
       "|   american   |\n",
       "| viticultural |\n",
       "|    chewy     |\n",
       "|   volatile   |\n",
       "|  filtering   |\n",
       "|    french    |\n",
       "| pomegranate  |\n",
       "+--------------+\n",
       "[? rows x 1 columns]\n",
       "Note: Only the head of the SFrame is printed. This SFrame is lazily evaluated.\n",
       "You can use sf.materialize() to force materialization."
      ]
     },
     "execution_count": 156,
     "metadata": {},
     "output_type": "execute_result"
    }
   ],
   "source": [
    "#dropna\n",
    "words1=words1.dropna()\n",
    "\n",
    "words1"
   ]
  },
  {
   "cell_type": "markdown",
   "metadata": {},
   "source": [
    "## Regression, an aside\n",
    "\n",
    "The word list above was collected from wikipedia and wine enthusiast, but perhaps, we can create a list from the data. Using regression, let's regress bag of words on the professional reviews on their wine scores."
   ]
  },
  {
   "cell_type": "code",
   "execution_count": 157,
   "metadata": {
    "collapsed": false
   },
   "outputs": [
    {
     "data": {
      "text/html": [
       "<div style=\"max-height:1000px;max-width:1500px;overflow:auto;\"><table frame=\"box\" rules=\"cols\">\n",
       "    <tr>\n",
       "        <th style=\"padding-left: 1em; padding-right: 1em; text-align: center\">id</th>\n",
       "        <th style=\"padding-left: 1em; padding-right: 1em; text-align: center\">abbr</th>\n",
       "        <th style=\"padding-left: 1em; padding-right: 1em; text-align: center\">score</th>\n",
       "        <th style=\"padding-left: 1em; padding-right: 1em; text-align: center\">bow</th>\n",
       "    </tr>\n",
       "    <tr>\n",
       "        <td style=\"padding-left: 1em; padding-right: 1em; text-align: center; vertical-align: top\">0</td>\n",
       "        <td style=\"padding-left: 1em; padding-right: 1em; text-align: center; vertical-align: top\">TP</td>\n",
       "        <td style=\"padding-left: 1em; padding-right: 1em; text-align: center; vertical-align: top\">92</td>\n",
       "        <td style=\"padding-left: 1em; padding-right: 1em; text-align: center; vertical-align: top\">{'finish': 1, 'ripe': 1,<br>'cassis': 1, 'lush': 1, ...</td>\n",
       "    </tr>\n",
       "    <tr>\n",
       "        <td style=\"padding-left: 1em; padding-right: 1em; text-align: center; vertical-align: top\">0</td>\n",
       "        <td style=\"padding-left: 1em; padding-right: 1em; text-align: center; vertical-align: top\">RP</td>\n",
       "        <td style=\"padding-left: 1em; padding-right: 1em; text-align: center; vertical-align: top\">94</td>\n",
       "        <td style=\"padding-left: 1em; padding-right: 1em; text-align: center; vertical-align: top\">{'tannins': 1, 'point':<br>1, 'sweet': 1, 'hard' ...</td>\n",
       "    </tr>\n",
       "    <tr>\n",
       "        <td style=\"padding-left: 1em; padding-right: 1em; text-align: center; vertical-align: top\">0</td>\n",
       "        <td style=\"padding-left: 1em; padding-right: 1em; text-align: center; vertical-align: top\">WE</td>\n",
       "        <td style=\"padding-left: 1em; padding-right: 1em; text-align: center; vertical-align: top\">92</td>\n",
       "        <td style=\"padding-left: 1em; padding-right: 1em; text-align: center; vertical-align: top\">{'tannins': 1, 'dry': 1,<br>'finish': 1, 'crisp': 1, ...</td>\n",
       "    </tr>\n",
       "    <tr>\n",
       "        <td style=\"padding-left: 1em; padding-right: 1em; text-align: center; vertical-align: top\">1</td>\n",
       "        <td style=\"padding-left: 1em; padding-right: 1em; text-align: center; vertical-align: top\">WW</td>\n",
       "        <td style=\"padding-left: 1em; padding-right: 1em; text-align: center; vertical-align: top\">92</td>\n",
       "        <td style=\"padding-left: 1em; padding-right: 1em; text-align: center; vertical-align: top\">{'alluring': 2, 'palate':<br>2, 'tasted': 1, 'ripe': ...</td>\n",
       "    </tr>\n",
       "    <tr>\n",
       "        <td style=\"padding-left: 1em; padding-right: 1em; text-align: center; vertical-align: top\">2</td>\n",
       "        <td style=\"padding-left: 1em; padding-right: 1em; text-align: center; vertical-align: top\">V</td>\n",
       "        <td style=\"padding-left: 1em; padding-right: 1em; text-align: center; vertical-align: top\">94</td>\n",
       "        <td style=\"padding-left: 1em; padding-right: 1em; text-align: center; vertical-align: top\">{'breadth': 1, 'deep': 1,<br>'shape': 1, 'flavors' ...</td>\n",
       "    </tr>\n",
       "    <tr>\n",
       "        <td style=\"padding-left: 1em; padding-right: 1em; text-align: center; vertical-align: top\">2</td>\n",
       "        <td style=\"padding-left: 1em; padding-right: 1em; text-align: center; vertical-align: top\">RP</td>\n",
       "        <td style=\"padding-left: 1em; padding-right: 1em; text-align: center; vertical-align: top\">93</td>\n",
       "        <td style=\"padding-left: 1em; padding-right: 1em; text-align: center; vertical-align: top\">{'blue': 1, 'spice': 1,<br>'flower': 1, 'mouthfe ...</td>\n",
       "    </tr>\n",
       "    <tr>\n",
       "        <td style=\"padding-left: 1em; padding-right: 1em; text-align: center; vertical-align: top\">2</td>\n",
       "        <td style=\"padding-left: 1em; padding-right: 1em; text-align: center; vertical-align: top\">WE</td>\n",
       "        <td style=\"padding-left: 1em; padding-right: 1em; text-align: center; vertical-align: top\">99</td>\n",
       "        <td style=\"padding-left: 1em; padding-right: 1em; text-align: center; vertical-align: top\">{'currants': 1, 'ripe':<br>1, 'juicy': 1, 'expect': ...</td>\n",
       "    </tr>\n",
       "    <tr>\n",
       "        <td style=\"padding-left: 1em; padding-right: 1em; text-align: center; vertical-align: top\">2</td>\n",
       "        <td style=\"padding-left: 1em; padding-right: 1em; text-align: center; vertical-align: top\">JS</td>\n",
       "        <td style=\"padding-left: 1em; padding-right: 1em; text-align: center; vertical-align: top\">95</td>\n",
       "        <td style=\"padding-left: 1em; padding-right: 1em; text-align: center; vertical-align: top\">{'tannins': 2,<br>'currants': 1, 'ripe' ...</td>\n",
       "    </tr>\n",
       "    <tr>\n",
       "        <td style=\"padding-left: 1em; padding-right: 1em; text-align: center; vertical-align: top\">3</td>\n",
       "        <td style=\"padding-left: 1em; padding-right: 1em; text-align: center; vertical-align: top\">JH</td>\n",
       "        <td style=\"padding-left: 1em; padding-right: 1em; text-align: center; vertical-align: top\">95</td>\n",
       "        <td style=\"padding-left: 1em; padding-right: 1em; text-align: center; vertical-align: top\">{'box': 1, 'fragrant': 1,<br>'palate': 1, 'acidity': ...</td>\n",
       "    </tr>\n",
       "    <tr>\n",
       "        <td style=\"padding-left: 1em; padding-right: 1em; text-align: center; vertical-align: top\">3</td>\n",
       "        <td style=\"padding-left: 1em; padding-right: 1em; text-align: center; vertical-align: top\">RP</td>\n",
       "        <td style=\"padding-left: 1em; padding-right: 1em; text-align: center; vertical-align: top\">90</td>\n",
       "        <td style=\"padding-left: 1em; padding-right: 1em; text-align: center; vertical-align: top\">{'tannins': 1, 'rating':<br>1, 'cassis': 1, 'garn ...</td>\n",
       "    </tr>\n",
       "</table>\n",
       "[13419 rows x 4 columns]<br/>Note: Only the head of the SFrame is printed.<br/>You can use print_rows(num_rows=m, num_columns=n) to print more rows and columns.\n",
       "</div>"
      ],
      "text/plain": [
       "Columns:\n",
       "\tid\tint\n",
       "\tabbr\tstr\n",
       "\tscore\tstr\n",
       "\tbow\tdict\n",
       "\n",
       "Rows: 13419\n",
       "\n",
       "Data:\n",
       "+----+------+-------+-------------------------------+\n",
       "| id | abbr | score |              bow              |\n",
       "+----+------+-------+-------------------------------+\n",
       "| 0  |  TP  |   92  | {'finish': 1, 'ripe': 1, '... |\n",
       "| 0  |  RP  |   94  | {'tannins': 1, 'point': 1,... |\n",
       "| 0  |  WE  |   92  | {'tannins': 1, 'dry': 1, '... |\n",
       "| 1  |  WW  |   92  | {'alluring': 2, 'palate': ... |\n",
       "| 2  |  V   |   94  | {'breadth': 1, 'deep': 1, ... |\n",
       "| 2  |  RP  |   93  | {'blue': 1, 'spice': 1, 'f... |\n",
       "| 2  |  WE  |   99  | {'currants': 1, 'ripe': 1,... |\n",
       "| 2  |  JS  |   95  | {'tannins': 2, 'currants':... |\n",
       "| 3  |  JH  |   95  | {'box': 1, 'fragrant': 1, ... |\n",
       "| 3  |  RP  |   90  | {'tannins': 1, 'rating': 1... |\n",
       "+----+------+-------+-------------------------------+\n",
       "[13419 rows x 4 columns]\n",
       "Note: Only the head of the SFrame is printed.\n",
       "You can use print_rows(num_rows=m, num_columns=n) to print more rows and columns."
      ]
     },
     "execution_count": 157,
     "metadata": {},
     "output_type": "execute_result"
    }
   ],
   "source": [
    "#load wine reivew data\n",
    "rate=gl.SFrame('./rate4model.gl/')\n",
    "score=rate[['id','abbr', 'score', 'bow']]\n",
    "\n",
    "score"
   ]
  },
  {
   "cell_type": "code",
   "execution_count": 158,
   "metadata": {
    "collapsed": false
   },
   "outputs": [],
   "source": [
    "#create dataframe for regression\n",
    "rreg=rate[['score','bow']].unpack('bow', column_name_prefix=None,na_value=0)\n",
    "rreg.__materialize__()\n",
    "\n",
    "#get column names\n",
    "g=rreg.column_names()\n",
    "#get unpacked column names\n",
    "g=g[1::]\n",
    "\n",
    "#construct frame for regression\n",
    "for i in g:\n",
    "    rreg[i]=rreg[i].apply(lambda x:0 if x is None else x,skip_undefined=False)\n",
    "    rreg.__materialize__()\n",
    "\n",
    "rreg['score']=rreg['score'].apply(lambda x: int(x))"
   ]
  },
  {
   "cell_type": "code",
   "execution_count": 159,
   "metadata": {
    "collapsed": false
   },
   "outputs": [
    {
     "data": {
      "text/html": [
       "<div style=\"max-height:1000px;max-width:1500px;overflow:auto;\"><table frame=\"box\" rules=\"cols\">\n",
       "    <tr>\n",
       "        <th style=\"padding-left: 1em; padding-right: 1em; text-align: center\">score</th>\n",
       "        <th style=\"padding-left: 1em; padding-right: 1em; text-align: center\">bow.absolutely</th>\n",
       "        <th style=\"padding-left: 1em; padding-right: 1em; text-align: center\">bow.abundant</th>\n",
       "        <th style=\"padding-left: 1em; padding-right: 1em; text-align: center\">bow.accent</th>\n",
       "        <th style=\"padding-left: 1em; padding-right: 1em; text-align: center\">bow.accented</th>\n",
       "        <th style=\"padding-left: 1em; padding-right: 1em; text-align: center\">bow.accents</th>\n",
       "        <th style=\"padding-left: 1em; padding-right: 1em; text-align: center\">bow.accessible</th>\n",
       "        <th style=\"padding-left: 1em; padding-right: 1em; text-align: center\">bow.acid</th>\n",
       "        <th style=\"padding-left: 1em; padding-right: 1em; text-align: center\">bow.acidity</th>\n",
       "    </tr>\n",
       "    <tr>\n",
       "        <td style=\"padding-left: 1em; padding-right: 1em; text-align: center; vertical-align: top\">92</td>\n",
       "        <td style=\"padding-left: 1em; padding-right: 1em; text-align: center; vertical-align: top\">0</td>\n",
       "        <td style=\"padding-left: 1em; padding-right: 1em; text-align: center; vertical-align: top\">0</td>\n",
       "        <td style=\"padding-left: 1em; padding-right: 1em; text-align: center; vertical-align: top\">0</td>\n",
       "        <td style=\"padding-left: 1em; padding-right: 1em; text-align: center; vertical-align: top\">0.0</td>\n",
       "        <td style=\"padding-left: 1em; padding-right: 1em; text-align: center; vertical-align: top\">0</td>\n",
       "        <td style=\"padding-left: 1em; padding-right: 1em; text-align: center; vertical-align: top\">0.0</td>\n",
       "        <td style=\"padding-left: 1em; padding-right: 1em; text-align: center; vertical-align: top\">0</td>\n",
       "        <td style=\"padding-left: 1em; padding-right: 1em; text-align: center; vertical-align: top\">0</td>\n",
       "    </tr>\n",
       "    <tr>\n",
       "        <td style=\"padding-left: 1em; padding-right: 1em; text-align: center; vertical-align: top\">94</td>\n",
       "        <td style=\"padding-left: 1em; padding-right: 1em; text-align: center; vertical-align: top\">0</td>\n",
       "        <td style=\"padding-left: 1em; padding-right: 1em; text-align: center; vertical-align: top\">0</td>\n",
       "        <td style=\"padding-left: 1em; padding-right: 1em; text-align: center; vertical-align: top\">0</td>\n",
       "        <td style=\"padding-left: 1em; padding-right: 1em; text-align: center; vertical-align: top\">0.0</td>\n",
       "        <td style=\"padding-left: 1em; padding-right: 1em; text-align: center; vertical-align: top\">0</td>\n",
       "        <td style=\"padding-left: 1em; padding-right: 1em; text-align: center; vertical-align: top\">0.0</td>\n",
       "        <td style=\"padding-left: 1em; padding-right: 1em; text-align: center; vertical-align: top\">0</td>\n",
       "        <td style=\"padding-left: 1em; padding-right: 1em; text-align: center; vertical-align: top\">0</td>\n",
       "    </tr>\n",
       "    <tr>\n",
       "        <td style=\"padding-left: 1em; padding-right: 1em; text-align: center; vertical-align: top\">92</td>\n",
       "        <td style=\"padding-left: 1em; padding-right: 1em; text-align: center; vertical-align: top\">0</td>\n",
       "        <td style=\"padding-left: 1em; padding-right: 1em; text-align: center; vertical-align: top\">0</td>\n",
       "        <td style=\"padding-left: 1em; padding-right: 1em; text-align: center; vertical-align: top\">0</td>\n",
       "        <td style=\"padding-left: 1em; padding-right: 1em; text-align: center; vertical-align: top\">0.0</td>\n",
       "        <td style=\"padding-left: 1em; padding-right: 1em; text-align: center; vertical-align: top\">0</td>\n",
       "        <td style=\"padding-left: 1em; padding-right: 1em; text-align: center; vertical-align: top\">0.0</td>\n",
       "        <td style=\"padding-left: 1em; padding-right: 1em; text-align: center; vertical-align: top\">0</td>\n",
       "        <td style=\"padding-left: 1em; padding-right: 1em; text-align: center; vertical-align: top\">0</td>\n",
       "    </tr>\n",
       "    <tr>\n",
       "        <td style=\"padding-left: 1em; padding-right: 1em; text-align: center; vertical-align: top\">92</td>\n",
       "        <td style=\"padding-left: 1em; padding-right: 1em; text-align: center; vertical-align: top\">0</td>\n",
       "        <td style=\"padding-left: 1em; padding-right: 1em; text-align: center; vertical-align: top\">0</td>\n",
       "        <td style=\"padding-left: 1em; padding-right: 1em; text-align: center; vertical-align: top\">0</td>\n",
       "        <td style=\"padding-left: 1em; padding-right: 1em; text-align: center; vertical-align: top\">0.0</td>\n",
       "        <td style=\"padding-left: 1em; padding-right: 1em; text-align: center; vertical-align: top\">0</td>\n",
       "        <td style=\"padding-left: 1em; padding-right: 1em; text-align: center; vertical-align: top\">0.0</td>\n",
       "        <td style=\"padding-left: 1em; padding-right: 1em; text-align: center; vertical-align: top\">0</td>\n",
       "        <td style=\"padding-left: 1em; padding-right: 1em; text-align: center; vertical-align: top\">1</td>\n",
       "    </tr>\n",
       "    <tr>\n",
       "        <td style=\"padding-left: 1em; padding-right: 1em; text-align: center; vertical-align: top\">94</td>\n",
       "        <td style=\"padding-left: 1em; padding-right: 1em; text-align: center; vertical-align: top\">0</td>\n",
       "        <td style=\"padding-left: 1em; padding-right: 1em; text-align: center; vertical-align: top\">0</td>\n",
       "        <td style=\"padding-left: 1em; padding-right: 1em; text-align: center; vertical-align: top\">0</td>\n",
       "        <td style=\"padding-left: 1em; padding-right: 1em; text-align: center; vertical-align: top\">0.0</td>\n",
       "        <td style=\"padding-left: 1em; padding-right: 1em; text-align: center; vertical-align: top\">0</td>\n",
       "        <td style=\"padding-left: 1em; padding-right: 1em; text-align: center; vertical-align: top\">0.0</td>\n",
       "        <td style=\"padding-left: 1em; padding-right: 1em; text-align: center; vertical-align: top\">0</td>\n",
       "        <td style=\"padding-left: 1em; padding-right: 1em; text-align: center; vertical-align: top\">0</td>\n",
       "    </tr>\n",
       "    <tr>\n",
       "        <td style=\"padding-left: 1em; padding-right: 1em; text-align: center; vertical-align: top\">93</td>\n",
       "        <td style=\"padding-left: 1em; padding-right: 1em; text-align: center; vertical-align: top\">0</td>\n",
       "        <td style=\"padding-left: 1em; padding-right: 1em; text-align: center; vertical-align: top\">0</td>\n",
       "        <td style=\"padding-left: 1em; padding-right: 1em; text-align: center; vertical-align: top\">0</td>\n",
       "        <td style=\"padding-left: 1em; padding-right: 1em; text-align: center; vertical-align: top\">0.0</td>\n",
       "        <td style=\"padding-left: 1em; padding-right: 1em; text-align: center; vertical-align: top\">0</td>\n",
       "        <td style=\"padding-left: 1em; padding-right: 1em; text-align: center; vertical-align: top\">0.0</td>\n",
       "        <td style=\"padding-left: 1em; padding-right: 1em; text-align: center; vertical-align: top\">0</td>\n",
       "        <td style=\"padding-left: 1em; padding-right: 1em; text-align: center; vertical-align: top\">0</td>\n",
       "    </tr>\n",
       "    <tr>\n",
       "        <td style=\"padding-left: 1em; padding-right: 1em; text-align: center; vertical-align: top\">99</td>\n",
       "        <td style=\"padding-left: 1em; padding-right: 1em; text-align: center; vertical-align: top\">0</td>\n",
       "        <td style=\"padding-left: 1em; padding-right: 1em; text-align: center; vertical-align: top\">0</td>\n",
       "        <td style=\"padding-left: 1em; padding-right: 1em; text-align: center; vertical-align: top\">0</td>\n",
       "        <td style=\"padding-left: 1em; padding-right: 1em; text-align: center; vertical-align: top\">0.0</td>\n",
       "        <td style=\"padding-left: 1em; padding-right: 1em; text-align: center; vertical-align: top\">0</td>\n",
       "        <td style=\"padding-left: 1em; padding-right: 1em; text-align: center; vertical-align: top\">0.0</td>\n",
       "        <td style=\"padding-left: 1em; padding-right: 1em; text-align: center; vertical-align: top\">0</td>\n",
       "        <td style=\"padding-left: 1em; padding-right: 1em; text-align: center; vertical-align: top\">0</td>\n",
       "    </tr>\n",
       "    <tr>\n",
       "        <td style=\"padding-left: 1em; padding-right: 1em; text-align: center; vertical-align: top\">95</td>\n",
       "        <td style=\"padding-left: 1em; padding-right: 1em; text-align: center; vertical-align: top\">0</td>\n",
       "        <td style=\"padding-left: 1em; padding-right: 1em; text-align: center; vertical-align: top\">0</td>\n",
       "        <td style=\"padding-left: 1em; padding-right: 1em; text-align: center; vertical-align: top\">0</td>\n",
       "        <td style=\"padding-left: 1em; padding-right: 1em; text-align: center; vertical-align: top\">0.0</td>\n",
       "        <td style=\"padding-left: 1em; padding-right: 1em; text-align: center; vertical-align: top\">0</td>\n",
       "        <td style=\"padding-left: 1em; padding-right: 1em; text-align: center; vertical-align: top\">0.0</td>\n",
       "        <td style=\"padding-left: 1em; padding-right: 1em; text-align: center; vertical-align: top\">0</td>\n",
       "        <td style=\"padding-left: 1em; padding-right: 1em; text-align: center; vertical-align: top\">0</td>\n",
       "    </tr>\n",
       "    <tr>\n",
       "        <td style=\"padding-left: 1em; padding-right: 1em; text-align: center; vertical-align: top\">95</td>\n",
       "        <td style=\"padding-left: 1em; padding-right: 1em; text-align: center; vertical-align: top\">0</td>\n",
       "        <td style=\"padding-left: 1em; padding-right: 1em; text-align: center; vertical-align: top\">0</td>\n",
       "        <td style=\"padding-left: 1em; padding-right: 1em; text-align: center; vertical-align: top\">0</td>\n",
       "        <td style=\"padding-left: 1em; padding-right: 1em; text-align: center; vertical-align: top\">0.0</td>\n",
       "        <td style=\"padding-left: 1em; padding-right: 1em; text-align: center; vertical-align: top\">0</td>\n",
       "        <td style=\"padding-left: 1em; padding-right: 1em; text-align: center; vertical-align: top\">0.0</td>\n",
       "        <td style=\"padding-left: 1em; padding-right: 1em; text-align: center; vertical-align: top\">0</td>\n",
       "        <td style=\"padding-left: 1em; padding-right: 1em; text-align: center; vertical-align: top\">1</td>\n",
       "    </tr>\n",
       "    <tr>\n",
       "        <td style=\"padding-left: 1em; padding-right: 1em; text-align: center; vertical-align: top\">90</td>\n",
       "        <td style=\"padding-left: 1em; padding-right: 1em; text-align: center; vertical-align: top\">0</td>\n",
       "        <td style=\"padding-left: 1em; padding-right: 1em; text-align: center; vertical-align: top\">0</td>\n",
       "        <td style=\"padding-left: 1em; padding-right: 1em; text-align: center; vertical-align: top\">0</td>\n",
       "        <td style=\"padding-left: 1em; padding-right: 1em; text-align: center; vertical-align: top\">0.0</td>\n",
       "        <td style=\"padding-left: 1em; padding-right: 1em; text-align: center; vertical-align: top\">0</td>\n",
       "        <td style=\"padding-left: 1em; padding-right: 1em; text-align: center; vertical-align: top\">0.0</td>\n",
       "        <td style=\"padding-left: 1em; padding-right: 1em; text-align: center; vertical-align: top\">1</td>\n",
       "        <td style=\"padding-left: 1em; padding-right: 1em; text-align: center; vertical-align: top\">0</td>\n",
       "    </tr>\n",
       "</table>\n",
       "<table frame=\"box\" rules=\"cols\">\n",
       "    <tr>\n",
       "        <th style=\"padding-left: 1em; padding-right: 1em; text-align: center\">bow.acids</th>\n",
       "        <th style=\"padding-left: 1em; padding-right: 1em; text-align: center\">bow.add</th>\n",
       "        <th style=\"padding-left: 1em; padding-right: 1em; text-align: center\">bow.added</th>\n",
       "        <th style=\"padding-left: 1em; padding-right: 1em; text-align: center\">bow.adding</th>\n",
       "        <th style=\"padding-left: 1em; padding-right: 1em; text-align: center\">bow.addition</th>\n",
       "        <th style=\"padding-left: 1em; padding-right: 1em; text-align: center\">bow.additional</th>\n",
       "        <th style=\"padding-left: 1em; padding-right: 1em; text-align: center\">bow.adds</th>\n",
       "        <th style=\"padding-left: 1em; padding-right: 1em; text-align: center\">bow.aeration</th>\n",
       "        <th style=\"padding-left: 1em; padding-right: 1em; text-align: center\">bow.aftertaste</th>\n",
       "    </tr>\n",
       "    <tr>\n",
       "        <td style=\"padding-left: 1em; padding-right: 1em; text-align: center; vertical-align: top\">0.0</td>\n",
       "        <td style=\"padding-left: 1em; padding-right: 1em; text-align: center; vertical-align: top\">0</td>\n",
       "        <td style=\"padding-left: 1em; padding-right: 1em; text-align: center; vertical-align: top\">0.0</td>\n",
       "        <td style=\"padding-left: 1em; padding-right: 1em; text-align: center; vertical-align: top\">0.0</td>\n",
       "        <td style=\"padding-left: 1em; padding-right: 1em; text-align: center; vertical-align: top\">0.0</td>\n",
       "        <td style=\"padding-left: 1em; padding-right: 1em; text-align: center; vertical-align: top\">0.0</td>\n",
       "        <td style=\"padding-left: 1em; padding-right: 1em; text-align: center; vertical-align: top\">0</td>\n",
       "        <td style=\"padding-left: 1em; padding-right: 1em; text-align: center; vertical-align: top\">0</td>\n",
       "        <td style=\"padding-left: 1em; padding-right: 1em; text-align: center; vertical-align: top\">0</td>\n",
       "    </tr>\n",
       "    <tr>\n",
       "        <td style=\"padding-left: 1em; padding-right: 1em; text-align: center; vertical-align: top\">0.0</td>\n",
       "        <td style=\"padding-left: 1em; padding-right: 1em; text-align: center; vertical-align: top\">0</td>\n",
       "        <td style=\"padding-left: 1em; padding-right: 1em; text-align: center; vertical-align: top\">0.0</td>\n",
       "        <td style=\"padding-left: 1em; padding-right: 1em; text-align: center; vertical-align: top\">0.0</td>\n",
       "        <td style=\"padding-left: 1em; padding-right: 1em; text-align: center; vertical-align: top\">0.0</td>\n",
       "        <td style=\"padding-left: 1em; padding-right: 1em; text-align: center; vertical-align: top\">0.0</td>\n",
       "        <td style=\"padding-left: 1em; padding-right: 1em; text-align: center; vertical-align: top\">0</td>\n",
       "        <td style=\"padding-left: 1em; padding-right: 1em; text-align: center; vertical-align: top\">0</td>\n",
       "        <td style=\"padding-left: 1em; padding-right: 1em; text-align: center; vertical-align: top\">0</td>\n",
       "    </tr>\n",
       "    <tr>\n",
       "        <td style=\"padding-left: 1em; padding-right: 1em; text-align: center; vertical-align: top\">0.0</td>\n",
       "        <td style=\"padding-left: 1em; padding-right: 1em; text-align: center; vertical-align: top\">0</td>\n",
       "        <td style=\"padding-left: 1em; padding-right: 1em; text-align: center; vertical-align: top\">0.0</td>\n",
       "        <td style=\"padding-left: 1em; padding-right: 1em; text-align: center; vertical-align: top\">0.0</td>\n",
       "        <td style=\"padding-left: 1em; padding-right: 1em; text-align: center; vertical-align: top\">0.0</td>\n",
       "        <td style=\"padding-left: 1em; padding-right: 1em; text-align: center; vertical-align: top\">0.0</td>\n",
       "        <td style=\"padding-left: 1em; padding-right: 1em; text-align: center; vertical-align: top\">0</td>\n",
       "        <td style=\"padding-left: 1em; padding-right: 1em; text-align: center; vertical-align: top\">0</td>\n",
       "        <td style=\"padding-left: 1em; padding-right: 1em; text-align: center; vertical-align: top\">0</td>\n",
       "    </tr>\n",
       "    <tr>\n",
       "        <td style=\"padding-left: 1em; padding-right: 1em; text-align: center; vertical-align: top\">0.0</td>\n",
       "        <td style=\"padding-left: 1em; padding-right: 1em; text-align: center; vertical-align: top\">0</td>\n",
       "        <td style=\"padding-left: 1em; padding-right: 1em; text-align: center; vertical-align: top\">0.0</td>\n",
       "        <td style=\"padding-left: 1em; padding-right: 1em; text-align: center; vertical-align: top\">0.0</td>\n",
       "        <td style=\"padding-left: 1em; padding-right: 1em; text-align: center; vertical-align: top\">0.0</td>\n",
       "        <td style=\"padding-left: 1em; padding-right: 1em; text-align: center; vertical-align: top\">0.0</td>\n",
       "        <td style=\"padding-left: 1em; padding-right: 1em; text-align: center; vertical-align: top\">0</td>\n",
       "        <td style=\"padding-left: 1em; padding-right: 1em; text-align: center; vertical-align: top\">0</td>\n",
       "        <td style=\"padding-left: 1em; padding-right: 1em; text-align: center; vertical-align: top\">1</td>\n",
       "    </tr>\n",
       "    <tr>\n",
       "        <td style=\"padding-left: 1em; padding-right: 1em; text-align: center; vertical-align: top\">0.0</td>\n",
       "        <td style=\"padding-left: 1em; padding-right: 1em; text-align: center; vertical-align: top\">0</td>\n",
       "        <td style=\"padding-left: 1em; padding-right: 1em; text-align: center; vertical-align: top\">0.0</td>\n",
       "        <td style=\"padding-left: 1em; padding-right: 1em; text-align: center; vertical-align: top\">0.0</td>\n",
       "        <td style=\"padding-left: 1em; padding-right: 1em; text-align: center; vertical-align: top\">0.0</td>\n",
       "        <td style=\"padding-left: 1em; padding-right: 1em; text-align: center; vertical-align: top\">0.0</td>\n",
       "        <td style=\"padding-left: 1em; padding-right: 1em; text-align: center; vertical-align: top\">0</td>\n",
       "        <td style=\"padding-left: 1em; padding-right: 1em; text-align: center; vertical-align: top\">0</td>\n",
       "        <td style=\"padding-left: 1em; padding-right: 1em; text-align: center; vertical-align: top\">0</td>\n",
       "    </tr>\n",
       "    <tr>\n",
       "        <td style=\"padding-left: 1em; padding-right: 1em; text-align: center; vertical-align: top\">0.0</td>\n",
       "        <td style=\"padding-left: 1em; padding-right: 1em; text-align: center; vertical-align: top\">0</td>\n",
       "        <td style=\"padding-left: 1em; padding-right: 1em; text-align: center; vertical-align: top\">0.0</td>\n",
       "        <td style=\"padding-left: 1em; padding-right: 1em; text-align: center; vertical-align: top\">0.0</td>\n",
       "        <td style=\"padding-left: 1em; padding-right: 1em; text-align: center; vertical-align: top\">0.0</td>\n",
       "        <td style=\"padding-left: 1em; padding-right: 1em; text-align: center; vertical-align: top\">0.0</td>\n",
       "        <td style=\"padding-left: 1em; padding-right: 1em; text-align: center; vertical-align: top\">0</td>\n",
       "        <td style=\"padding-left: 1em; padding-right: 1em; text-align: center; vertical-align: top\">0</td>\n",
       "        <td style=\"padding-left: 1em; padding-right: 1em; text-align: center; vertical-align: top\">0</td>\n",
       "    </tr>\n",
       "    <tr>\n",
       "        <td style=\"padding-left: 1em; padding-right: 1em; text-align: center; vertical-align: top\">0.0</td>\n",
       "        <td style=\"padding-left: 1em; padding-right: 1em; text-align: center; vertical-align: top\">0</td>\n",
       "        <td style=\"padding-left: 1em; padding-right: 1em; text-align: center; vertical-align: top\">0.0</td>\n",
       "        <td style=\"padding-left: 1em; padding-right: 1em; text-align: center; vertical-align: top\">0.0</td>\n",
       "        <td style=\"padding-left: 1em; padding-right: 1em; text-align: center; vertical-align: top\">0.0</td>\n",
       "        <td style=\"padding-left: 1em; padding-right: 1em; text-align: center; vertical-align: top\">0.0</td>\n",
       "        <td style=\"padding-left: 1em; padding-right: 1em; text-align: center; vertical-align: top\">0</td>\n",
       "        <td style=\"padding-left: 1em; padding-right: 1em; text-align: center; vertical-align: top\">0</td>\n",
       "        <td style=\"padding-left: 1em; padding-right: 1em; text-align: center; vertical-align: top\">0</td>\n",
       "    </tr>\n",
       "    <tr>\n",
       "        <td style=\"padding-left: 1em; padding-right: 1em; text-align: center; vertical-align: top\">0.0</td>\n",
       "        <td style=\"padding-left: 1em; padding-right: 1em; text-align: center; vertical-align: top\">0</td>\n",
       "        <td style=\"padding-left: 1em; padding-right: 1em; text-align: center; vertical-align: top\">0.0</td>\n",
       "        <td style=\"padding-left: 1em; padding-right: 1em; text-align: center; vertical-align: top\">0.0</td>\n",
       "        <td style=\"padding-left: 1em; padding-right: 1em; text-align: center; vertical-align: top\">0.0</td>\n",
       "        <td style=\"padding-left: 1em; padding-right: 1em; text-align: center; vertical-align: top\">0.0</td>\n",
       "        <td style=\"padding-left: 1em; padding-right: 1em; text-align: center; vertical-align: top\">0</td>\n",
       "        <td style=\"padding-left: 1em; padding-right: 1em; text-align: center; vertical-align: top\">0</td>\n",
       "        <td style=\"padding-left: 1em; padding-right: 1em; text-align: center; vertical-align: top\">0</td>\n",
       "    </tr>\n",
       "    <tr>\n",
       "        <td style=\"padding-left: 1em; padding-right: 1em; text-align: center; vertical-align: top\">0.0</td>\n",
       "        <td style=\"padding-left: 1em; padding-right: 1em; text-align: center; vertical-align: top\">0</td>\n",
       "        <td style=\"padding-left: 1em; padding-right: 1em; text-align: center; vertical-align: top\">0.0</td>\n",
       "        <td style=\"padding-left: 1em; padding-right: 1em; text-align: center; vertical-align: top\">0.0</td>\n",
       "        <td style=\"padding-left: 1em; padding-right: 1em; text-align: center; vertical-align: top\">0.0</td>\n",
       "        <td style=\"padding-left: 1em; padding-right: 1em; text-align: center; vertical-align: top\">0.0</td>\n",
       "        <td style=\"padding-left: 1em; padding-right: 1em; text-align: center; vertical-align: top\">0</td>\n",
       "        <td style=\"padding-left: 1em; padding-right: 1em; text-align: center; vertical-align: top\">0</td>\n",
       "        <td style=\"padding-left: 1em; padding-right: 1em; text-align: center; vertical-align: top\">0</td>\n",
       "    </tr>\n",
       "    <tr>\n",
       "        <td style=\"padding-left: 1em; padding-right: 1em; text-align: center; vertical-align: top\">0.0</td>\n",
       "        <td style=\"padding-left: 1em; padding-right: 1em; text-align: center; vertical-align: top\">0</td>\n",
       "        <td style=\"padding-left: 1em; padding-right: 1em; text-align: center; vertical-align: top\">0.0</td>\n",
       "        <td style=\"padding-left: 1em; padding-right: 1em; text-align: center; vertical-align: top\">0.0</td>\n",
       "        <td style=\"padding-left: 1em; padding-right: 1em; text-align: center; vertical-align: top\">0.0</td>\n",
       "        <td style=\"padding-left: 1em; padding-right: 1em; text-align: center; vertical-align: top\">0.0</td>\n",
       "        <td style=\"padding-left: 1em; padding-right: 1em; text-align: center; vertical-align: top\">0</td>\n",
       "        <td style=\"padding-left: 1em; padding-right: 1em; text-align: center; vertical-align: top\">0</td>\n",
       "        <td style=\"padding-left: 1em; padding-right: 1em; text-align: center; vertical-align: top\">0</td>\n",
       "    </tr>\n",
       "</table>\n",
       "<table frame=\"box\" rules=\"cols\">\n",
       "    <tr>\n",
       "        <th style=\"padding-left: 1em; padding-right: 1em; text-align: center\">bow.age</th>\n",
       "        <th style=\"padding-left: 1em; padding-right: 1em; text-align: center\">bow.aged</th>\n",
       "        <th style=\"padding-left: 1em; padding-right: 1em; text-align: center\">bow.aging</th>\n",
       "        <th style=\"padding-left: 1em; padding-right: 1em; text-align: center\">bow.air</th>\n",
       "        <th style=\"padding-left: 1em; padding-right: 1em; text-align: center\">bow.alcohol</th>\n",
       "        <th style=\"padding-left: 1em; padding-right: 1em; text-align: center\">bow.allspice</th>\n",
       "        <th style=\"padding-left: 1em; padding-right: 1em; text-align: center\">bow.alluring</th>\n",
       "        <th style=\"padding-left: 1em; padding-right: 1em; text-align: center\">bow.almond</th>\n",
       "        <th style=\"padding-left: 1em; padding-right: 1em; text-align: center\">bow.alongside</th>\n",
       "        <th style=\"padding-left: 1em; padding-right: 1em; text-align: center\">bow.amazing</th>\n",
       "    </tr>\n",
       "    <tr>\n",
       "        <td style=\"padding-left: 1em; padding-right: 1em; text-align: center; vertical-align: top\">0</td>\n",
       "        <td style=\"padding-left: 1em; padding-right: 1em; text-align: center; vertical-align: top\">0</td>\n",
       "        <td style=\"padding-left: 1em; padding-right: 1em; text-align: center; vertical-align: top\">0</td>\n",
       "        <td style=\"padding-left: 1em; padding-right: 1em; text-align: center; vertical-align: top\">0</td>\n",
       "        <td style=\"padding-left: 1em; padding-right: 1em; text-align: center; vertical-align: top\">0</td>\n",
       "        <td style=\"padding-left: 1em; padding-right: 1em; text-align: center; vertical-align: top\">0.0</td>\n",
       "        <td style=\"padding-left: 1em; padding-right: 1em; text-align: center; vertical-align: top\">0</td>\n",
       "        <td style=\"padding-left: 1em; padding-right: 1em; text-align: center; vertical-align: top\">0</td>\n",
       "        <td style=\"padding-left: 1em; padding-right: 1em; text-align: center; vertical-align: top\">0.0</td>\n",
       "        <td style=\"padding-left: 1em; padding-right: 1em; text-align: center; vertical-align: top\">0</td>\n",
       "    </tr>\n",
       "    <tr>\n",
       "        <td style=\"padding-left: 1em; padding-right: 1em; text-align: center; vertical-align: top\">0</td>\n",
       "        <td style=\"padding-left: 1em; padding-right: 1em; text-align: center; vertical-align: top\">0</td>\n",
       "        <td style=\"padding-left: 1em; padding-right: 1em; text-align: center; vertical-align: top\">0</td>\n",
       "        <td style=\"padding-left: 1em; padding-right: 1em; text-align: center; vertical-align: top\">0</td>\n",
       "        <td style=\"padding-left: 1em; padding-right: 1em; text-align: center; vertical-align: top\">0</td>\n",
       "        <td style=\"padding-left: 1em; padding-right: 1em; text-align: center; vertical-align: top\">0.0</td>\n",
       "        <td style=\"padding-left: 1em; padding-right: 1em; text-align: center; vertical-align: top\">0</td>\n",
       "        <td style=\"padding-left: 1em; padding-right: 1em; text-align: center; vertical-align: top\">0</td>\n",
       "        <td style=\"padding-left: 1em; padding-right: 1em; text-align: center; vertical-align: top\">0.0</td>\n",
       "        <td style=\"padding-left: 1em; padding-right: 1em; text-align: center; vertical-align: top\">0</td>\n",
       "    </tr>\n",
       "    <tr>\n",
       "        <td style=\"padding-left: 1em; padding-right: 1em; text-align: center; vertical-align: top\">0</td>\n",
       "        <td style=\"padding-left: 1em; padding-right: 1em; text-align: center; vertical-align: top\">0</td>\n",
       "        <td style=\"padding-left: 1em; padding-right: 1em; text-align: center; vertical-align: top\">0</td>\n",
       "        <td style=\"padding-left: 1em; padding-right: 1em; text-align: center; vertical-align: top\">0</td>\n",
       "        <td style=\"padding-left: 1em; padding-right: 1em; text-align: center; vertical-align: top\">0</td>\n",
       "        <td style=\"padding-left: 1em; padding-right: 1em; text-align: center; vertical-align: top\">0.0</td>\n",
       "        <td style=\"padding-left: 1em; padding-right: 1em; text-align: center; vertical-align: top\">0</td>\n",
       "        <td style=\"padding-left: 1em; padding-right: 1em; text-align: center; vertical-align: top\">0</td>\n",
       "        <td style=\"padding-left: 1em; padding-right: 1em; text-align: center; vertical-align: top\">0.0</td>\n",
       "        <td style=\"padding-left: 1em; padding-right: 1em; text-align: center; vertical-align: top\">0</td>\n",
       "    </tr>\n",
       "    <tr>\n",
       "        <td style=\"padding-left: 1em; padding-right: 1em; text-align: center; vertical-align: top\">0</td>\n",
       "        <td style=\"padding-left: 1em; padding-right: 1em; text-align: center; vertical-align: top\">0</td>\n",
       "        <td style=\"padding-left: 1em; padding-right: 1em; text-align: center; vertical-align: top\">0</td>\n",
       "        <td style=\"padding-left: 1em; padding-right: 1em; text-align: center; vertical-align: top\">0</td>\n",
       "        <td style=\"padding-left: 1em; padding-right: 1em; text-align: center; vertical-align: top\">0</td>\n",
       "        <td style=\"padding-left: 1em; padding-right: 1em; text-align: center; vertical-align: top\">0.0</td>\n",
       "        <td style=\"padding-left: 1em; padding-right: 1em; text-align: center; vertical-align: top\">2</td>\n",
       "        <td style=\"padding-left: 1em; padding-right: 1em; text-align: center; vertical-align: top\">0</td>\n",
       "        <td style=\"padding-left: 1em; padding-right: 1em; text-align: center; vertical-align: top\">0.0</td>\n",
       "        <td style=\"padding-left: 1em; padding-right: 1em; text-align: center; vertical-align: top\">0</td>\n",
       "    </tr>\n",
       "    <tr>\n",
       "        <td style=\"padding-left: 1em; padding-right: 1em; text-align: center; vertical-align: top\">0</td>\n",
       "        <td style=\"padding-left: 1em; padding-right: 1em; text-align: center; vertical-align: top\">0</td>\n",
       "        <td style=\"padding-left: 1em; padding-right: 1em; text-align: center; vertical-align: top\">0</td>\n",
       "        <td style=\"padding-left: 1em; padding-right: 1em; text-align: center; vertical-align: top\">0</td>\n",
       "        <td style=\"padding-left: 1em; padding-right: 1em; text-align: center; vertical-align: top\">0</td>\n",
       "        <td style=\"padding-left: 1em; padding-right: 1em; text-align: center; vertical-align: top\">0.0</td>\n",
       "        <td style=\"padding-left: 1em; padding-right: 1em; text-align: center; vertical-align: top\">0</td>\n",
       "        <td style=\"padding-left: 1em; padding-right: 1em; text-align: center; vertical-align: top\">0</td>\n",
       "        <td style=\"padding-left: 1em; padding-right: 1em; text-align: center; vertical-align: top\">0.0</td>\n",
       "        <td style=\"padding-left: 1em; padding-right: 1em; text-align: center; vertical-align: top\">0</td>\n",
       "    </tr>\n",
       "    <tr>\n",
       "        <td style=\"padding-left: 1em; padding-right: 1em; text-align: center; vertical-align: top\">0</td>\n",
       "        <td style=\"padding-left: 1em; padding-right: 1em; text-align: center; vertical-align: top\">0</td>\n",
       "        <td style=\"padding-left: 1em; padding-right: 1em; text-align: center; vertical-align: top\">0</td>\n",
       "        <td style=\"padding-left: 1em; padding-right: 1em; text-align: center; vertical-align: top\">0</td>\n",
       "        <td style=\"padding-left: 1em; padding-right: 1em; text-align: center; vertical-align: top\">0</td>\n",
       "        <td style=\"padding-left: 1em; padding-right: 1em; text-align: center; vertical-align: top\">0.0</td>\n",
       "        <td style=\"padding-left: 1em; padding-right: 1em; text-align: center; vertical-align: top\">0</td>\n",
       "        <td style=\"padding-left: 1em; padding-right: 1em; text-align: center; vertical-align: top\">0</td>\n",
       "        <td style=\"padding-left: 1em; padding-right: 1em; text-align: center; vertical-align: top\">0.0</td>\n",
       "        <td style=\"padding-left: 1em; padding-right: 1em; text-align: center; vertical-align: top\">0</td>\n",
       "    </tr>\n",
       "    <tr>\n",
       "        <td style=\"padding-left: 1em; padding-right: 1em; text-align: center; vertical-align: top\">0</td>\n",
       "        <td style=\"padding-left: 1em; padding-right: 1em; text-align: center; vertical-align: top\">0</td>\n",
       "        <td style=\"padding-left: 1em; padding-right: 1em; text-align: center; vertical-align: top\">0</td>\n",
       "        <td style=\"padding-left: 1em; padding-right: 1em; text-align: center; vertical-align: top\">0</td>\n",
       "        <td style=\"padding-left: 1em; padding-right: 1em; text-align: center; vertical-align: top\">0</td>\n",
       "        <td style=\"padding-left: 1em; padding-right: 1em; text-align: center; vertical-align: top\">0.0</td>\n",
       "        <td style=\"padding-left: 1em; padding-right: 1em; text-align: center; vertical-align: top\">0</td>\n",
       "        <td style=\"padding-left: 1em; padding-right: 1em; text-align: center; vertical-align: top\">0</td>\n",
       "        <td style=\"padding-left: 1em; padding-right: 1em; text-align: center; vertical-align: top\">0.0</td>\n",
       "        <td style=\"padding-left: 1em; padding-right: 1em; text-align: center; vertical-align: top\">0</td>\n",
       "    </tr>\n",
       "    <tr>\n",
       "        <td style=\"padding-left: 1em; padding-right: 1em; text-align: center; vertical-align: top\">0</td>\n",
       "        <td style=\"padding-left: 1em; padding-right: 1em; text-align: center; vertical-align: top\">0</td>\n",
       "        <td style=\"padding-left: 1em; padding-right: 1em; text-align: center; vertical-align: top\">0</td>\n",
       "        <td style=\"padding-left: 1em; padding-right: 1em; text-align: center; vertical-align: top\">0</td>\n",
       "        <td style=\"padding-left: 1em; padding-right: 1em; text-align: center; vertical-align: top\">0</td>\n",
       "        <td style=\"padding-left: 1em; padding-right: 1em; text-align: center; vertical-align: top\">0.0</td>\n",
       "        <td style=\"padding-left: 1em; padding-right: 1em; text-align: center; vertical-align: top\">0</td>\n",
       "        <td style=\"padding-left: 1em; padding-right: 1em; text-align: center; vertical-align: top\">0</td>\n",
       "        <td style=\"padding-left: 1em; padding-right: 1em; text-align: center; vertical-align: top\">0.0</td>\n",
       "        <td style=\"padding-left: 1em; padding-right: 1em; text-align: center; vertical-align: top\">0</td>\n",
       "    </tr>\n",
       "    <tr>\n",
       "        <td style=\"padding-left: 1em; padding-right: 1em; text-align: center; vertical-align: top\">0</td>\n",
       "        <td style=\"padding-left: 1em; padding-right: 1em; text-align: center; vertical-align: top\">0</td>\n",
       "        <td style=\"padding-left: 1em; padding-right: 1em; text-align: center; vertical-align: top\">0</td>\n",
       "        <td style=\"padding-left: 1em; padding-right: 1em; text-align: center; vertical-align: top\">0</td>\n",
       "        <td style=\"padding-left: 1em; padding-right: 1em; text-align: center; vertical-align: top\">0</td>\n",
       "        <td style=\"padding-left: 1em; padding-right: 1em; text-align: center; vertical-align: top\">0.0</td>\n",
       "        <td style=\"padding-left: 1em; padding-right: 1em; text-align: center; vertical-align: top\">0</td>\n",
       "        <td style=\"padding-left: 1em; padding-right: 1em; text-align: center; vertical-align: top\">0</td>\n",
       "        <td style=\"padding-left: 1em; padding-right: 1em; text-align: center; vertical-align: top\">0.0</td>\n",
       "        <td style=\"padding-left: 1em; padding-right: 1em; text-align: center; vertical-align: top\">0</td>\n",
       "    </tr>\n",
       "    <tr>\n",
       "        <td style=\"padding-left: 1em; padding-right: 1em; text-align: center; vertical-align: top\">0</td>\n",
       "        <td style=\"padding-left: 1em; padding-right: 1em; text-align: center; vertical-align: top\">0</td>\n",
       "        <td style=\"padding-left: 1em; padding-right: 1em; text-align: center; vertical-align: top\">0</td>\n",
       "        <td style=\"padding-left: 1em; padding-right: 1em; text-align: center; vertical-align: top\">0</td>\n",
       "        <td style=\"padding-left: 1em; padding-right: 1em; text-align: center; vertical-align: top\">0</td>\n",
       "        <td style=\"padding-left: 1em; padding-right: 1em; text-align: center; vertical-align: top\">0.0</td>\n",
       "        <td style=\"padding-left: 1em; padding-right: 1em; text-align: center; vertical-align: top\">0</td>\n",
       "        <td style=\"padding-left: 1em; padding-right: 1em; text-align: center; vertical-align: top\">0</td>\n",
       "        <td style=\"padding-left: 1em; padding-right: 1em; text-align: center; vertical-align: top\">0.0</td>\n",
       "        <td style=\"padding-left: 1em; padding-right: 1em; text-align: center; vertical-align: top\">0</td>\n",
       "    </tr>\n",
       "</table>\n",
       "<table frame=\"box\" rules=\"cols\">\n",
       "    <tr>\n",
       "        <th style=\"padding-left: 1em; padding-right: 1em; text-align: center\">bow.american</th>\n",
       "        <th style=\"padding-left: 1em; padding-right: 1em; text-align: center\">bow.amount</th>\n",
       "        <th style=\"padding-left: 1em; padding-right: 1em; text-align: center\">bow.ample</th>\n",
       "        <th style=\"padding-left: 1em; padding-right: 1em; text-align: center\">bow.anise</th>\n",
       "        <th style=\"padding-left: 1em; padding-right: 1em; text-align: center\">bow.anticipated</th>\n",
       "        <th style=\"padding-left: 1em; padding-right: 1em; text-align: center\">bow.anytime</th>\n",
       "        <th style=\"padding-left: 1em; padding-right: 1em; text-align: center\">bow.appeal</th>\n",
       "        <th style=\"padding-left: 1em; padding-right: 1em; text-align: center\">bow.appealing</th>\n",
       "        <th style=\"padding-left: 1em; padding-right: 1em; text-align: center\">bow.appealingly</th>\n",
       "    </tr>\n",
       "    <tr>\n",
       "        <td style=\"padding-left: 1em; padding-right: 1em; text-align: center; vertical-align: top\">0</td>\n",
       "        <td style=\"padding-left: 1em; padding-right: 1em; text-align: center; vertical-align: top\">0</td>\n",
       "        <td style=\"padding-left: 1em; padding-right: 1em; text-align: center; vertical-align: top\">0</td>\n",
       "        <td style=\"padding-left: 1em; padding-right: 1em; text-align: center; vertical-align: top\">0</td>\n",
       "        <td style=\"padding-left: 1em; padding-right: 1em; text-align: center; vertical-align: top\">0.0</td>\n",
       "        <td style=\"padding-left: 1em; padding-right: 1em; text-align: center; vertical-align: top\">0.0</td>\n",
       "        <td style=\"padding-left: 1em; padding-right: 1em; text-align: center; vertical-align: top\">0</td>\n",
       "        <td style=\"padding-left: 1em; padding-right: 1em; text-align: center; vertical-align: top\">0</td>\n",
       "        <td style=\"padding-left: 1em; padding-right: 1em; text-align: center; vertical-align: top\">0.0</td>\n",
       "    </tr>\n",
       "    <tr>\n",
       "        <td style=\"padding-left: 1em; padding-right: 1em; text-align: center; vertical-align: top\">0</td>\n",
       "        <td style=\"padding-left: 1em; padding-right: 1em; text-align: center; vertical-align: top\">0</td>\n",
       "        <td style=\"padding-left: 1em; padding-right: 1em; text-align: center; vertical-align: top\">0</td>\n",
       "        <td style=\"padding-left: 1em; padding-right: 1em; text-align: center; vertical-align: top\">0</td>\n",
       "        <td style=\"padding-left: 1em; padding-right: 1em; text-align: center; vertical-align: top\">0.0</td>\n",
       "        <td style=\"padding-left: 1em; padding-right: 1em; text-align: center; vertical-align: top\">0.0</td>\n",
       "        <td style=\"padding-left: 1em; padding-right: 1em; text-align: center; vertical-align: top\">0</td>\n",
       "        <td style=\"padding-left: 1em; padding-right: 1em; text-align: center; vertical-align: top\">0</td>\n",
       "        <td style=\"padding-left: 1em; padding-right: 1em; text-align: center; vertical-align: top\">0.0</td>\n",
       "    </tr>\n",
       "    <tr>\n",
       "        <td style=\"padding-left: 1em; padding-right: 1em; text-align: center; vertical-align: top\">0</td>\n",
       "        <td style=\"padding-left: 1em; padding-right: 1em; text-align: center; vertical-align: top\">0</td>\n",
       "        <td style=\"padding-left: 1em; padding-right: 1em; text-align: center; vertical-align: top\">1</td>\n",
       "        <td style=\"padding-left: 1em; padding-right: 1em; text-align: center; vertical-align: top\">0</td>\n",
       "        <td style=\"padding-left: 1em; padding-right: 1em; text-align: center; vertical-align: top\">0.0</td>\n",
       "        <td style=\"padding-left: 1em; padding-right: 1em; text-align: center; vertical-align: top\">0.0</td>\n",
       "        <td style=\"padding-left: 1em; padding-right: 1em; text-align: center; vertical-align: top\">0</td>\n",
       "        <td style=\"padding-left: 1em; padding-right: 1em; text-align: center; vertical-align: top\">0</td>\n",
       "        <td style=\"padding-left: 1em; padding-right: 1em; text-align: center; vertical-align: top\">0.0</td>\n",
       "    </tr>\n",
       "    <tr>\n",
       "        <td style=\"padding-left: 1em; padding-right: 1em; text-align: center; vertical-align: top\">0</td>\n",
       "        <td style=\"padding-left: 1em; padding-right: 1em; text-align: center; vertical-align: top\">0</td>\n",
       "        <td style=\"padding-left: 1em; padding-right: 1em; text-align: center; vertical-align: top\">0</td>\n",
       "        <td style=\"padding-left: 1em; padding-right: 1em; text-align: center; vertical-align: top\">0</td>\n",
       "        <td style=\"padding-left: 1em; padding-right: 1em; text-align: center; vertical-align: top\">0.0</td>\n",
       "        <td style=\"padding-left: 1em; padding-right: 1em; text-align: center; vertical-align: top\">0.0</td>\n",
       "        <td style=\"padding-left: 1em; padding-right: 1em; text-align: center; vertical-align: top\">0</td>\n",
       "        <td style=\"padding-left: 1em; padding-right: 1em; text-align: center; vertical-align: top\">0</td>\n",
       "        <td style=\"padding-left: 1em; padding-right: 1em; text-align: center; vertical-align: top\">0.0</td>\n",
       "    </tr>\n",
       "    <tr>\n",
       "        <td style=\"padding-left: 1em; padding-right: 1em; text-align: center; vertical-align: top\">0</td>\n",
       "        <td style=\"padding-left: 1em; padding-right: 1em; text-align: center; vertical-align: top\">0</td>\n",
       "        <td style=\"padding-left: 1em; padding-right: 1em; text-align: center; vertical-align: top\">0</td>\n",
       "        <td style=\"padding-left: 1em; padding-right: 1em; text-align: center; vertical-align: top\">0</td>\n",
       "        <td style=\"padding-left: 1em; padding-right: 1em; text-align: center; vertical-align: top\">0.0</td>\n",
       "        <td style=\"padding-left: 1em; padding-right: 1em; text-align: center; vertical-align: top\">0.0</td>\n",
       "        <td style=\"padding-left: 1em; padding-right: 1em; text-align: center; vertical-align: top\">0</td>\n",
       "        <td style=\"padding-left: 1em; padding-right: 1em; text-align: center; vertical-align: top\">0</td>\n",
       "        <td style=\"padding-left: 1em; padding-right: 1em; text-align: center; vertical-align: top\">0.0</td>\n",
       "    </tr>\n",
       "    <tr>\n",
       "        <td style=\"padding-left: 1em; padding-right: 1em; text-align: center; vertical-align: top\">0</td>\n",
       "        <td style=\"padding-left: 1em; padding-right: 1em; text-align: center; vertical-align: top\">0</td>\n",
       "        <td style=\"padding-left: 1em; padding-right: 1em; text-align: center; vertical-align: top\">0</td>\n",
       "        <td style=\"padding-left: 1em; padding-right: 1em; text-align: center; vertical-align: top\">0</td>\n",
       "        <td style=\"padding-left: 1em; padding-right: 1em; text-align: center; vertical-align: top\">0.0</td>\n",
       "        <td style=\"padding-left: 1em; padding-right: 1em; text-align: center; vertical-align: top\">0.0</td>\n",
       "        <td style=\"padding-left: 1em; padding-right: 1em; text-align: center; vertical-align: top\">0</td>\n",
       "        <td style=\"padding-left: 1em; padding-right: 1em; text-align: center; vertical-align: top\">0</td>\n",
       "        <td style=\"padding-left: 1em; padding-right: 1em; text-align: center; vertical-align: top\">0.0</td>\n",
       "    </tr>\n",
       "    <tr>\n",
       "        <td style=\"padding-left: 1em; padding-right: 1em; text-align: center; vertical-align: top\">0</td>\n",
       "        <td style=\"padding-left: 1em; padding-right: 1em; text-align: center; vertical-align: top\">0</td>\n",
       "        <td style=\"padding-left: 1em; padding-right: 1em; text-align: center; vertical-align: top\">0</td>\n",
       "        <td style=\"padding-left: 1em; padding-right: 1em; text-align: center; vertical-align: top\">0</td>\n",
       "        <td style=\"padding-left: 1em; padding-right: 1em; text-align: center; vertical-align: top\">0.0</td>\n",
       "        <td style=\"padding-left: 1em; padding-right: 1em; text-align: center; vertical-align: top\">0.0</td>\n",
       "        <td style=\"padding-left: 1em; padding-right: 1em; text-align: center; vertical-align: top\">0</td>\n",
       "        <td style=\"padding-left: 1em; padding-right: 1em; text-align: center; vertical-align: top\">0</td>\n",
       "        <td style=\"padding-left: 1em; padding-right: 1em; text-align: center; vertical-align: top\">0.0</td>\n",
       "    </tr>\n",
       "    <tr>\n",
       "        <td style=\"padding-left: 1em; padding-right: 1em; text-align: center; vertical-align: top\">0</td>\n",
       "        <td style=\"padding-left: 1em; padding-right: 1em; text-align: center; vertical-align: top\">0</td>\n",
       "        <td style=\"padding-left: 1em; padding-right: 1em; text-align: center; vertical-align: top\">0</td>\n",
       "        <td style=\"padding-left: 1em; padding-right: 1em; text-align: center; vertical-align: top\">0</td>\n",
       "        <td style=\"padding-left: 1em; padding-right: 1em; text-align: center; vertical-align: top\">0.0</td>\n",
       "        <td style=\"padding-left: 1em; padding-right: 1em; text-align: center; vertical-align: top\">0.0</td>\n",
       "        <td style=\"padding-left: 1em; padding-right: 1em; text-align: center; vertical-align: top\">0</td>\n",
       "        <td style=\"padding-left: 1em; padding-right: 1em; text-align: center; vertical-align: top\">0</td>\n",
       "        <td style=\"padding-left: 1em; padding-right: 1em; text-align: center; vertical-align: top\">0.0</td>\n",
       "    </tr>\n",
       "    <tr>\n",
       "        <td style=\"padding-left: 1em; padding-right: 1em; text-align: center; vertical-align: top\">0</td>\n",
       "        <td style=\"padding-left: 1em; padding-right: 1em; text-align: center; vertical-align: top\">0</td>\n",
       "        <td style=\"padding-left: 1em; padding-right: 1em; text-align: center; vertical-align: top\">0</td>\n",
       "        <td style=\"padding-left: 1em; padding-right: 1em; text-align: center; vertical-align: top\">0</td>\n",
       "        <td style=\"padding-left: 1em; padding-right: 1em; text-align: center; vertical-align: top\">0.0</td>\n",
       "        <td style=\"padding-left: 1em; padding-right: 1em; text-align: center; vertical-align: top\">0.0</td>\n",
       "        <td style=\"padding-left: 1em; padding-right: 1em; text-align: center; vertical-align: top\">0</td>\n",
       "        <td style=\"padding-left: 1em; padding-right: 1em; text-align: center; vertical-align: top\">0</td>\n",
       "        <td style=\"padding-left: 1em; padding-right: 1em; text-align: center; vertical-align: top\">0.0</td>\n",
       "    </tr>\n",
       "    <tr>\n",
       "        <td style=\"padding-left: 1em; padding-right: 1em; text-align: center; vertical-align: top\">0</td>\n",
       "        <td style=\"padding-left: 1em; padding-right: 1em; text-align: center; vertical-align: top\">1</td>\n",
       "        <td style=\"padding-left: 1em; padding-right: 1em; text-align: center; vertical-align: top\">0</td>\n",
       "        <td style=\"padding-left: 1em; padding-right: 1em; text-align: center; vertical-align: top\">0</td>\n",
       "        <td style=\"padding-left: 1em; padding-right: 1em; text-align: center; vertical-align: top\">0.0</td>\n",
       "        <td style=\"padding-left: 1em; padding-right: 1em; text-align: center; vertical-align: top\">0.0</td>\n",
       "        <td style=\"padding-left: 1em; padding-right: 1em; text-align: center; vertical-align: top\">0</td>\n",
       "        <td style=\"padding-left: 1em; padding-right: 1em; text-align: center; vertical-align: top\">0</td>\n",
       "        <td style=\"padding-left: 1em; padding-right: 1em; text-align: center; vertical-align: top\">0.0</td>\n",
       "    </tr>\n",
       "</table>\n",
       "<table frame=\"box\" rules=\"cols\">\n",
       "    <tr>\n",
       "        <th style=\"padding-left: 1em; padding-right: 1em; text-align: center\">bow.appears</th>\n",
       "        <th style=\"padding-left: 1em; padding-right: 1em; text-align: center\">bow.apple</th>\n",
       "        <th style=\"padding-left: 1em; padding-right: 1em; text-align: center\">bow.apples</th>\n",
       "        <th style=\"padding-left: 1em; padding-right: 1em; text-align: center\">...</th>\n",
       "    </tr>\n",
       "    <tr>\n",
       "        <td style=\"padding-left: 1em; padding-right: 1em; text-align: center; vertical-align: top\">0</td>\n",
       "        <td style=\"padding-left: 1em; padding-right: 1em; text-align: center; vertical-align: top\">0</td>\n",
       "        <td style=\"padding-left: 1em; padding-right: 1em; text-align: center; vertical-align: top\">0</td>\n",
       "        <td style=\"padding-left: 1em; padding-right: 1em; text-align: center; vertical-align: top\">...</td>\n",
       "    </tr>\n",
       "    <tr>\n",
       "        <td style=\"padding-left: 1em; padding-right: 1em; text-align: center; vertical-align: top\">0</td>\n",
       "        <td style=\"padding-left: 1em; padding-right: 1em; text-align: center; vertical-align: top\">0</td>\n",
       "        <td style=\"padding-left: 1em; padding-right: 1em; text-align: center; vertical-align: top\">0</td>\n",
       "        <td style=\"padding-left: 1em; padding-right: 1em; text-align: center; vertical-align: top\">...</td>\n",
       "    </tr>\n",
       "    <tr>\n",
       "        <td style=\"padding-left: 1em; padding-right: 1em; text-align: center; vertical-align: top\">0</td>\n",
       "        <td style=\"padding-left: 1em; padding-right: 1em; text-align: center; vertical-align: top\">0</td>\n",
       "        <td style=\"padding-left: 1em; padding-right: 1em; text-align: center; vertical-align: top\">0</td>\n",
       "        <td style=\"padding-left: 1em; padding-right: 1em; text-align: center; vertical-align: top\">...</td>\n",
       "    </tr>\n",
       "    <tr>\n",
       "        <td style=\"padding-left: 1em; padding-right: 1em; text-align: center; vertical-align: top\">0</td>\n",
       "        <td style=\"padding-left: 1em; padding-right: 1em; text-align: center; vertical-align: top\">1</td>\n",
       "        <td style=\"padding-left: 1em; padding-right: 1em; text-align: center; vertical-align: top\">1</td>\n",
       "        <td style=\"padding-left: 1em; padding-right: 1em; text-align: center; vertical-align: top\">...</td>\n",
       "    </tr>\n",
       "    <tr>\n",
       "        <td style=\"padding-left: 1em; padding-right: 1em; text-align: center; vertical-align: top\">0</td>\n",
       "        <td style=\"padding-left: 1em; padding-right: 1em; text-align: center; vertical-align: top\">0</td>\n",
       "        <td style=\"padding-left: 1em; padding-right: 1em; text-align: center; vertical-align: top\">0</td>\n",
       "        <td style=\"padding-left: 1em; padding-right: 1em; text-align: center; vertical-align: top\">...</td>\n",
       "    </tr>\n",
       "    <tr>\n",
       "        <td style=\"padding-left: 1em; padding-right: 1em; text-align: center; vertical-align: top\">0</td>\n",
       "        <td style=\"padding-left: 1em; padding-right: 1em; text-align: center; vertical-align: top\">0</td>\n",
       "        <td style=\"padding-left: 1em; padding-right: 1em; text-align: center; vertical-align: top\">0</td>\n",
       "        <td style=\"padding-left: 1em; padding-right: 1em; text-align: center; vertical-align: top\">...</td>\n",
       "    </tr>\n",
       "    <tr>\n",
       "        <td style=\"padding-left: 1em; padding-right: 1em; text-align: center; vertical-align: top\">0</td>\n",
       "        <td style=\"padding-left: 1em; padding-right: 1em; text-align: center; vertical-align: top\">0</td>\n",
       "        <td style=\"padding-left: 1em; padding-right: 1em; text-align: center; vertical-align: top\">0</td>\n",
       "        <td style=\"padding-left: 1em; padding-right: 1em; text-align: center; vertical-align: top\">...</td>\n",
       "    </tr>\n",
       "    <tr>\n",
       "        <td style=\"padding-left: 1em; padding-right: 1em; text-align: center; vertical-align: top\">0</td>\n",
       "        <td style=\"padding-left: 1em; padding-right: 1em; text-align: center; vertical-align: top\">0</td>\n",
       "        <td style=\"padding-left: 1em; padding-right: 1em; text-align: center; vertical-align: top\">0</td>\n",
       "        <td style=\"padding-left: 1em; padding-right: 1em; text-align: center; vertical-align: top\">...</td>\n",
       "    </tr>\n",
       "    <tr>\n",
       "        <td style=\"padding-left: 1em; padding-right: 1em; text-align: center; vertical-align: top\">0</td>\n",
       "        <td style=\"padding-left: 1em; padding-right: 1em; text-align: center; vertical-align: top\">0</td>\n",
       "        <td style=\"padding-left: 1em; padding-right: 1em; text-align: center; vertical-align: top\">0</td>\n",
       "        <td style=\"padding-left: 1em; padding-right: 1em; text-align: center; vertical-align: top\">...</td>\n",
       "    </tr>\n",
       "    <tr>\n",
       "        <td style=\"padding-left: 1em; padding-right: 1em; text-align: center; vertical-align: top\">0</td>\n",
       "        <td style=\"padding-left: 1em; padding-right: 1em; text-align: center; vertical-align: top\">0</td>\n",
       "        <td style=\"padding-left: 1em; padding-right: 1em; text-align: center; vertical-align: top\">0</td>\n",
       "        <td style=\"padding-left: 1em; padding-right: 1em; text-align: center; vertical-align: top\">...</td>\n",
       "    </tr>\n",
       "</table>\n",
       "[13419 rows x 1164 columns]<br/>Note: Only the head of the SFrame is printed.<br/>You can use print_rows(num_rows=m, num_columns=n) to print more rows and columns.\n",
       "</div>"
      ],
      "text/plain": [
       "Columns:\n",
       "\tscore\tint\n",
       "\tbow.absolutely\tint\n",
       "\tbow.abundant\tint\n",
       "\tbow.accent\tint\n",
       "\tbow.accented\tfloat\n",
       "\tbow.accents\tint\n",
       "\tbow.accessible\tfloat\n",
       "\tbow.acid\tint\n",
       "\tbow.acidity\tint\n",
       "\tbow.acids\tfloat\n",
       "\tbow.add\tint\n",
       "\tbow.added\tfloat\n",
       "\tbow.adding\tfloat\n",
       "\tbow.addition\tfloat\n",
       "\tbow.additional\tfloat\n",
       "\tbow.adds\tint\n",
       "\tbow.aeration\tint\n",
       "\tbow.aftertaste\tint\n",
       "\tbow.age\tint\n",
       "\tbow.aged\tint\n",
       "\tbow.aging\tint\n",
       "\tbow.air\tint\n",
       "\tbow.alcohol\tint\n",
       "\tbow.allspice\tfloat\n",
       "\tbow.alluring\tint\n",
       "\tbow.almond\tint\n",
       "\tbow.alongside\tfloat\n",
       "\tbow.amazing\tint\n",
       "\tbow.american\tint\n",
       "\tbow.amount\tint\n",
       "\tbow.ample\tint\n",
       "\tbow.anise\tint\n",
       "\tbow.anticipated\tfloat\n",
       "\tbow.anytime\tfloat\n",
       "\tbow.appeal\tint\n",
       "\tbow.appealing\tint\n",
       "\tbow.appealingly\tfloat\n",
       "\tbow.appears\tint\n",
       "\tbow.apple\tint\n",
       "\tbow.apples\tint\n",
       "\tbow.approachable\tint\n",
       "\tbow.apricot\tfloat\n",
       "\tbow.april\tint\n",
       "\tbow.aroma\tint\n",
       "\tbow.aromas\tint\n",
       "\tbow.aromatic\tint\n",
       "\tbow.aromatically\tfloat\n",
       "\tbow.aromatics\tfloat\n",
       "\tbow.array\tfloat\n",
       "\tbow.asian\tint\n",
       "\tbow.attractive\tfloat\n",
       "\tbow.august\tint\n",
       "\tbow.austere\tint\n",
       "\tbow.awesome\tfloat\n",
       "\tbow.back\tint\n",
       "\tbow.backbone\tint\n",
       "\tbow.backed\tfloat\n",
       "\tbow.background\tint\n",
       "\tbow.backward\tint\n",
       "\tbow.bacon\tfloat\n",
       "\tbow.baked\tint\n",
       "\tbow.baking\tint\n",
       "\tbow.balance\tint\n",
       "\tbow.balanced\tint\n",
       "\tbow.balsamic\tint\n",
       "\tbow.barbaresco\tfloat\n",
       "\tbow.barolo\tfloat\n",
       "\tbow.barrel\tint\n",
       "\tbow.barrels\tfloat\n",
       "\tbow.base\tfloat\n",
       "\tbow.based\tfloat\n",
       "\tbow.bay\tfloat\n",
       "\tbow.beam\tfloat\n",
       "\tbow.beautiful\tint\n",
       "\tbow.beautifully\tint\n",
       "\tbow.beauty\tint\n",
       "\tbow.beckstoffer\tfloat\n",
       "\tbow.beef\tint\n",
       "\tbow.beginning\tint\n",
       "\tbow.benefit\tfloat\n",
       "\tbow.berries\tint\n",
       "\tbow.berry\tint\n",
       "\tbow.big\tint\n",
       "\tbow.bit\tint\n",
       "\tbow.bite\tfloat\n",
       "\tbow.bitter\tint\n",
       "\tbow.black\tint\n",
       "\tbow.blackberries\tint\n",
       "\tbow.blackberry\tint\n",
       "\tbow.blackcurrant\tint\n",
       "\tbow.blackcurrants\tfloat\n",
       "\tbow.blanc\tfloat\n",
       "\tbow.blend\tint\n",
       "\tbow.blended\tfloat\n",
       "\tbow.blends\tfloat\n",
       "\tbow.block\tfloat\n",
       "\tbow.blood\tint\n",
       "\tbow.blossom\tint\n",
       "\tbow.blue\tint\n",
       "\tbow.blueberries\tint\n",
       "\tbow.blueberry\tint\n",
       "\tbow.boasting\tfloat\n",
       "\tbow.boasts\tint\n",
       "\tbow.bodied\tint\n",
       "\tbow.body\tint\n",
       "\tbow.bold\tint\n",
       "\tbow.bordeaux\tint\n",
       "\tbow.bottle\tint\n",
       "\tbow.bottled\tint\n",
       "\tbow.bottles\tint\n",
       "\tbow.bottling\tint\n",
       "\tbow.bouquet\tint\n",
       "\tbow.box\tint\n",
       "\tbow.boysenberry\tint\n",
       "\tbow.bracing\tfloat\n",
       "\tbow.brambly\tfloat\n",
       "\tbow.breadth\tint\n",
       "\tbow.briary\tfloat\n",
       "\tbow.bright\tint\n",
       "\tbow.brightness\tfloat\n",
       "\tbow.brilliant\tint\n",
       "\tbow.brings\tint\n",
       "\tbow.brioche\tfloat\n",
       "\tbow.brisk\tfloat\n",
       "\tbow.broad\tint\n",
       "\tbow.brooding\tfloat\n",
       "\tbow.brown\tfloat\n",
       "\tbow.brunello\tint\n",
       "\tbow.build\tfloat\n",
       "\tbow.building\tint\n",
       "\tbow.builds\tint\n",
       "\tbow.built\tint\n",
       "\tbow.burst\tfloat\n",
       "\tbow.bursting\tfloat\n",
       "\tbow.bursts\tfloat\n",
       "\tbow.butter\tint\n",
       "\tbow.buttered\tfloat\n",
       "\tbow.buy\tint\n",
       "\tbow.ca\tint\n",
       "\tbow.cabernet\tint\n",
       "\tbow.cake\tint\n",
       "\tbow.california\tfloat\n",
       "\tbow.calls\tint\n",
       "\tbow.camphor\tfloat\n",
       "\tbow.candied\tint\n",
       "\tbow.captures\tfloat\n",
       "\tbow.caramel\tint\n",
       "\tbow.caramelized\tfloat\n",
       "\tbow.caressing\tint\n",
       "\tbow.carries\tint\n",
       "\tbow.carry\tfloat\n",
       "\tbow.carrying\tfloat\n",
       "\tbow.case\tfloat\n",
       "\tbow.cases\tfloat\n",
       "\tbow.cassis\tint\n",
       "\tbow.cedar\tint\n",
       "\tbow.cedary\tfloat\n",
       "\tbow.cellar\tint\n",
       "\tbow.cellared\tfloat\n",
       "\tbow.cellaring\tint\n",
       "\tbow.center\tint\n",
       "\tbow.chablis\tfloat\n",
       "\tbow.chalk\tint\n",
       "\tbow.chalky\tint\n",
       "\tbow.chamomile\tfloat\n",
       "\tbow.champagne\tfloat\n",
       "\tbow.character\tint\n",
       "\tbow.characteristics\tint\n",
       "\tbow.charcoal\tint\n",
       "\tbow.chardonnay\tint\n",
       "\tbow.chateau\tint\n",
       "\tbow.chateauneuf\tint\n",
       "\tbow.checks\tfloat\n",
       "\tbow.cherries\tint\n",
       "\tbow.cherry\tint\n",
       "\tbow.chewy\tint\n",
       "\tbow.chianti\tfloat\n",
       "\tbow.chocolate\tint\n",
       "\tbow.chocolatey\tfloat\n",
       "\tbow.choice\tint\n",
       "\tbow.christmas\tint\n",
       "\tbow.chteau\tint\n",
       "\tbow.chteauneuf\tfloat\n",
       "\tbow.cigar\tint\n",
       "\tbow.cinnamon\tfloat\n",
       "\tbow.citrus\tint\n",
       "\tbow.citrusy\tint\n",
       "\tbow.clarity\tint\n",
       "\tbow.class\tint\n",
       "\tbow.classic\tint\n",
       "\tbow.classically\tfloat\n",
       "\tbow.classico\tfloat\n",
       "\tbow.classy\tfloat\n",
       "\tbow.clean\tint\n",
       "\tbow.clear\tfloat\n",
       "\tbow.clings\tfloat\n",
       "\tbow.clone\tint\n",
       "\tbow.clos\tfloat\n",
       "\tbow.close\tint\n",
       "\tbow.closed\tfloat\n",
       "\tbow.closes\tfloat\n",
       "\tbow.clove\tfloat\n",
       "\tbow.cloves\tint\n",
       "\tbow.coating\tint\n",
       "\tbow.cocoa\tint\n",
       "\tbow.coffee\tint\n",
       "\tbow.cola\tint\n",
       "\tbow.cold\tint\n",
       "\tbow.color\tint\n",
       "\tbow.colored\tint\n",
       "\tbow.combination\tint\n",
       "\tbow.combine\tfloat\n",
       "\tbow.combines\tfloat\n",
       "\tbow.coming\tfloat\n",
       "\tbow.compact\tfloat\n",
       "\tbow.compared\tint\n",
       "\tbow.compelling\tint\n",
       "\tbow.complemented\tfloat\n",
       "\tbow.complete\tfloat\n",
       "\tbow.completely\tint\n",
       "\tbow.complex\tint\n",
       "\tbow.complexity\tfloat\n",
       "\tbow.complicated\tfloat\n",
       "\tbow.component\tfloat\n",
       "\tbow.composed\tfloat\n",
       "\tbow.compote\tint\n",
       "\tbow.concentrated\tint\n",
       "\tbow.concentration\tint\n",
       "\tbow.concrete\tfloat\n",
       "\tbow.considerable\tint\n",
       "\tbow.consistent\tfloat\n",
       "\tbow.continue\tfloat\n",
       "\tbow.continues\tfloat\n",
       "\tbow.conveying\tfloat\n",
       "\tbow.cool\tint\n",
       "\tbow.cooler\tint\n",
       "\tbow.copious\tfloat\n",
       "\tbow.core\tint\n",
       "\tbow.cotes\tfloat\n",
       "\tbow.coulis\tint\n",
       "\tbow.couple\tint\n",
       "\tbow.cracked\tint\n",
       "\tbow.crafted\tint\n",
       "\tbow.cranberry\tint\n",
       "\tbow.cream\tint\n",
       "\tbow.creamy\tint\n",
       "\tbow.creme\tint\n",
       "\tbow.crisp\tint\n",
       "\tbow.crme\tint\n",
       "\tbow.cru\tfloat\n",
       "\tbow.crunchy\tfloat\n",
       "\tbow.crushed\tint\n",
       "\tbow.cured\tfloat\n",
       "\tbow.currant\tint\n",
       "\tbow.currants\tint\n",
       "\tbow.cut\tint\n",
       "\tbow.cuve\tfloat\n",
       "\tbow.cuvee\tint\n",
       "\tbow.dark\tint\n",
       "\tbow.darker\tfloat\n",
       "\tbow.day\tfloat\n",
       "\tbow.days\tint\n",
       "\tbow.de\tint\n",
       "\tbow.decade\tint\n",
       "\tbow.decadent\tfloat\n",
       "\tbow.decades\tint\n",
       "\tbow.decant\tint\n",
       "\tbow.december\tint\n",
       "\tbow.decidedly\tfloat\n",
       "\tbow.deep\tint\n",
       "\tbow.deepen\tfloat\n",
       "\tbow.deeper\tfloat\n",
       "\tbow.deeply\tint\n",
       "\tbow.defined\tfloat\n",
       "\tbow.definition\tint\n",
       "\tbow.deftly\tint\n",
       "\tbow.del\tint\n",
       "\tbow.delicate\tint\n",
       "\tbow.delicious\tint\n",
       "\tbow.delineated\tfloat\n",
       "\tbow.delineation\tfloat\n",
       "\tbow.deliver\tfloat\n",
       "\tbow.delivers\tint\n",
       "\tbow.dense\tint\n",
       "\tbow.densely\tint\n",
       "\tbow.density\tint\n",
       "\tbow.depth\tint\n",
       "\tbow.des\tfloat\n",
       "\tbow.details\tfloat\n",
       "\tbow.develop\tint\n",
       "\tbow.developing\tint\n",
       "\tbow.develops\tfloat\n",
       "\tbow.di\tint\n",
       "\tbow.difficult\tfloat\n",
       "\tbow.display\tfloat\n",
       "\tbow.displaying\tint\n",
       "\tbow.displays\tfloat\n",
       "\tbow.distinct\tfloat\n",
       "\tbow.distinctive\tint\n",
       "\tbow.distinctly\tfloat\n",
       "\tbow.doesnt\tfloat\n",
       "\tbow.domaine\tfloat\n",
       "\tbow.dominate\tfloat\n",
       "\tbow.dont\tint\n",
       "\tbow.dried\tint\n",
       "\tbow.drink\tint\n",
       "\tbow.drinkable\tfloat\n",
       "\tbow.drinking\tint\n",
       "\tbow.drinks\tfloat\n",
       "\tbow.drunk\tint\n",
       "\tbow.dry\tint\n",
       "\tbow.du\tint\n",
       "\tbow.due\tint\n",
       "\tbow.dust\tint\n",
       "\tbow.dusty\tint\n",
       "\tbow.earlier\tfloat\n",
       "\tbow.early\tfloat\n",
       "\tbow.earth\tint\n",
       "\tbow.earthy\tint\n",
       "\tbow.easily\tint\n",
       "\tbow.easy\tint\n",
       "\tbow.echo\tfloat\n",
       "\tbow.echoes\tfloat\n",
       "\tbow.echoing\tfloat\n",
       "\tbow.edge\tfloat\n",
       "\tbow.edges\tint\n",
       "\tbow.effort\tint\n",
       "\tbow.effortlessly\tint\n",
       "\tbow.elegance\tint\n",
       "\tbow.elegant\tint\n",
       "\tbow.element\tint\n",
       "\tbow.elements\tint\n",
       "\tbow.emerge\tint\n",
       "\tbow.emerges\tfloat\n",
       "\tbow.emerging\tfloat\n",
       "\tbow.end\tint\n",
       "\tbow.ending\tfloat\n",
       "\tbow.endowed\tfloat\n",
       "\tbow.ends\tint\n",
       "\tbow.energetic\tfloat\n",
       "\tbow.energy\tint\n",
       "\tbow.enjoy\tint\n",
       "\tbow.enjoyed\tint\n",
       "\tbow.enlivened\tint\n",
       "\tbow.enormous\tint\n",
       "\tbow.enticing\tfloat\n",
       "\tbow.entry\tfloat\n",
       "\tbow.equal\tint\n",
       "\tbow.er\tfloat\n",
       "\tbow.espresso\tint\n",
       "\tbow.essence\tfloat\n",
       "\tbow.estate\tfloat\n",
       "\tbow.estates\tfloat\n",
       "\tbow.evokes\tfloat\n",
       "\tbow.evolution\tfloat\n",
       "\tbow.evolve\tfloat\n",
       "\tbow.evolved\tfloat\n",
       "\tbow.excellent\tint\n",
       "\tbow.exceptional\tint\n",
       "\tbow.exhibiting\tint\n",
       "\tbow.exhibits\tint\n",
       "\tbow.exotic\tfloat\n",
       "\tbow.expansive\tint\n",
       "\tbow.expect\tint\n",
       "\tbow.explosive\tfloat\n",
       "\tbow.expression\tint\n",
       "\tbow.expressive\tint\n",
       "\tbow.extended\tfloat\n",
       "\tbow.extra\tfloat\n",
       "\tbow.extract\tfloat\n",
       "\tbow.extracted\tfloat\n",
       "\tbow.extraordinary\tint\n",
       "\tbow.extremely\tint\n",
       "\tbow.exuberant\tfloat\n",
       "\tbow.fabulous\tint\n",
       "\tbow.fact\tfloat\n",
       "\tbow.fairly\tfloat\n",
       "\tbow.family\tint\n",
       "\tbow.fascinating\tint\n",
       "\tbow.fat\tfloat\n",
       "\tbow.favorite\tint\n",
       "\tbow.features\tint\n",
       "\tbow.featuring\tint\n",
       "\tbow.feel\tint\n",
       "\tbow.feels\tint\n",
       "\tbow.feet\tfloat\n",
       "\tbow.feminine\tfloat\n",
       "\tbow.fennel\tfloat\n",
       "\tbow.fermentation\tint\n",
       "\tbow.fermented\tint\n",
       "\tbow.fig\tint\n",
       "\tbow.fill\tfloat\n",
       "\tbow.filled\tfloat\n",
       "\tbow.fills\tfloat\n",
       "\tbow.final\tint\n",
       "\tbow.find\tint\n",
       "\tbow.fine\tint\n",
       "\tbow.finely\tint\n",
       "\tbow.finesse\tint\n",
       "\tbow.finest\tint\n",
       "\tbow.finish\tint\n",
       "\tbow.finishes\tint\n",
       "\tbow.finishing\tint\n",
       "\tbow.firm\tint\n",
       "\tbow.firmed\tfloat\n",
       "\tbow.firmly\tfloat\n",
       "\tbow.firmness\tfloat\n",
       "\tbow.flagship\tfloat\n",
       "\tbow.flavor\tint\n",
       "\tbow.flavorful\tint\n",
       "\tbow.flavors\tint\n",
       "\tbow.flesh\tfloat\n",
       "\tbow.fleshy\tfloat\n",
       "\tbow.floor\tint\n",
       "\tbow.floral\tint\n",
       "\tbow.flow\tint\n",
       "\tbow.flower\tint\n",
       "\tbow.flowers\tint\n",
       "\tbow.focus\tint\n",
       "\tbow.focused\tint\n",
       "\tbow.follow\tint\n",
       "\tbow.food\tint\n",
       "\tbow.forest\tint\n",
       "\tbow.form\tint\n",
       "\tbow.forward\tint\n",
       "\tbow.found\tint\n",
       "\tbow.fragrant\tint\n",
       "\tbow.frame\tint\n",
       "\tbow.framed\tfloat\n",
       "\tbow.framing\tfloat\n",
       "\tbow.franc\tint\n",
       "\tbow.francisco\tint\n",
       "\tbow.french\tint\n",
       "\tbow.fresh\tint\n",
       "\tbow.freshly\tfloat\n",
       "\tbow.freshness\tint\n",
       "\tbow.front\tint\n",
       "\tbow.fruit\tint\n",
       "\tbow.fruitcake\tint\n",
       "\tbow.fruits\tint\n",
       "\tbow.fruity\tint\n",
       "\tbow.full\tint\n",
       "\tbow.fully\tint\n",
       "\tbow.gain\tint\n",
       "\tbow.gaining\tfloat\n",
       "\tbow.gains\tint\n",
       "\tbow.game\tint\n",
       "\tbow.ganache\tint\n",
       "\tbow.garnacha\tint\n",
       "\tbow.garnet\tint\n",
       "\tbow.generous\tint\n",
       "\tbow.gentle\tint\n",
       "\tbow.gently\tint\n",
       "\tbow.ginger\tfloat\n",
       "\tbow.give\tint\n",
       "\tbow.giving\tint\n",
       "\tbow.glass\tint\n",
       "\tbow.gold\tfloat\n",
       "\tbow.golden\tfloat\n",
       "\tbow.good\tint\n",
       "\tbow.gorgeous\tint\n",
       "\tbow.gorgeously\tfloat\n",
       "\tbow.grace\tint\n",
       "\tbow.graceful\tint\n",
       "\tbow.gracefully\tfloat\n",
       "\tbow.gracious\tfloat\n",
       "\tbow.grainy\tfloat\n",
       "\tbow.grand\tfloat\n",
       "\tbow.grape\tfloat\n",
       "\tbow.grapefruit\tint\n",
       "\tbow.grapes\tint\n",
       "\tbow.graphite\tint\n",
       "\tbow.great\tint\n",
       "\tbow.greatest\tfloat\n",
       "\tbow.green\tint\n",
       "\tbow.grenache\tint\n",
       "\tbow.grilled\tint\n",
       "\tbow.grip\tint\n",
       "\tbow.grippy\tfloat\n",
       "\tbow.ground\tint\n",
       "\tbow.growing\tfloat\n",
       "\tbow.grown\tfloat\n",
       "\tbow.half\tfloat\n",
       "\tbow.handful\tfloat\n",
       "\tbow.hard\tint\n",
       "\tbow.harmonious\tint\n",
       "\tbow.harmony\tint\n",
       "\tbow.harvested\tint\n",
       "\tbow.hazelnut\tfloat\n",
       "\tbow.heady\tint\n",
       "\tbow.healthy\tfloat\n",
       "\tbow.heat\tint\n",
       "\tbow.heavy\tint\n",
       "\tbow.hedonistic\tint\n",
       "\tbow.herb\tint\n",
       "\tbow.herbal\tfloat\n",
       "\tbow.herbs\tint\n",
       "\tbow.high\tint\n",
       "\tbow.higher\tint\n",
       "\tbow.highly\tint\n",
       "\tbow.hill\tint\n",
       "\tbow.hills\tfloat\n",
       "\tbow.hint\tint\n",
       "\tbow.hints\tint\n",
       "\tbow.hit\tint\n",
       "\tbow.hits\tint\n",
       "\tbow.hold\tint\n",
       "\tbow.holding\tint\n",
       "\tbow.holds\tfloat\n",
       "\tbow.honey\tfloat\n",
       "\tbow.honeyed\tfloat\n",
       "\tbow.honeysuckle\tfloat\n",
       "\tbow.hot\tfloat\n",
       "\tbow.huge\tfloat\n",
       "\tbow.hugely\tfloat\n",
       "\tbow.immediately\tint\n",
       "\tbow.impeccable\tfloat\n",
       "\tbow.impeccably\tint\n",
       "\tbow.imported\tfloat\n",
       "\tbow.impresses\tfloat\n",
       "\tbow.impression\tint\n",
       "\tbow.impressive\tint\n",
       "\tbow.impressively\tint\n",
       "\tbow.improve\tfloat\n",
       "\tbow.incense\tint\n",
       "\tbow.incisive\tfloat\n",
       "\tbow.includes\tfloat\n",
       "\tbow.including\tfloat\n",
       "\tbow.incredible\tint\n",
       "\tbow.incredibly\tint\n",
       "\tbow.indian\tfloat\n",
       "\tbow.inky\tint\n",
       "\tbow.integrated\tfloat\n",
       "\tbow.integration\tfloat\n",
       "\tbow.intense\tint\n",
       "\tbow.intensely\tint\n",
       "\tbow.intensity\tint\n",
       "\tbow.interesting\tfloat\n",
       "\tbow.intermixed\tint\n",
       "\tbow.intriguing\tfloat\n",
       "\tbow.inviting\tint\n",
       "\tbow.iodine\tfloat\n",
       "\tbow.iron\tint\n",
       "\tbow.isnt\tfloat\n",
       "\tbow.jam\tint\n",
       "\tbow.jammy\tint\n",
       "\tbow.january\tint\n",
       "\tbow.jasmine\tfloat\n",
       "\tbow.jolt\tint\n",
       "\tbow.juicy\tint\n",
       "\tbow.jump\tfloat\n",
       "\tbow.june\tfloat\n",
       "\tbow.kalon\tfloat\n",
       "\tbow.keeping\tfloat\n",
       "\tbow.kick\tfloat\n",
       "\tbow.kind\tint\n",
       "\tbow.kirsch\tfloat\n",
       "\tbow.knockout\tfloat\n",
       "\tbow.la\tint\n",
       "\tbow.label\tfloat\n",
       "\tbow.laced\tfloat\n",
       "\tbow.large\tint\n",
       "\tbow.largely\tfloat\n",
       "\tbow.las\tfloat\n",
       "\tbow.lasting\tint\n",
       "\tbow.lasts\tint\n",
       "\tbow.late\tint\n",
       "\tbow.lavender\tint\n",
       "\tbow.layer\tint\n",
       "\tbow.layered\tint\n",
       "\tbow.layers\tint\n",
       "\tbow.le\tfloat\n",
       "\tbow.lead\tint\n",
       "\tbow.leading\tint\n",
       "\tbow.leaf\tint\n",
       "\tbow.leafy\tfloat\n",
       "\tbow.lean\tfloat\n",
       "\tbow.leather\tint\n",
       "\tbow.leaves\tfloat\n",
       "\tbow.leaving\tint\n",
       "\tbow.lees\tfloat\n",
       "\tbow.lemon\tint\n",
       "\tbow.lend\tfloat\n",
       "\tbow.lending\tfloat\n",
       "\tbow.length\tint\n",
       "\tbow.lengthy\tint\n",
       "\tbow.les\tint\n",
       "\tbow.lets\tint\n",
       "\tbow.level\tint\n",
       "\tbow.levels\tint\n",
       "\tbow.licorice\tint\n",
       "\tbow.life\tint\n",
       "\tbow.lift\tfloat\n",
       "\tbow.lifted\tint\n",
       "\tbow.light\tint\n",
       "\tbow.lighter\tfloat\n",
       "\tbow.lightly\tint\n",
       "\tbow.lime\tfloat\n",
       "\tbow.limestone\tfloat\n",
       "\tbow.line\tint\n",
       "\tbow.linear\tfloat\n",
       "\tbow.linger\tfloat\n",
       "\tbow.lingering\tint\n",
       "\tbow.lingers\tfloat\n",
       "\tbow.liqueur\tint\n",
       "\tbow.lithe\tfloat\n",
       "\tbow.lively\tint\n",
       "\tbow.loaded\tint\n",
       "\tbow.loads\tint\n",
       "\tbow.loamy\tfloat\n",
       "\tbow.located\tint\n",
       "\tbow.long\tint\n",
       "\tbow.longer\tfloat\n",
       "\tbow.longevity\tfloat\n",
       "\tbow.lot\tint\n",
       "\tbow.lots\tint\n",
       "\tbow.love\tint\n",
       "\tbow.lovely\tint\n",
       "\tbow.low\tint\n",
       "\tbow.lower\tint\n",
       "\tbow.luscious\tint\n",
       "\tbow.lush\tint\n",
       "\tbow.made\tint\n",
       "\tbow.magnificent\tfloat\n",
       "\tbow.make\tint\n",
       "\tbow.makes\tfloat\n",
       "\tbow.making\tfloat\n",
       "\tbow.malbec\tint\n",
       "\tbow.malolactic\tfloat\n",
       "\tbow.mark\tint\n",
       "\tbow.marked\tfloat\n",
       "\tbow.massive\tint\n",
       "\tbow.match\tint\n",
       "\tbow.mature\tfloat\n",
       "\tbow.matured\tfloat\n",
       "\tbow.maturity\tint\n",
       "\tbow.meat\tint\n",
       "\tbow.meats\tfloat\n",
       "\tbow.meaty\tfloat\n",
       "\tbow.medicinal\tfloat\n",
       "\tbow.mediterranean\tfloat\n",
       "\tbow.medium\tint\n",
       "\tbow.meld\tfloat\n",
       "\tbow.mellow\tfloat\n",
       "\tbow.melon\tfloat\n",
       "\tbow.melted\tfloat\n",
       "\tbow.menthol\tfloat\n",
       "\tbow.merit\tint\n",
       "\tbow.merlot\tint\n",
       "\tbow.meursault\tfloat\n",
       "\tbow.meyer\tfloat\n",
       "\tbow.middle\tint\n",
       "\tbow.midpalate\tfloat\n",
       "\tbow.mineral\tint\n",
       "\tbow.minerality\tint\n",
       "\tbow.minerally\tint\n",
       "\tbow.minerals\tint\n",
       "\tbow.mint\tint\n",
       "\tbow.minty\tfloat\n",
       "\tbow.mix\tint\n",
       "\tbow.mocha\tint\n",
       "\tbow.moderate\tfloat\n",
       "\tbow.moderately\tfloat\n",
       "\tbow.modern\tfloat\n",
       "\tbow.modest\tint\n",
       "\tbow.montalcino\tint\n",
       "\tbow.months\tint\n",
       "\tbow.mountain\tfloat\n",
       "\tbow.mourvedre\tfloat\n",
       "\tbow.mouth\tint\n",
       "\tbow.mouthfeel\tint\n",
       "\tbow.mouthwatering\tint\n",
       "\tbow.mulberry\tfloat\n",
       "\tbow.mulled\tint\n",
       "\tbow.muscular\tint\n",
       "\tbow.mushroom\tint\n",
       "\tbow.musky\tfloat\n",
       "\tbow.napa\tint\n",
       "\tbow.natural\tint\n",
       "\tbow.nebbiolo\tfloat\n",
       "\tbow.nectarine\tint\n",
       "\tbow.nervy\tfloat\n",
       "\tbow.neutral\tfloat\n",
       "\tbow.nice\tint\n",
       "\tbow.nicely\tint\n",
       "\tbow.noble\tint\n",
       "\tbow.noir\tint\n",
       "\tbow.northern\tfloat\n",
       "\tbow.nose\tint\n",
       "\tbow.notable\tfloat\n",
       "\tbow.note\tint\n",
       "\tbow.notes\tint\n",
       "\tbow.noteworthy\tfloat\n",
       "\tbow.notions\tint\n",
       "\tbow.november\tint\n",
       "\tbow.nuance\tint\n",
       "\tbow.nuanced\tfloat\n",
       "\tbow.nuances\tint\n",
       "\tbow.nutmeg\tfloat\n",
       "\tbow.nutty\tfloat\n",
       "\tbow.oak\tint\n",
       "\tbow.oaky\tfloat\n",
       "\tbow.obvious\tfloat\n",
       "\tbow.october\tint\n",
       "\tbow.offer\tfloat\n",
       "\tbow.offering\tint\n",
       "\tbow.offers\tint\n",
       "\tbow.older\tfloat\n",
       "\tbow.olive\tint\n",
       "\tbow.opaque\tint\n",
       "\tbow.open\tint\n",
       "\tbow.opening\tint\n",
       "\tbow.opens\tint\n",
       "\tbow.opulence\tint\n",
       "\tbow.opulent\tint\n",
       "\tbow.orange\tint\n",
       "\tbow.orchard\tfloat\n",
       "\tbow.outstanding\tint\n",
       "\tbow.overly\tint\n",
       "\tbow.overtone\tfloat\n",
       "\tbow.overtones\tfloat\n",
       "\tbow.oyster\tint\n",
       "\tbow.packed\tint\n",
       "\tbow.packs\tint\n",
       "\tbow.pair\tfloat\n",
       "\tbow.palate\tint\n",
       "\tbow.pale\tfloat\n",
       "\tbow.pape\tint\n",
       "\tbow.part\tint\n",
       "\tbow.parts\tint\n",
       "\tbow.past\tfloat\n",
       "\tbow.paste\tfloat\n",
       "\tbow.pastille\tint\n",
       "\tbow.patience\tint\n",
       "\tbow.pauillac\tint\n",
       "\tbow.peach\tint\n",
       "\tbow.pear\tfloat\n",
       "\tbow.peel\tint\n",
       "\tbow.pencil\tint\n",
       "\tbow.penetrating\tint\n",
       "\tbow.pepper\tint\n",
       "\tbow.peppery\tint\n",
       "\tbow.percentage\tint\n",
       "\tbow.perfect\tint\n",
       "\tbow.perfectly\tfloat\n",
       "\tbow.perfume\tint\n",
       "\tbow.perfumed\tint\n",
       "\tbow.persistence\tint\n",
       "\tbow.persistent\tint\n",
       "\tbow.personality\tint\n",
       "\tbow.petal\tint\n",
       "\tbow.petals\tint\n",
       "\tbow.petit\tint\n",
       "\tbow.petite\tfloat\n",
       "\tbow.pick\tfloat\n",
       "\tbow.picked\tfloat\n",
       "\tbow.picking\tint\n",
       "\tbow.picks\tfloat\n",
       "\tbow.pie\tint\n",
       "\tbow.pine\tfloat\n",
       "\tbow.pineapple\tfloat\n",
       "\tbow.pink\tint\n",
       "\tbow.pinot\tint\n",
       "\tbow.pipe\tint\n",
       "\tbow.pit\tfloat\n",
       "\tbow.pitched\tint\n",
       "\tbow.pith\tfloat\n",
       "\tbow.place\tfloat\n",
       "\tbow.planted\tint\n",
       "\tbow.plays\tint\n",
       "\tbow.pleasant\tfloat\n",
       "\tbow.pleasing\tfloat\n",
       "\tbow.pleasure\tfloat\n",
       "\tbow.plenty\tint\n",
       "\tbow.pliant\tfloat\n",
       "\tbow.plum\tint\n",
       "\tbow.plump\tint\n",
       "\tbow.plums\tint\n",
       "\tbow.plush\tint\n",
       "\tbow.poached\tfloat\n",
       "\tbow.point\tint\n",
       "\tbow.points\tint\n",
       "\tbow.polished\tint\n",
       "\tbow.pomegranate\tfloat\n",
       "\tbow.pork\tint\n",
       "\tbow.possess\tfloat\n",
       "\tbow.possesses\tint\n",
       "\tbow.potent\tfloat\n",
       "\tbow.potential\tint\n",
       "\tbow.potpourri\tfloat\n",
       "\tbow.power\tint\n",
       "\tbow.powerful\tint\n",
       "\tbow.precise\tint\n",
       "\tbow.precision\tfloat\n",
       "\tbow.presence\tint\n",
       "\tbow.present\tint\n",
       "\tbow.presents\tint\n",
       "\tbow.preserves\tint\n",
       "\tbow.pressed\tfloat\n",
       "\tbow.pretty\tint\n",
       "\tbow.price\tint\n",
       "\tbow.primary\tint\n",
       "\tbow.prior\tint\n",
       "\tbow.produce\tint\n",
       "\tbow.produced\tint\n",
       "\tbow.production\tfloat\n",
       "\tbow.profile\tfloat\n",
       "\tbow.profound\tint\n",
       "\tbow.promises\tfloat\n",
       "\tbow.proprietary\tint\n",
       "\tbow.provide\tfloat\n",
       "\tbow.providing\tint\n",
       "\tbow.punch\tint\n",
       "\tbow.pungent\tint\n",
       "\tbow.pure\tint\n",
       "\tbow.purity\tint\n",
       "\tbow.purple\tint\n",
       "\tbow.pushed\tfloat\n",
       "\tbow.put\tfloat\n",
       "\tbow.qualities\tfloat\n",
       "\tbow.quality\tint\n",
       "\tbow.quickly\tfloat\n",
       "\tbow.quince\tfloat\n",
       "\tbow.racy\tint\n",
       "\tbow.raised\tfloat\n",
       "\tbow.ranch\tfloat\n",
       "\tbow.range\tint\n",
       "\tbow.rare\tint\n",
       "\tbow.raspberries\tint\n",
       "\tbow.raspberry\tint\n",
       "\tbow.rating\tint\n",
       "\tbow.raw\tfloat\n",
       "\tbow.readers\tint\n",
       "\tbow.ready\tfloat\n",
       "\tbow.real\tint\n",
       "\tbow.recent\tint\n",
       "\tbow.red\tint\n",
       "\tbow.redcurrant\tint\n",
       "\tbow.reduction\tfloat\n",
       "\tbow.refined\tint\n",
       "\tbow.refreshing\tfloat\n",
       "\tbow.refreshingly\tfloat\n",
       "\tbow.release\tint\n",
       "\tbow.released\tfloat\n",
       "\tbow.remain\tfloat\n",
       "\tbow.remains\tint\n",
       "\tbow.remarkable\tint\n",
       "\tbow.remarkably\tint\n",
       "\tbow.repeating\tfloat\n",
       "\tbow.represents\tfloat\n",
       "\tbow.require\tint\n",
       "\tbow.reserva\tfloat\n",
       "\tbow.reserve\tfloat\n",
       "\tbow.reserved\tfloat\n",
       "\tbow.residual\tfloat\n",
       "\tbow.resonant\tfloat\n",
       "\tbow.resonating\tfloat\n",
       "\tbow.rest\tint\n",
       "\tbow.restrained\tfloat\n",
       "\tbow.result\tfloat\n",
       "\tbow.retains\tint\n",
       "\tbow.reticent\tfloat\n",
       "\tbow.reveal\tfloat\n",
       "\tbow.revealing\tint\n",
       "\tbow.reveals\tint\n",
       "\tbow.reward\tfloat\n",
       "\tbow.rhone\tfloat\n",
       "\tbow.rich\tint\n",
       "\tbow.richer\tfloat\n",
       "\tbow.richly\tfloat\n",
       "\tbow.richness\tint\n",
       "\tbow.riesling\tfloat\n",
       "\tbow.ripe\tint\n",
       "\tbow.ripeness\tint\n",
       "\tbow.riper\tint\n",
       "\tbow.riserva\tfloat\n",
       "\tbow.rita\tfloat\n",
       "\tbow.river\tint\n",
       "\tbow.roast\tint\n",
       "\tbow.roasted\tint\n",
       "\tbow.rock\tfloat\n",
       "\tbow.rocks\tint\n",
       "\tbow.ros\tfloat\n",
       "\tbow.rose\tint\n",
       "\tbow.rosemary\tfloat\n",
       "\tbow.rosso\tfloat\n",
       "\tbow.rough\tfloat\n",
       "\tbow.round\tint\n",
       "\tbow.rounded\tfloat\n",
       "\tbow.ruby\tint\n",
       "\tbow.russian\tfloat\n",
       "\tbow.rustic\tint\n",
       "\tbow.saddle\tfloat\n",
       "\tbow.sage\tint\n",
       "\tbow.saint\tfloat\n",
       "\tbow.saline\tfloat\n",
       "\tbow.salinity\tfloat\n",
       "\tbow.salt\tfloat\n",
       "\tbow.salty\tint\n",
       "\tbow.sample\tint\n",
       "\tbow.san\tint\n",
       "\tbow.sandalwood\tfloat\n",
       "\tbow.sangiovese\tint\n",
       "\tbow.santa\tfloat\n",
       "\tbow.sappy\tint\n",
       "\tbow.satisfying\tint\n",
       "\tbow.saturated\tfloat\n",
       "\tbow.sauce\tfloat\n",
       "\tbow.sauvignon\tint\n",
       "\tbow.savory\tint\n",
       "\tbow.scent\tfloat\n",
       "\tbow.scented\tfloat\n",
       "\tbow.scents\tint\n",
       "\tbow.scorched\tfloat\n",
       "\tbow.score\tint\n",
       "\tbow.sea\tint\n",
       "\tbow.seamless\tint\n",
       "\tbow.seamlessly\tint\n",
       "\tbow.seductive\tint\n",
       "\tbow.sees\tint\n",
       "\tbow.selection\tint\n",
       "\tbow.sensational\tfloat\n",
       "\tbow.sense\tint\n",
       "\tbow.sensual\tfloat\n",
       "\tbow.september\tint\n",
       "\tbow.serve\tint\n",
       "\tbow.set\tfloat\n",
       "\tbow.sexy\tint\n",
       "\tbow.shades\tfloat\n",
       "\tbow.shape\tint\n",
       "\tbow.sharpened\tfloat\n",
       "\tbow.sharply\tfloat\n",
       "\tbow.shavings\tint\n",
       "\tbow.shell\tint\n",
       "\tbow.shiraz\tfloat\n",
       "\tbow.show\tint\n",
       "\tbow.showing\tint\n",
       "\tbow.shows\tint\n",
       "\tbow.side\tint\n",
       "\tbow.signature\tint\n",
       "\tbow.silkiness\tfloat\n",
       "\tbow.silky\tint\n",
       "\tbow.similar\tfloat\n",
       "\tbow.simply\tint\n",
       "\tbow.singed\tfloat\n",
       "\tbow.single\tint\n",
       "\tbow.sirah\tfloat\n",
       "\tbow.site\tfloat\n",
       "\tbow.sites\tfloat\n",
       "\tbow.skin\tint\n",
       "\tbow.slate\tfloat\n",
       "\tbow.sleek\tfloat\n",
       "\tbow.sliced\tfloat\n",
       "\tbow.slight\tint\n",
       "\tbow.slightly\tint\n",
       "\tbow.slow\tint\n",
       "\tbow.slowly\tint\n",
       "\tbow.small\tfloat\n",
       "\tbow.smaller\tfloat\n",
       "\tbow.smells\tint\n",
       "\tbow.smoke\tint\n",
       "\tbow.smoked\tint\n",
       "\tbow.smokiness\tfloat\n",
       "\tbow.smoky\tint\n",
       "\tbow.smoldering\tfloat\n",
       "\tbow.smooth\tint\n",
       "\tbow.smoothly\tfloat\n",
       "\tbow.sneaky\tfloat\n",
       "\tbow.soft\tint\n",
       "\tbow.soften\tint\n",
       "\tbow.soil\tfloat\n",
       "\tbow.soils\tint\n",
       "\tbow.solid\tint\n",
       "\tbow.solidly\tfloat\n",
       "\tbow.sonoma\tfloat\n",
       "\tbow.sophisticated\tint\n",
       "\tbow.sour\tfloat\n",
       "\tbow.sourced\tint\n",
       "\tbow.southern\tfloat\n",
       "\tbow.special\tint\n",
       "\tbow.spectacular\tint\n",
       "\tbow.spent\tfloat\n",
       "\tbow.spice\tint\n",
       "\tbow.spicecake\tint\n",
       "\tbow.spiced\tfloat\n",
       "\tbow.spices\tint\n",
       "\tbow.spicier\tint\n",
       "\tbow.spiciness\tint\n",
       "\tbow.spicy\tint\n",
       "\tbow.spine\tfloat\n",
       "\tbow.spread\tfloat\n",
       "\tbow.spring\tint\n",
       "\tbow.st\tfloat\n",
       "\tbow.stage\tfloat\n",
       "\tbow.stainless\tfloat\n",
       "\tbow.stand\tint\n",
       "\tbow.stands\tfloat\n",
       "\tbow.star\tint\n",
       "\tbow.start\tfloat\n",
       "\tbow.starting\tint\n",
       "\tbow.starts\tint\n",
       "\tbow.stays\tint\n",
       "\tbow.steel\tint\n",
       "\tbow.steely\tfloat\n",
       "\tbow.steeped\tint\n",
       "\tbow.step\tint\n",
       "\tbow.stone\tint\n",
       "\tbow.stony\tint\n",
       "\tbow.straw\tint\n",
       "\tbow.strawberries\tfloat\n",
       "\tbow.strawberry\tint\n",
       "\tbow.streak\tfloat\n",
       "\tbow.strength\tfloat\n",
       "\tbow.striking\tint\n",
       "\tbow.strikingly\tint\n",
       "\tbow.strong\tint\n",
       "\tbow.strongly\tfloat\n",
       "\tbow.structure\tint\n",
       "\tbow.structured\tint\n",
       "\tbow.stunning\tint\n",
       "\tbow.stunningly\tfloat\n",
       "\tbow.style\tint\n",
       "\tbow.stylish\tfloat\n",
       "\tbow.suave\tfloat\n",
       "\tbow.substantial\tfloat\n",
       "\tbow.subtle\tint\n",
       "\tbow.subtly\tint\n",
       "\tbow.success\tfloat\n",
       "\tbow.successful\tfloat\n",
       "\tbow.succulent\tfloat\n",
       "\tbow.sugar\tfloat\n",
       "\tbow.suggest\tfloat\n",
       "\tbow.suggestion\tfloat\n",
       "\tbow.suggestions\tfloat\n",
       "\tbow.suggests\tfloat\n",
       "\tbow.sumptuous\tfloat\n",
       "\tbow.super\tint\n",
       "\tbow.superb\tint\n",
       "\tbow.supple\tint\n",
       "\tbow.support\tfloat\n",
       "\tbow.supported\tint\n",
       "\tbow.supporting\tfloat\n",
       "\tbow.surprising\tint\n",
       "\tbow.surprisingly\tfloat\n",
       "\tbow.suspect\tfloat\n",
       "\tbow.sweet\tint\n",
       "\tbow.sweeter\tfloat\n",
       "\tbow.sweetness\tint\n",
       "\tbow.syrah\tint\n",
       "\tbow.takes\tfloat\n",
       "\tbow.tangerine\tfloat\n",
       "\tbow.tangy\tint\n",
       "\tbow.tannic\tint\n",
       "\tbow.tannin\tint\n",
       "\tbow.tannins\tint\n",
       "\tbow.tar\tint\n",
       "\tbow.tarry\tfloat\n",
       "\tbow.tart\tfloat\n",
       "\tbow.taste\tint\n",
       "\tbow.tasted\tint\n",
       "\tbow.tastes\tfloat\n",
       "\tbow.tasting\tint\n",
       "\tbow.tasty\tfloat\n",
       "\tbow.taut\tfloat\n",
       "\tbow.tea\tint\n",
       "\tbow.tempranillo\tint\n",
       "\tbow.ten\tfloat\n",
       "\tbow.tension\tint\n",
       "\tbow.terms\tfloat\n",
       "\tbow.terrific\tfloat\n",
       "\tbow.terroir\tfloat\n",
       "\tbow.textbook\tfloat\n",
       "\tbow.textural\tfloat\n",
       "\tbow.texture\tint\n",
       "\tbow.textured\tint\n",
       "\tbow.thick\tint\n",
       "\tbow.things\tint\n",
       "\tbow.thrust\tint\n",
       "\tbow.tight\tint\n",
       "\tbow.tightly\tint\n",
       "\tbow.time\tint\n",
       "\tbow.tiny\tfloat\n",
       "\tbow.toast\tint\n",
       "\tbow.toasted\tint\n",
       "\tbow.toasty\tint\n",
       "\tbow.tobacco\tint\n",
       "\tbow.today\tint\n",
       "\tbow.tones\tint\n",
       "\tbow.tons\tfloat\n",
       "\tbow.top\tint\n",
       "\tbow.total\tfloat\n",
       "\tbow.totally\tint\n",
       "\tbow.touch\tint\n",
       "\tbow.touches\tint\n",
       "\tbow.traditional\tint\n",
       "\tbow.tremendous\tint\n",
       "\tbow.tropical\tfloat\n",
       "\tbow.true\tint\n",
       "\tbow.truffle\tfloat\n",
       "\tbow.turn\tfloat\n",
       "\tbow.turns\tint\n",
       "\tbow.typical\tfloat\n",
       "\tbow.underbrush\tint\n",
       "\tbow.underlying\tint\n",
       "\tbow.underscored\tfloat\n",
       "\tbow.understated\tfloat\n",
       "\tbow.undertones\tfloat\n",
       "\tbow.utterly\tint\n",
       "\tbow.valley\tint\n",
       "\tbow.vanilla\tint\n",
       "\tbow.varietal\tfloat\n",
       "\tbow.velvety\tint\n",
       "\tbow.verdot\tint\n",
       "\tbow.version\tint\n",
       "\tbow.verve\tint\n",
       "\tbow.vibrant\tint\n",
       "\tbow.vieilles\tfloat\n",
       "\tbow.vignes\tfloat\n",
       "\tbow.vine\tint\n",
       "\tbow.vines\tint\n",
       "\tbow.vineyard\tint\n",
       "\tbow.vineyards\tint\n",
       "\tbow.vintage\tint\n",
       "\tbow.vintages\tint\n",
       "\tbow.viognier\tfloat\n",
       "\tbow.violet\tint\n",
       "\tbow.violets\tint\n",
       "\tbow.vivacity\tfloat\n",
       "\tbow.vivid\tfloat\n",
       "\tbow.volume\tfloat\n",
       "\tbow.voluptuous\tint\n",
       "\tbow.wait\tint\n",
       "\tbow.walnut\tint\n",
       "\tbow.warm\tint\n",
       "\tbow.warmth\tfloat\n",
       "\tbow.weight\tint\n",
       "\tbow.wet\tint\n",
       "\tbow.whiff\tint\n",
       "\tbow.white\tint\n",
       "\tbow.wild\tint\n",
       "\tbow.wine\tint\n",
       "\tbow.winemaker\tfloat\n",
       "\tbow.winery\tfloat\n",
       "\tbow.wines\tint\n",
       "\tbow.wonderful\tint\n",
       "\tbow.wonderfully\tint\n",
       "\tbow.wont\tfloat\n",
       "\tbow.wood\tint\n",
       "\tbow.world\tint\n",
       "\tbow.worth\tfloat\n",
       "\tbow.wound\tint\n",
       "\tbow.woven\tfloat\n",
       "\tbow.wrap\tfloat\n",
       "\tbow.wrapped\tfloat\n",
       "\tbow.year\tint\n",
       "\tbow.years\tint\n",
       "\tbow.yellow\tint\n",
       "\tbow.yields\tfloat\n",
       "\tbow.young\tint\n",
       "\tbow.youthful\tint\n",
       "\tbow.youthfully\tint\n",
       "\tbow.zest\tint\n",
       "\tbow.zesty\tfloat\n",
       "\tbow.zinfandel\tfloat\n",
       "\n",
       "Rows: 13419\n",
       "\n",
       "Data:\n",
       "+-------+----------------+--------------+------------+--------------+-------------+\n",
       "| score | bow.absolutely | bow.abundant | bow.accent | bow.accented | bow.accents |\n",
       "+-------+----------------+--------------+------------+--------------+-------------+\n",
       "|   92  |       0        |      0       |     0      |     0.0      |      0      |\n",
       "|   94  |       0        |      0       |     0      |     0.0      |      0      |\n",
       "|   92  |       0        |      0       |     0      |     0.0      |      0      |\n",
       "|   92  |       0        |      0       |     0      |     0.0      |      0      |\n",
       "|   94  |       0        |      0       |     0      |     0.0      |      0      |\n",
       "|   93  |       0        |      0       |     0      |     0.0      |      0      |\n",
       "|   99  |       0        |      0       |     0      |     0.0      |      0      |\n",
       "|   95  |       0        |      0       |     0      |     0.0      |      0      |\n",
       "|   95  |       0        |      0       |     0      |     0.0      |      0      |\n",
       "|   90  |       0        |      0       |     0      |     0.0      |      0      |\n",
       "+-------+----------------+--------------+------------+--------------+-------------+\n",
       "+----------------+----------+-------------+-----------+---------+-----------+\n",
       "| bow.accessible | bow.acid | bow.acidity | bow.acids | bow.add | bow.added |\n",
       "+----------------+----------+-------------+-----------+---------+-----------+\n",
       "|      0.0       |    0     |      0      |    0.0    |    0    |    0.0    |\n",
       "|      0.0       |    0     |      0      |    0.0    |    0    |    0.0    |\n",
       "|      0.0       |    0     |      0      |    0.0    |    0    |    0.0    |\n",
       "|      0.0       |    0     |      1      |    0.0    |    0    |    0.0    |\n",
       "|      0.0       |    0     |      0      |    0.0    |    0    |    0.0    |\n",
       "|      0.0       |    0     |      0      |    0.0    |    0    |    0.0    |\n",
       "|      0.0       |    0     |      0      |    0.0    |    0    |    0.0    |\n",
       "|      0.0       |    0     |      0      |    0.0    |    0    |    0.0    |\n",
       "|      0.0       |    0     |      1      |    0.0    |    0    |    0.0    |\n",
       "|      0.0       |    1     |      0      |    0.0    |    0    |    0.0    |\n",
       "+----------------+----------+-------------+-----------+---------+-----------+\n",
       "+------------+--------------+----------------+----------+--------------+----------------+\n",
       "| bow.adding | bow.addition | bow.additional | bow.adds | bow.aeration | bow.aftertaste |\n",
       "+------------+--------------+----------------+----------+--------------+----------------+\n",
       "|    0.0     |     0.0      |      0.0       |    0     |      0       |       0        |\n",
       "|    0.0     |     0.0      |      0.0       |    0     |      0       |       0        |\n",
       "|    0.0     |     0.0      |      0.0       |    0     |      0       |       0        |\n",
       "|    0.0     |     0.0      |      0.0       |    0     |      0       |       1        |\n",
       "|    0.0     |     0.0      |      0.0       |    0     |      0       |       0        |\n",
       "|    0.0     |     0.0      |      0.0       |    0     |      0       |       0        |\n",
       "|    0.0     |     0.0      |      0.0       |    0     |      0       |       0        |\n",
       "|    0.0     |     0.0      |      0.0       |    0     |      0       |       0        |\n",
       "|    0.0     |     0.0      |      0.0       |    0     |      0       |       0        |\n",
       "|    0.0     |     0.0      |      0.0       |    0     |      0       |       0        |\n",
       "+------------+--------------+----------------+----------+--------------+----------------+\n",
       "+---------+----------+-----+\n",
       "| bow.age | bow.aged | ... |\n",
       "+---------+----------+-----+\n",
       "|    0    |    0     | ... |\n",
       "|    0    |    0     | ... |\n",
       "|    0    |    0     | ... |\n",
       "|    0    |    0     | ... |\n",
       "|    0    |    0     | ... |\n",
       "|    0    |    0     | ... |\n",
       "|    0    |    0     | ... |\n",
       "|    0    |    0     | ... |\n",
       "|    0    |    0     | ... |\n",
       "|    0    |    0     | ... |\n",
       "+---------+----------+-----+\n",
       "[13419 rows x 1164 columns]\n",
       "Note: Only the head of the SFrame is printed.\n",
       "You can use print_rows(num_rows=m, num_columns=n) to print more rows and columns."
      ]
     },
     "execution_count": 159,
     "metadata": {},
     "output_type": "execute_result"
    }
   ],
   "source": [
    "#show frame for reg\n",
    "rreg"
   ]
  },
  {
   "cell_type": "markdown",
   "metadata": {},
   "source": [
    "<b>Note: The frame is sparse, but we will ignore that issue for now and do the regression anyway.</b>"
   ]
  },
  {
   "cell_type": "code",
   "execution_count": 162,
   "metadata": {
    "collapsed": false
   },
   "outputs": [
    {
     "name": "stdout",
     "output_type": "stream",
     "text": [
      "PROGRESS: Creating a validation set from 5 percent of training data. This may take a while.\n",
      "          You can set ``validation_set=None`` to disable validation tracking.\n",
      "\n"
     ]
    },
    {
     "data": {
      "text/html": [
       "<pre>Linear regression:</pre>"
      ],
      "text/plain": [
       "Linear regression:"
      ]
     },
     "metadata": {},
     "output_type": "display_data"
    },
    {
     "data": {
      "text/html": [
       "<pre>--------------------------------------------------------</pre>"
      ],
      "text/plain": [
       "--------------------------------------------------------"
      ]
     },
     "metadata": {},
     "output_type": "display_data"
    },
    {
     "data": {
      "text/html": [
       "<pre>Number of examples          : 7520</pre>"
      ],
      "text/plain": [
       "Number of examples          : 7520"
      ]
     },
     "metadata": {},
     "output_type": "display_data"
    },
    {
     "data": {
      "text/html": [
       "<pre>Number of features          : 1163</pre>"
      ],
      "text/plain": [
       "Number of features          : 1163"
      ]
     },
     "metadata": {},
     "output_type": "display_data"
    },
    {
     "data": {
      "text/html": [
       "<pre>Number of unpacked features : 1163</pre>"
      ],
      "text/plain": [
       "Number of unpacked features : 1163"
      ]
     },
     "metadata": {},
     "output_type": "display_data"
    },
    {
     "data": {
      "text/html": [
       "<pre>Number of coefficients    : 1164</pre>"
      ],
      "text/plain": [
       "Number of coefficients    : 1164"
      ]
     },
     "metadata": {},
     "output_type": "display_data"
    },
    {
     "data": {
      "text/html": [
       "<pre>Starting L-BFGS</pre>"
      ],
      "text/plain": [
       "Starting L-BFGS"
      ]
     },
     "metadata": {},
     "output_type": "display_data"
    },
    {
     "data": {
      "text/html": [
       "<pre>--------------------------------------------------------</pre>"
      ],
      "text/plain": [
       "--------------------------------------------------------"
      ]
     },
     "metadata": {},
     "output_type": "display_data"
    },
    {
     "data": {
      "text/html": [
       "<pre>+-----------+----------+-----------+--------------+--------------------+----------------------+---------------+-----------------+</pre>"
      ],
      "text/plain": [
       "+-----------+----------+-----------+--------------+--------------------+----------------------+---------------+-----------------+"
      ]
     },
     "metadata": {},
     "output_type": "display_data"
    },
    {
     "data": {
      "text/html": [
       "<pre>| Iteration | Passes   | Step size | Elapsed Time | Training-max_error | Validation-max_error | Training-rmse | Validation-rmse |</pre>"
      ],
      "text/plain": [
       "| Iteration | Passes   | Step size | Elapsed Time | Training-max_error | Validation-max_error | Training-rmse | Validation-rmse |"
      ]
     },
     "metadata": {},
     "output_type": "display_data"
    },
    {
     "data": {
      "text/html": [
       "<pre>+-----------+----------+-----------+--------------+--------------------+----------------------+---------------+-----------------+</pre>"
      ],
      "text/plain": [
       "+-----------+----------+-----------+--------------+--------------------+----------------------+---------------+-----------------+"
      ]
     },
     "metadata": {},
     "output_type": "display_data"
    },
    {
     "data": {
      "text/html": [
       "<pre>| 1         | 6        | 0.000002  | 0.709687     | 188.316256         | 104.594468           | 42.058319     | 38.361619       |</pre>"
      ],
      "text/plain": [
       "| 1         | 6        | 0.000002  | 0.709687     | 188.316256         | 104.594468           | 42.058319     | 38.361619       |"
      ]
     },
     "metadata": {},
     "output_type": "display_data"
    },
    {
     "data": {
      "text/html": [
       "<pre>| 2         | 9        | 5.000000  | 1.551057     | 104.590421         | 92.774411            | 34.595020     | 32.244848       |</pre>"
      ],
      "text/plain": [
       "| 2         | 9        | 5.000000  | 1.551057     | 104.590421         | 92.774411            | 34.595020     | 32.244848       |"
      ]
     },
     "metadata": {},
     "output_type": "display_data"
    },
    {
     "data": {
      "text/html": [
       "<pre>| 3         | 10       | 5.000000  | 1.709269     | 145.975630         | 132.102072           | 39.910947     | 38.579649       |</pre>"
      ],
      "text/plain": [
       "| 3         | 10       | 5.000000  | 1.709269     | 145.975630         | 132.102072           | 39.910947     | 38.579649       |"
      ]
     },
     "metadata": {},
     "output_type": "display_data"
    },
    {
     "data": {
      "text/html": [
       "<pre>| 4         | 12       | 1.000000  | 1.974869     | 82.624491          | 76.386712            | 29.197449     | 28.437502       |</pre>"
      ],
      "text/plain": [
       "| 4         | 12       | 1.000000  | 1.974869     | 82.624491          | 76.386712            | 29.197449     | 28.437502       |"
      ]
     },
     "metadata": {},
     "output_type": "display_data"
    },
    {
     "data": {
      "text/html": [
       "<pre>| 5         | 13       | 1.000000  | 2.136660     | 127.072202         | 97.522096            | 32.487280     | 31.140226       |</pre>"
      ],
      "text/plain": [
       "| 5         | 13       | 1.000000  | 2.136660     | 127.072202         | 97.522096            | 32.487280     | 31.140226       |"
      ]
     },
     "metadata": {},
     "output_type": "display_data"
    },
    {
     "data": {
      "text/html": [
       "<pre>| 6         | 15       | 1.000000  | 3.174211     | 78.107568          | 76.107568            | 27.446539     | 26.464453       |</pre>"
      ],
      "text/plain": [
       "| 6         | 15       | 1.000000  | 3.174211     | 78.107568          | 76.107568            | 27.446539     | 26.464453       |"
      ]
     },
     "metadata": {},
     "output_type": "display_data"
    },
    {
     "data": {
      "text/html": [
       "<pre>| 10        | 19       | 1.000000  | 3.798020     | 256.040360         | 208.104119           | 50.181152     | 49.873901       |</pre>"
      ],
      "text/plain": [
       "| 10        | 19       | 1.000000  | 3.798020     | 256.040360         | 208.104119           | 50.181152     | 49.873901       |"
      ]
     },
     "metadata": {},
     "output_type": "display_data"
    },
    {
     "data": {
      "text/html": [
       "<pre>+-----------+----------+-----------+--------------+--------------------+----------------------+---------------+-----------------+</pre>"
      ],
      "text/plain": [
       "+-----------+----------+-----------+--------------+--------------------+----------------------+---------------+-----------------+"
      ]
     },
     "metadata": {},
     "output_type": "display_data"
    },
    {
     "data": {
      "text/html": [
       "<pre>TERMINATED: Iteration limit reached.</pre>"
      ],
      "text/plain": [
       "TERMINATED: Iteration limit reached."
      ]
     },
     "metadata": {},
     "output_type": "display_data"
    },
    {
     "data": {
      "text/html": [
       "<pre>This model may not be optimal. To improve it, consider increasing `max_iterations`.</pre>"
      ],
      "text/plain": [
       "This model may not be optimal. To improve it, consider increasing `max_iterations`."
      ]
     },
     "metadata": {},
     "output_type": "display_data"
    }
   ],
   "source": [
    "#drop missing values\n",
    "rreg1=rreg.dropna('score')\n",
    "#run regression\n",
    "model=gl.regression.create(rreg1,target='score', features=g)\n",
    "coef=model['coefficients']\n",
    "#get words\n",
    "words=coef[['name','value']]\n",
    "#drop bow. \n",
    "words['name']=words['name'].apply(lambda x: x[4:])\n",
    "#sort words by value\n",
    "words=words.sort('value')\n",
    "#keep only words that have large impact positive or negative\n",
    "words['value']=words['value'].apply(lambda x: x if x>5 or x<-5 else None)\n",
    "#drop na\n",
    "words=words.dropna('value')\n",
    "#get words\n",
    "word=list(words['name'])\n",
    "#drop intercept\n",
    "word=word[:-1]"
   ]
  },
  {
   "cell_type": "code",
   "execution_count": 163,
   "metadata": {
    "collapsed": false
   },
   "outputs": [
    {
     "data": {
      "text/plain": [
       "436"
      ]
     },
     "execution_count": 163,
     "metadata": {},
     "output_type": "execute_result"
    }
   ],
   "source": [
    "#len of word\n",
    "len(word)"
   ]
  },
  {
   "cell_type": "code",
   "execution_count": 164,
   "metadata": {
    "collapsed": false
   },
   "outputs": [
    {
     "data": {
      "text/plain": [
       "27"
      ]
     },
     "execution_count": 164,
     "metadata": {},
     "output_type": "execute_result"
    }
   ],
   "source": [
    "#see amount of overlap with list from wiki and WE\n",
    "len(list(set(word)&set(list(words1['X1']))))"
   ]
  },
  {
   "cell_type": "markdown",
   "metadata": {},
   "source": [
    "## Interpretation\n",
    "\n",
    "Remember the goal! Cluster/Catergorize! Honestly, you would need to test both sets with different clustering techniques and features and EVEN then you would need to use some subjective measure for what is a good grouping of wines. So here, we are not going say much about which list of words to reduce the tf-idf on would be better. We will use the first list just beause this regression is about scoring wine and I am not a 100% sold that a list created with score in mine caputures the type of clusters we want to (but like I said, we need to test and see)."
   ]
  },
  {
   "cell_type": "markdown",
   "metadata": {},
   "source": [
    "## K-means\n",
    "\n",
    "K-means finds cluster centers for a predetermined number of clusters (\"K\") by minimizing the sum of squared distances from each point to its assigned cluster. Points are assigned to the cluster whose center is closest.\n",
    "\n",
    "Lloyd's algorithm is the standard way to compute K-means clusters, and it describes the essential intuition for the method. After initial centers are chosen, two steps repeat until the cluster assignment no longer changes for any point (which is equivalent to the cluster centers no longer moving):\n",
    "<ol>\n",
    "<li>    Assign each point to the cluster with the closest center.</li>\n",
    "<li>    Update each cluster center to the be mean of the assigned points.</li></ol>\n",
    "\n",
    "### Performing K-means here\n",
    "For this example, we will just run K-means of the tf-idf column. And will not pick K with the standard trick [K = int(sqrt(sf.num_rows() / 2.0))]. For this run, just set K=10"
   ]
  },
  {
   "cell_type": "code",
   "execution_count": 165,
   "metadata": {
    "collapsed": false
   },
   "outputs": [
    {
     "data": {
      "text/html": [
       "<pre>Batch size is larger than the input dataset. Switching to an exact Kmeans method.</pre>"
      ],
      "text/plain": [
       "Batch size is larger than the input dataset. Switching to an exact Kmeans method."
      ]
     },
     "metadata": {},
     "output_type": "display_data"
    },
    {
     "data": {
      "text/html": [
       "<pre>Choosing initial cluster centers with Kmeans++.</pre>"
      ],
      "text/plain": [
       "Choosing initial cluster centers with Kmeans++."
      ]
     },
     "metadata": {},
     "output_type": "display_data"
    },
    {
     "data": {
      "text/html": [
       "<pre>+---------------+-----------+</pre>"
      ],
      "text/plain": [
       "+---------------+-----------+"
      ]
     },
     "metadata": {},
     "output_type": "display_data"
    },
    {
     "data": {
      "text/html": [
       "<pre>| Center number | Row index |</pre>"
      ],
      "text/plain": [
       "| Center number | Row index |"
      ]
     },
     "metadata": {},
     "output_type": "display_data"
    },
    {
     "data": {
      "text/html": [
       "<pre>+---------------+-----------+</pre>"
      ],
      "text/plain": [
       "+---------------+-----------+"
      ]
     },
     "metadata": {},
     "output_type": "display_data"
    },
    {
     "data": {
      "text/html": [
       "<pre>| 0             | 8701      |</pre>"
      ],
      "text/plain": [
       "| 0             | 8701      |"
      ]
     },
     "metadata": {},
     "output_type": "display_data"
    },
    {
     "data": {
      "text/html": [
       "<pre>| 1             | 3420      |</pre>"
      ],
      "text/plain": [
       "| 1             | 3420      |"
      ]
     },
     "metadata": {},
     "output_type": "display_data"
    },
    {
     "data": {
      "text/html": [
       "<pre>| 2             | 210       |</pre>"
      ],
      "text/plain": [
       "| 2             | 210       |"
      ]
     },
     "metadata": {},
     "output_type": "display_data"
    },
    {
     "data": {
      "text/html": [
       "<pre>| 3             | 3334      |</pre>"
      ],
      "text/plain": [
       "| 3             | 3334      |"
      ]
     },
     "metadata": {},
     "output_type": "display_data"
    },
    {
     "data": {
      "text/html": [
       "<pre>| 4             | 7032      |</pre>"
      ],
      "text/plain": [
       "| 4             | 7032      |"
      ]
     },
     "metadata": {},
     "output_type": "display_data"
    },
    {
     "data": {
      "text/html": [
       "<pre>| 5             | 7260      |</pre>"
      ],
      "text/plain": [
       "| 5             | 7260      |"
      ]
     },
     "metadata": {},
     "output_type": "display_data"
    },
    {
     "data": {
      "text/html": [
       "<pre>+---------------+-----------+</pre>"
      ],
      "text/plain": [
       "+---------------+-----------+"
      ]
     },
     "metadata": {},
     "output_type": "display_data"
    },
    {
     "data": {
      "text/html": [
       "<pre>Starting kmeans model training.</pre>"
      ],
      "text/plain": [
       "Starting kmeans model training."
      ]
     },
     "metadata": {},
     "output_type": "display_data"
    },
    {
     "data": {
      "text/html": [
       "<pre>Assigning points to initial cluster centers.</pre>"
      ],
      "text/plain": [
       "Assigning points to initial cluster centers."
      ]
     },
     "metadata": {},
     "output_type": "display_data"
    },
    {
     "data": {
      "text/html": [
       "<pre>+-----------+-------------------------------+</pre>"
      ],
      "text/plain": [
       "+-----------+-------------------------------+"
      ]
     },
     "metadata": {},
     "output_type": "display_data"
    },
    {
     "data": {
      "text/html": [
       "<pre>| Iteration | Number of changed assignments |</pre>"
      ],
      "text/plain": [
       "| Iteration | Number of changed assignments |"
      ]
     },
     "metadata": {},
     "output_type": "display_data"
    },
    {
     "data": {
      "text/html": [
       "<pre>+-----------+-------------------------------+</pre>"
      ],
      "text/plain": [
       "+-----------+-------------------------------+"
      ]
     },
     "metadata": {},
     "output_type": "display_data"
    },
    {
     "data": {
      "text/html": [
       "<pre>| 1         | 1325                          |</pre>"
      ],
      "text/plain": [
       "| 1         | 1325                          |"
      ]
     },
     "metadata": {},
     "output_type": "display_data"
    },
    {
     "data": {
      "text/html": [
       "<pre>| 2         | 782                           |</pre>"
      ],
      "text/plain": [
       "| 2         | 782                           |"
      ]
     },
     "metadata": {},
     "output_type": "display_data"
    },
    {
     "data": {
      "text/html": [
       "<pre>| 3         | 475                           |</pre>"
      ],
      "text/plain": [
       "| 3         | 475                           |"
      ]
     },
     "metadata": {},
     "output_type": "display_data"
    },
    {
     "data": {
      "text/html": [
       "<pre>| 4         | 387                           |</pre>"
      ],
      "text/plain": [
       "| 4         | 387                           |"
      ]
     },
     "metadata": {},
     "output_type": "display_data"
    },
    {
     "data": {
      "text/html": [
       "<pre>| 5         | 238                           |</pre>"
      ],
      "text/plain": [
       "| 5         | 238                           |"
      ]
     },
     "metadata": {},
     "output_type": "display_data"
    },
    {
     "data": {
      "text/html": [
       "<pre>| 6         | 216                           |</pre>"
      ],
      "text/plain": [
       "| 6         | 216                           |"
      ]
     },
     "metadata": {},
     "output_type": "display_data"
    },
    {
     "data": {
      "text/html": [
       "<pre>| 7         | 249                           |</pre>"
      ],
      "text/plain": [
       "| 7         | 249                           |"
      ]
     },
     "metadata": {},
     "output_type": "display_data"
    },
    {
     "data": {
      "text/html": [
       "<pre>| 8         | 203                           |</pre>"
      ],
      "text/plain": [
       "| 8         | 203                           |"
      ]
     },
     "metadata": {},
     "output_type": "display_data"
    },
    {
     "data": {
      "text/html": [
       "<pre>| 9         | 130                           |</pre>"
      ],
      "text/plain": [
       "| 9         | 130                           |"
      ]
     },
     "metadata": {},
     "output_type": "display_data"
    },
    {
     "data": {
      "text/html": [
       "<pre>| 10        | 64                            |</pre>"
      ],
      "text/plain": [
       "| 10        | 64                            |"
      ]
     },
     "metadata": {},
     "output_type": "display_data"
    },
    {
     "data": {
      "text/html": [
       "<pre>| 11        | 40                            |</pre>"
      ],
      "text/plain": [
       "| 11        | 40                            |"
      ]
     },
     "metadata": {},
     "output_type": "display_data"
    },
    {
     "data": {
      "text/html": [
       "<pre>| 12        | 25                            |</pre>"
      ],
      "text/plain": [
       "| 12        | 25                            |"
      ]
     },
     "metadata": {},
     "output_type": "display_data"
    },
    {
     "data": {
      "text/html": [
       "<pre>| 13        | 6                             |</pre>"
      ],
      "text/plain": [
       "| 13        | 6                             |"
      ]
     },
     "metadata": {},
     "output_type": "display_data"
    },
    {
     "data": {
      "text/html": [
       "<pre>| 14        | 2                             |</pre>"
      ],
      "text/plain": [
       "| 14        | 2                             |"
      ]
     },
     "metadata": {},
     "output_type": "display_data"
    },
    {
     "data": {
      "text/html": [
       "<pre>| 15        | 0                             |</pre>"
      ],
      "text/plain": [
       "| 15        | 0                             |"
      ]
     },
     "metadata": {},
     "output_type": "display_data"
    },
    {
     "data": {
      "text/html": [
       "<pre>+-----------+-------------------------------+</pre>"
      ],
      "text/plain": [
       "+-----------+-------------------------------+"
      ]
     },
     "metadata": {},
     "output_type": "display_data"
    }
   ],
   "source": [
    "#pick feature\n",
    "sf1=sf[['tfidf']]\n",
    "#set words1 as list\n",
    "x=list(words1['X1'])\n",
    "\n",
    "#get rid of words that aren't from wiki/we\n",
    "sf1['tfidf']=sf1['tfidf'].dict_trim_by_keys(x,exclude=False)\n",
    "\n",
    "#run k-means\n",
    "kmeans_model = gl.kmeans.create(sf1, num_clusters=10, max_iterations=200)"
   ]
  },
  {
   "cell_type": "code",
   "execution_count": 166,
   "metadata": {
    "collapsed": false
   },
   "outputs": [
    {
     "data": {
      "text/html": [
       "<div style=\"max-height:1000px;max-width:1500px;overflow:auto;\"><table frame=\"box\" rules=\"cols\">\n",
       "    <tr>\n",
       "        <th style=\"padding-left: 1em; padding-right: 1em; text-align: center\">cluster_id</th>\n",
       "        <th style=\"padding-left: 1em; padding-right: 1em; text-align: center\">size</th>\n",
       "        <th style=\"padding-left: 1em; padding-right: 1em; text-align: center\">sum_squared_distance</th>\n",
       "    </tr>\n",
       "    <tr>\n",
       "        <td style=\"padding-left: 1em; padding-right: 1em; text-align: center; vertical-align: top\">0</td>\n",
       "        <td style=\"padding-left: 1em; padding-right: 1em; text-align: center; vertical-align: top\">373</td>\n",
       "        <td style=\"padding-left: 1em; padding-right: 1em; text-align: center; vertical-align: top\">53731.7275276</td>\n",
       "    </tr>\n",
       "    <tr>\n",
       "        <td style=\"padding-left: 1em; padding-right: 1em; text-align: center; vertical-align: top\">1</td>\n",
       "        <td style=\"padding-left: 1em; padding-right: 1em; text-align: center; vertical-align: top\">1</td>\n",
       "        <td style=\"padding-left: 1em; padding-right: 1em; text-align: center; vertical-align: top\">0.0</td>\n",
       "    </tr>\n",
       "    <tr>\n",
       "        <td style=\"padding-left: 1em; padding-right: 1em; text-align: center; vertical-align: top\">2</td>\n",
       "        <td style=\"padding-left: 1em; padding-right: 1em; text-align: center; vertical-align: top\">355</td>\n",
       "        <td style=\"padding-left: 1em; padding-right: 1em; text-align: center; vertical-align: top\">22889.016849</td>\n",
       "    </tr>\n",
       "    <tr>\n",
       "        <td style=\"padding-left: 1em; padding-right: 1em; text-align: center; vertical-align: top\">3</td>\n",
       "        <td style=\"padding-left: 1em; padding-right: 1em; text-align: center; vertical-align: top\">2</td>\n",
       "        <td style=\"padding-left: 1em; padding-right: 1em; text-align: center; vertical-align: top\">260.737915039</td>\n",
       "    </tr>\n",
       "    <tr>\n",
       "        <td style=\"padding-left: 1em; padding-right: 1em; text-align: center; vertical-align: top\">4</td>\n",
       "        <td style=\"padding-left: 1em; padding-right: 1em; text-align: center; vertical-align: top\">510</td>\n",
       "        <td style=\"padding-left: 1em; padding-right: 1em; text-align: center; vertical-align: top\">29165.6970606</td>\n",
       "    </tr>\n",
       "    <tr>\n",
       "        <td style=\"padding-left: 1em; padding-right: 1em; text-align: center; vertical-align: top\">5</td>\n",
       "        <td style=\"padding-left: 1em; padding-right: 1em; text-align: center; vertical-align: top\">6150</td>\n",
       "        <td style=\"padding-left: 1em; padding-right: 1em; text-align: center; vertical-align: top\">185440.280311</td>\n",
       "    </tr>\n",
       "    <tr>\n",
       "        <td style=\"padding-left: 1em; padding-right: 1em; text-align: center; vertical-align: top\">6</td>\n",
       "        <td style=\"padding-left: 1em; padding-right: 1em; text-align: center; vertical-align: top\">514</td>\n",
       "        <td style=\"padding-left: 1em; padding-right: 1em; text-align: center; vertical-align: top\">27680.574976</td>\n",
       "    </tr>\n",
       "    <tr>\n",
       "        <td style=\"padding-left: 1em; padding-right: 1em; text-align: center; vertical-align: top\">7</td>\n",
       "        <td style=\"padding-left: 1em; padding-right: 1em; text-align: center; vertical-align: top\">55</td>\n",
       "        <td style=\"padding-left: 1em; padding-right: 1em; text-align: center; vertical-align: top\">6015.23508263</td>\n",
       "    </tr>\n",
       "    <tr>\n",
       "        <td style=\"padding-left: 1em; padding-right: 1em; text-align: center; vertical-align: top\">8</td>\n",
       "        <td style=\"padding-left: 1em; padding-right: 1em; text-align: center; vertical-align: top\">33</td>\n",
       "        <td style=\"padding-left: 1em; padding-right: 1em; text-align: center; vertical-align: top\">2702.76658344</td>\n",
       "    </tr>\n",
       "    <tr>\n",
       "        <td style=\"padding-left: 1em; padding-right: 1em; text-align: center; vertical-align: top\">9</td>\n",
       "        <td style=\"padding-left: 1em; padding-right: 1em; text-align: center; vertical-align: top\">1461</td>\n",
       "        <td style=\"padding-left: 1em; padding-right: 1em; text-align: center; vertical-align: top\">116765.547257</td>\n",
       "    </tr>\n",
       "</table>\n",
       "[10 rows x 3 columns]<br/>\n",
       "</div>"
      ],
      "text/plain": [
       "Columns:\n",
       "\tcluster_id\tint\n",
       "\tsize\tint\n",
       "\tsum_squared_distance\tfloat\n",
       "\n",
       "Rows: 10\n",
       "\n",
       "Data:\n",
       "+------------+------+----------------------+\n",
       "| cluster_id | size | sum_squared_distance |\n",
       "+------------+------+----------------------+\n",
       "|     0      | 373  |    53731.7275276     |\n",
       "|     1      |  1   |         0.0          |\n",
       "|     2      | 355  |     22889.016849     |\n",
       "|     3      |  2   |    260.737915039     |\n",
       "|     4      | 510  |    29165.6970606     |\n",
       "|     5      | 6150 |    185440.280311     |\n",
       "|     6      | 514  |     27680.574976     |\n",
       "|     7      |  55  |    6015.23508263     |\n",
       "|     8      |  33  |    2702.76658344     |\n",
       "|     9      | 1461 |    116765.547257     |\n",
       "+------------+------+----------------------+\n",
       "[10 rows x 3 columns]"
      ]
     },
     "execution_count": 166,
     "metadata": {},
     "output_type": "execute_result"
    }
   ],
   "source": [
    "kmeans_model['cluster_info'][['cluster_id', 'size', 'sum_squared_distance']]"
   ]
  },
  {
   "cell_type": "code",
   "execution_count": 167,
   "metadata": {
    "collapsed": false
   },
   "outputs": [
    {
     "data": {
      "text/html": [
       "<div style=\"max-height:1000px;max-width:1500px;overflow:auto;\"><table frame=\"box\" rules=\"cols\">\n",
       "    <tr>\n",
       "        <th style=\"padding-left: 1em; padding-right: 1em; text-align: center\">tfidf</th>\n",
       "        <th style=\"padding-left: 1em; padding-right: 1em; text-align: center\">cluster_id</th>\n",
       "        <th style=\"padding-left: 1em; padding-right: 1em; text-align: center\">size</th>\n",
       "        <th style=\"padding-left: 1em; padding-right: 1em; text-align: center\">sum_squared_distance</th>\n",
       "    </tr>\n",
       "    <tr>\n",
       "        <td style=\"padding-left: 1em; padding-right: 1em; text-align: center; vertical-align: top\">{'aeration':<br>0.1685537738374681, ...</td>\n",
       "        <td style=\"padding-left: 1em; padding-right: 1em; text-align: center; vertical-align: top\">0</td>\n",
       "        <td style=\"padding-left: 1em; padding-right: 1em; text-align: center; vertical-align: top\">373</td>\n",
       "        <td style=\"padding-left: 1em; padding-right: 1em; text-align: center; vertical-align: top\">53731.7275276</td>\n",
       "    </tr>\n",
       "    <tr>\n",
       "        <td style=\"padding-left: 1em; padding-right: 1em; text-align: center; vertical-align: top\">{'dry':<br>2.307250071767802, ...</td>\n",
       "        <td style=\"padding-left: 1em; padding-right: 1em; text-align: center; vertical-align: top\">1</td>\n",
       "        <td style=\"padding-left: 1em; padding-right: 1em; text-align: center; vertical-align: top\">1</td>\n",
       "        <td style=\"padding-left: 1em; padding-right: 1em; text-align: center; vertical-align: top\">0.0</td>\n",
       "    </tr>\n",
       "    <tr>\n",
       "        <td style=\"padding-left: 1em; padding-right: 1em; text-align: center; vertical-align: top\">{'aeration':<br>0.0885500811850361, ...</td>\n",
       "        <td style=\"padding-left: 1em; padding-right: 1em; text-align: center; vertical-align: top\">2</td>\n",
       "        <td style=\"padding-left: 1em; padding-right: 1em; text-align: center; vertical-align: top\">355</td>\n",
       "        <td style=\"padding-left: 1em; padding-right: 1em; text-align: center; vertical-align: top\">22889.016849</td>\n",
       "    </tr>\n",
       "    <tr>\n",
       "        <td style=\"padding-left: 1em; padding-right: 1em; text-align: center; vertical-align: top\">{'acidity':<br>0.5958887656160589, ...</td>\n",
       "        <td style=\"padding-left: 1em; padding-right: 1em; text-align: center; vertical-align: top\">3</td>\n",
       "        <td style=\"padding-left: 1em; padding-right: 1em; text-align: center; vertical-align: top\">2</td>\n",
       "        <td style=\"padding-left: 1em; padding-right: 1em; text-align: center; vertical-align: top\">260.737915039</td>\n",
       "    </tr>\n",
       "    <tr>\n",
       "        <td style=\"padding-left: 1em; padding-right: 1em; text-align: center; vertical-align: top\">{'aeration':<br>0.10566480275861437, ...</td>\n",
       "        <td style=\"padding-left: 1em; padding-right: 1em; text-align: center; vertical-align: top\">4</td>\n",
       "        <td style=\"padding-left: 1em; padding-right: 1em; text-align: center; vertical-align: top\">510</td>\n",
       "        <td style=\"padding-left: 1em; padding-right: 1em; text-align: center; vertical-align: top\">29165.6970606</td>\n",
       "    </tr>\n",
       "    <tr>\n",
       "        <td style=\"padding-left: 1em; padding-right: 1em; text-align: center; vertical-align: top\">{'brix':<br>0.005052291935111079, ...</td>\n",
       "        <td style=\"padding-left: 1em; padding-right: 1em; text-align: center; vertical-align: top\">5</td>\n",
       "        <td style=\"padding-left: 1em; padding-right: 1em; text-align: center; vertical-align: top\">6150</td>\n",
       "        <td style=\"padding-left: 1em; padding-right: 1em; text-align: center; vertical-align: top\">185440.280311</td>\n",
       "    </tr>\n",
       "    <tr>\n",
       "        <td style=\"padding-left: 1em; padding-right: 1em; text-align: center; vertical-align: top\">{'aeration':<br>0.034947502857907535, ...</td>\n",
       "        <td style=\"padding-left: 1em; padding-right: 1em; text-align: center; vertical-align: top\">6</td>\n",
       "        <td style=\"padding-left: 1em; padding-right: 1em; text-align: center; vertical-align: top\">514</td>\n",
       "        <td style=\"padding-left: 1em; padding-right: 1em; text-align: center; vertical-align: top\">27680.574976</td>\n",
       "    </tr>\n",
       "    <tr>\n",
       "        <td style=\"padding-left: 1em; padding-right: 1em; text-align: center; vertical-align: top\">{'aeration':<br>0.24495022457678806, ...</td>\n",
       "        <td style=\"padding-left: 1em; padding-right: 1em; text-align: center; vertical-align: top\">7</td>\n",
       "        <td style=\"padding-left: 1em; padding-right: 1em; text-align: center; vertical-align: top\">55</td>\n",
       "        <td style=\"padding-left: 1em; padding-right: 1em; text-align: center; vertical-align: top\">6015.23508263</td>\n",
       "    </tr>\n",
       "    <tr>\n",
       "        <td style=\"padding-left: 1em; padding-right: 1em; text-align: center; vertical-align: top\">{'aroma':<br>0.09302102419024275, ...</td>\n",
       "        <td style=\"padding-left: 1em; padding-right: 1em; text-align: center; vertical-align: top\">8</td>\n",
       "        <td style=\"padding-left: 1em; padding-right: 1em; text-align: center; vertical-align: top\">33</td>\n",
       "        <td style=\"padding-left: 1em; padding-right: 1em; text-align: center; vertical-align: top\">2702.76658344</td>\n",
       "    </tr>\n",
       "    <tr>\n",
       "        <td style=\"padding-left: 1em; padding-right: 1em; text-align: center; vertical-align: top\">{'aeration':<br>0.14139266898911101, ...</td>\n",
       "        <td style=\"padding-left: 1em; padding-right: 1em; text-align: center; vertical-align: top\">9</td>\n",
       "        <td style=\"padding-left: 1em; padding-right: 1em; text-align: center; vertical-align: top\">1461</td>\n",
       "        <td style=\"padding-left: 1em; padding-right: 1em; text-align: center; vertical-align: top\">116765.547257</td>\n",
       "    </tr>\n",
       "</table>\n",
       "[10 rows x 4 columns]<br/>\n",
       "</div>"
      ],
      "text/plain": [
       "Columns:\n",
       "\ttfidf\tdict\n",
       "\tcluster_id\tint\n",
       "\tsize\tint\n",
       "\tsum_squared_distance\tfloat\n",
       "\n",
       "Rows: 10\n",
       "\n",
       "Data:\n",
       "+-------------------------------+------------+------+----------------------+\n",
       "|             tfidf             | cluster_id | size | sum_squared_distance |\n",
       "+-------------------------------+------------+------+----------------------+\n",
       "| {'aeration': 0.16855377383... |     0      | 373  |    53731.7275276     |\n",
       "| {'dry': 2.307250071767802,... |     1      |  1   |         0.0          |\n",
       "| {'aeration': 0.08855008118... |     2      | 355  |     22889.016849     |\n",
       "| {'acidity': 0.595888765616... |     3      |  2   |    260.737915039     |\n",
       "| {'aeration': 0.10566480275... |     4      | 510  |    29165.6970606     |\n",
       "| {'brix': 0.005052291935111... |     5      | 6150 |    185440.280311     |\n",
       "| {'aeration': 0.03494750285... |     6      | 514  |     27680.574976     |\n",
       "| {'aeration': 0.24495022457... |     7      |  55  |    6015.23508263     |\n",
       "| {'aroma': 0.09302102419024... |     8      |  33  |    2702.76658344     |\n",
       "| {'aeration': 0.14139266898... |     9      | 1461 |    116765.547257     |\n",
       "+-------------------------------+------------+------+----------------------+\n",
       "[10 rows x 4 columns]"
      ]
     },
     "execution_count": 167,
     "metadata": {},
     "output_type": "execute_result"
    }
   ],
   "source": [
    "kmeans_model['cluster_info']"
   ]
  },
  {
   "cell_type": "markdown",
   "metadata": {},
   "source": [
    "## Interpretation\n",
    "\n",
    "Just like in the DBSCAN, we can use wrod clouds to look at the custers and can see how other data falls out in these clusters. The notebook will not produce those here. If interested, try yourself. Ultimately, K-means looks to have created at least some decent size clusters. Let's try Topic models on the wine maker's notes and see how that works.\n",
    "\n",
    "## Topic Models\n",
    "\n",
    "\"Topic models\" are a class of statistical models for text data. These models typically assume documents can be described by a small set of topics, and there is a probability of any word occurring for a given \"topic\".\n",
    "\n",
    "For example, suppose we are given the documents shown below, where the first document begins with the text \"The sandwich was terrible. I...\" and continues with a long description of the eater's woes. A topic model attempts to do two things:\n",
    "<ol>\n",
    "<li>  Learn \"topics\": collections of words that co-occur in a meaningful way </li>\n",
    "<li>  Learn how much each document pertains to each topic. </li></ol>\n",
    "\n",
    "### Topic Model here\n",
    "\n",
    "This notebook is going to create a topic model on a combine winemaker's notes and review column."
   ]
  },
  {
   "cell_type": "code",
   "execution_count": 168,
   "metadata": {
    "collapsed": false
   },
   "outputs": [],
   "source": [
    "#quick space cleaning\n",
    "sf['wmr']=sf['wmr'].apply(lambda x: x.replace('  ',' '))\n",
    "sf['wmr']=sf['wmr'].apply(lambda x: x.replace('   ',' '))\n",
    "sf['wmr']=sf['wmr'].apply(lambda x: x.replace('    ',' '))\n",
    "\n",
    "#strip winemaker s notes\n",
    "sf['wmr']=sf['wmr'].apply(lambda x: x.replace('winemaker s notes',''))"
   ]
  },
  {
   "cell_type": "code",
   "execution_count": 169,
   "metadata": {
    "collapsed": false
   },
   "outputs": [],
   "source": [
    "#create bag of words on wmr\n",
    "sf['bow']=gl.text_analytics.count_words(sf['wmr'])\n",
    "\n",
    "#trim common words\n",
    "sf['bow']=sf['bow'].dict_trim_by_keys(gl.text_analytics.stopwords(), exclude=True)"
   ]
  },
  {
   "cell_type": "code",
   "execution_count": 170,
   "metadata": {
    "collapsed": false
   },
   "outputs": [
    {
     "data": {
      "text/html": [
       "<div style=\"max-height:1000px;max-width:1500px;overflow:auto;\"><table frame=\"box\" rules=\"cols\">\n",
       "    <tr>\n",
       "        <th style=\"padding-left: 1em; padding-right: 1em; text-align: center\">bow</th>\n",
       "    </tr>\n",
       "    <tr>\n",
       "        <td style=\"padding-left: 1em; padding-right: 1em; text-align: center; vertical-align: top\">{'decade': 1, 'style': 2,<br>'lariat': 2, 'cherry' ...</td>\n",
       "    </tr>\n",
       "    <tr>\n",
       "        <td style=\"padding-left: 1em; padding-right: 1em; text-align: center; vertical-align: top\">{'alluring': 2, 'firm':<br>1, 'palate': 3, 'tast ...</td>\n",
       "    </tr>\n",
       "    <tr>\n",
       "        <td style=\"padding-left: 1em; padding-right: 1em; text-align: center; vertical-align: top\">{'breadth': 1,<br>'currants': 2, ...</td>\n",
       "    </tr>\n",
       "    <tr>\n",
       "        <td style=\"padding-left: 1em; padding-right: 1em; text-align: center; vertical-align: top\">{'tannins': 2, 'rating':<br>1, 'palate': 1, ...</td>\n",
       "    </tr>\n",
       "    <tr>\n",
       "        <td style=\"padding-left: 1em; padding-right: 1em; text-align: center; vertical-align: top\">{'currants': 2,<br>'aeration': 1, 'blend ...</td>\n",
       "    </tr>\n",
       "    <tr>\n",
       "        <td style=\"padding-left: 1em; padding-right: 1em; text-align: center; vertical-align: top\">{'precise': 1, 'summer':<br>1, 'currants': 2, ...</td>\n",
       "    </tr>\n",
       "    <tr>\n",
       "        <td style=\"padding-left: 1em; padding-right: 1em; text-align: center; vertical-align: top\">{'tannins': 3, 'rating':<br>1, 'palate': 1, ...</td>\n",
       "    </tr>\n",
       "    <tr>\n",
       "        <td style=\"padding-left: 1em; padding-right: 1em; text-align: center; vertical-align: top\">{'traditions': 1,<br>'aromatics': 2, 'years': ...</td>\n",
       "    </tr>\n",
       "    <tr>\n",
       "        <td style=\"padding-left: 1em; padding-right: 1em; text-align: center; vertical-align: top\">{'tannins': 2, 'body': 1,<br>'currants': 1, 'palate': ...</td>\n",
       "    </tr>\n",
       "    <tr>\n",
       "        <td style=\"padding-left: 1em; padding-right: 1em; text-align: center; vertical-align: top\">{'years': 2, 'leads': 1,<br>'impressively': 1, ...</td>\n",
       "    </tr>\n",
       "</table>\n",
       "[9454 rows x 1 columns]<br/>Note: Only the head of the SFrame is printed.<br/>You can use print_rows(num_rows=m, num_columns=n) to print more rows and columns.\n",
       "</div>"
      ],
      "text/plain": [
       "Columns:\n",
       "\tbow\tdict\n",
       "\n",
       "Rows: 9454\n",
       "\n",
       "Data:\n",
       "+-------------------------------+\n",
       "|              bow              |\n",
       "+-------------------------------+\n",
       "| {'decade': 1, 'style': 2, ... |\n",
       "| {'alluring': 2, 'firm': 1,... |\n",
       "| {'breadth': 1, 'currants':... |\n",
       "| {'tannins': 2, 'rating': 1... |\n",
       "| {'currants': 2, 'aeration'... |\n",
       "| {'precise': 1, 'summer': 1... |\n",
       "| {'tannins': 3, 'rating': 1... |\n",
       "| {'traditions': 1, 'aromati... |\n",
       "| {'tannins': 2, 'body': 1, ... |\n",
       "| {'years': 2, 'leads': 1, '... |\n",
       "+-------------------------------+\n",
       "[9454 rows x 1 columns]\n",
       "Note: Only the head of the SFrame is printed.\n",
       "You can use print_rows(num_rows=m, num_columns=n) to print more rows and columns."
      ]
     },
     "execution_count": 170,
     "metadata": {},
     "output_type": "execute_result"
    }
   ],
   "source": [
    "sf[['bow']]"
   ]
  },
  {
   "cell_type": "code",
   "execution_count": 171,
   "metadata": {
    "collapsed": false
   },
   "outputs": [
    {
     "data": {
      "text/html": [
       "<pre>Learning a topic model</pre>"
      ],
      "text/plain": [
       "Learning a topic model"
      ]
     },
     "metadata": {},
     "output_type": "display_data"
    },
    {
     "data": {
      "text/html": [
       "<pre>       Number of documents      9454</pre>"
      ],
      "text/plain": [
       "       Number of documents      9454"
      ]
     },
     "metadata": {},
     "output_type": "display_data"
    },
    {
     "data": {
      "text/html": [
       "<pre>           Vocabulary size     20916</pre>"
      ],
      "text/plain": [
       "           Vocabulary size     20916"
      ]
     },
     "metadata": {},
     "output_type": "display_data"
    },
    {
     "data": {
      "text/html": [
       "<pre>   Running collapsed Gibbs sampling</pre>"
      ],
      "text/plain": [
       "   Running collapsed Gibbs sampling"
      ]
     },
     "metadata": {},
     "output_type": "display_data"
    },
    {
     "data": {
      "text/html": [
       "<pre>+-----------+---------------+----------------+-----------------+</pre>"
      ],
      "text/plain": [
       "+-----------+---------------+----------------+-----------------+"
      ]
     },
     "metadata": {},
     "output_type": "display_data"
    },
    {
     "data": {
      "text/html": [
       "<pre>| Iteration | Elapsed Time  | Tokens/Second  | Est. Perplexity |</pre>"
      ],
      "text/plain": [
       "| Iteration | Elapsed Time  | Tokens/Second  | Est. Perplexity |"
      ]
     },
     "metadata": {},
     "output_type": "display_data"
    },
    {
     "data": {
      "text/html": [
       "<pre>+-----------+---------------+----------------+-----------------+</pre>"
      ],
      "text/plain": [
       "+-----------+---------------+----------------+-----------------+"
      ]
     },
     "metadata": {},
     "output_type": "display_data"
    },
    {
     "data": {
      "text/html": [
       "<pre>| 10        | 494.315ms     | 8.21065e+06    | 0               |</pre>"
      ],
      "text/plain": [
       "| 10        | 494.315ms     | 8.21065e+06    | 0               |"
      ]
     },
     "metadata": {},
     "output_type": "display_data"
    },
    {
     "data": {
      "text/html": [
       "<pre>| 20        | 837.014ms     | 1.33381e+07    | 0               |</pre>"
      ],
      "text/plain": [
       "| 20        | 837.014ms     | 1.33381e+07    | 0               |"
      ]
     },
     "metadata": {},
     "output_type": "display_data"
    },
    {
     "data": {
      "text/html": [
       "<pre>| 30        | 1.21s         | 1.44908e+07    | 0               |</pre>"
      ],
      "text/plain": [
       "| 30        | 1.21s         | 1.44908e+07    | 0               |"
      ]
     },
     "metadata": {},
     "output_type": "display_data"
    },
    {
     "data": {
      "text/html": [
       "<pre>| 40        | 1.54s         | 1.51436e+07    | 0               |</pre>"
      ],
      "text/plain": [
       "| 40        | 1.54s         | 1.51436e+07    | 0               |"
      ]
     },
     "metadata": {},
     "output_type": "display_data"
    },
    {
     "data": {
      "text/html": [
       "<pre>| 50        | 1.90s         | 1.52619e+07    | 0               |</pre>"
      ],
      "text/plain": [
       "| 50        | 1.90s         | 1.52619e+07    | 0               |"
      ]
     },
     "metadata": {},
     "output_type": "display_data"
    },
    {
     "data": {
      "text/html": [
       "<pre>+-----------+---------------+----------------+-----------------+</pre>"
      ],
      "text/plain": [
       "+-----------+---------------+----------------+-----------------+"
      ]
     },
     "metadata": {},
     "output_type": "display_data"
    }
   ],
   "source": [
    "#create topic model\n",
    "model = gl.topic_model.create(sf['bow'],num_iterations=50)"
   ]
  },
  {
   "cell_type": "code",
   "execution_count": 172,
   "metadata": {
    "collapsed": false
   },
   "outputs": [
    {
     "name": "stdout",
     "output_type": "stream",
     "text": [
      "+-------+----------+-----------------+\n",
      "| topic |   word   |      score      |\n",
      "+-------+----------+-----------------+\n",
      "|   0   | tannins  | 0.0320851751481 |\n",
      "|   0   | licorice | 0.0178568795652 |\n",
      "|   0   |   full   | 0.0171344065253 |\n",
      "|   0   |  finish  | 0.0145836343638 |\n",
      "|   0   |  years   | 0.0143624691475 |\n",
      "|   1   |   red    | 0.0494204236283 |\n",
      "|   1   |  cherry  | 0.0446842492818 |\n",
      "|   1   |  palate  | 0.0326709603371 |\n",
      "|   1   |  spice   | 0.0293348959252 |\n",
      "|   1   |  black   | 0.0248061452726 |\n",
      "+-------+----------+-----------------+\n",
      "[50 rows x 3 columns]\n",
      "Note: Only the head of the SFrame is printed.\n",
      "You can use print_rows(num_rows=m, num_columns=n) to print more rows and columns.\n"
     ]
    }
   ],
   "source": [
    "print model.get_topics()"
   ]
  },
  {
   "cell_type": "code",
   "execution_count": 173,
   "metadata": {
    "collapsed": false
   },
   "outputs": [
    {
     "name": "stdout",
     "output_type": "stream",
     "text": [
      "+-------------------------------+\n",
      "|             words             |\n",
      "+-------------------------------+\n",
      "| [tannins, licorice, full, ... |\n",
      "| [red, cherry, palate, spic... |\n",
      "| [wine, fruit, full, bodied... |\n",
      "| [oak, vineyard, pinot, fla... |\n",
      "| [fruit, flavors, notes, ar... |\n",
      "| [tannins, blend, sauvignon... |\n",
      "| [wine, cabernet, made, win... |\n",
      "| [acidity, white, finish, n... |\n",
      "| [wine, fresh, chardonnay, ... |\n",
      "| [palate, red, ripe, aromas... |\n",
      "+-------------------------------+\n",
      "[10 rows x 1 columns]\n",
      "\n"
     ]
    }
   ],
   "source": [
    "print model.get_topics(output_type='topic_words')"
   ]
  },
  {
   "cell_type": "code",
   "execution_count": 174,
   "metadata": {
    "collapsed": false
   },
   "outputs": [
    {
     "data": {
      "text/html": [
       "<div style=\"max-height:1000px;max-width:1500px;overflow:auto;\"><table frame=\"box\" rules=\"cols\">\n",
       "    <tr>\n",
       "        <th style=\"padding-left: 1em; padding-right: 1em; text-align: center\">words</th>\n",
       "        <th style=\"padding-left: 1em; padding-right: 1em; text-align: center\">in_cat</th>\n",
       "    </tr>\n",
       "    <tr>\n",
       "        <td style=\"padding-left: 1em; padding-right: 1em; text-align: center; vertical-align: top\">[tannins, licorice, full,<br>finish, years] ...</td>\n",
       "        <td style=\"padding-left: 1em; padding-right: 1em; text-align: center; vertical-align: top\">787</td>\n",
       "    </tr>\n",
       "    <tr>\n",
       "        <td style=\"padding-left: 1em; padding-right: 1em; text-align: center; vertical-align: top\">[red, cherry, palate,<br>spice, black] ...</td>\n",
       "        <td style=\"padding-left: 1em; padding-right: 1em; text-align: center; vertical-align: top\">1139</td>\n",
       "    </tr>\n",
       "    <tr>\n",
       "        <td style=\"padding-left: 1em; padding-right: 1em; text-align: center; vertical-align: top\">[wine, fruit, full,<br>bodied, cabernet] ...</td>\n",
       "        <td style=\"padding-left: 1em; padding-right: 1em; text-align: center; vertical-align: top\">405</td>\n",
       "    </tr>\n",
       "    <tr>\n",
       "        <td style=\"padding-left: 1em; padding-right: 1em; text-align: center; vertical-align: top\">[oak, vineyard, pinot,<br>flavors, palate] ...</td>\n",
       "        <td style=\"padding-left: 1em; padding-right: 1em; text-align: center; vertical-align: top\">660</td>\n",
       "    </tr>\n",
       "    <tr>\n",
       "        <td style=\"padding-left: 1em; padding-right: 1em; text-align: center; vertical-align: top\">[fruit, flavors, notes,<br>aromas, cherry] ...</td>\n",
       "        <td style=\"padding-left: 1em; padding-right: 1em; text-align: center; vertical-align: top\">886</td>\n",
       "    </tr>\n",
       "    <tr>\n",
       "        <td style=\"padding-left: 1em; padding-right: 1em; text-align: center; vertical-align: top\">[tannins, blend,<br>sauvignon, black, mer ...</td>\n",
       "        <td style=\"padding-left: 1em; padding-right: 1em; text-align: center; vertical-align: top\">1016</td>\n",
       "    </tr>\n",
       "    <tr>\n",
       "        <td style=\"padding-left: 1em; padding-right: 1em; text-align: center; vertical-align: top\">[wine, cabernet, made,<br>wines, grapes] ...</td>\n",
       "        <td style=\"padding-left: 1em; padding-right: 1em; text-align: center; vertical-align: top\">853</td>\n",
       "    </tr>\n",
       "    <tr>\n",
       "        <td style=\"padding-left: 1em; padding-right: 1em; text-align: center; vertical-align: top\">[acidity, white, finish,<br>notes, fresh] ...</td>\n",
       "        <td style=\"padding-left: 1em; padding-right: 1em; text-align: center; vertical-align: top\">1212</td>\n",
       "    </tr>\n",
       "    <tr>\n",
       "        <td style=\"padding-left: 1em; padding-right: 1em; text-align: center; vertical-align: top\">[wine, fresh, chardonnay,<br>crisp, light] ...</td>\n",
       "        <td style=\"padding-left: 1em; padding-right: 1em; text-align: center; vertical-align: top\">1717</td>\n",
       "    </tr>\n",
       "    <tr>\n",
       "        <td style=\"padding-left: 1em; padding-right: 1em; text-align: center; vertical-align: top\">[palate, red, ripe,<br>aromas, rich] ...</td>\n",
       "        <td style=\"padding-left: 1em; padding-right: 1em; text-align: center; vertical-align: top\">779</td>\n",
       "    </tr>\n",
       "</table>\n",
       "[10 rows x 2 columns]<br/>\n",
       "</div>"
      ],
      "text/plain": [
       "Columns:\n",
       "\twords\tlist\n",
       "\tin_cat\tint\n",
       "\n",
       "Rows: 10\n",
       "\n",
       "Data:\n",
       "+-------------------------------+--------+\n",
       "|             words             | in_cat |\n",
       "+-------------------------------+--------+\n",
       "| [tannins, licorice, full, ... |  787   |\n",
       "| [red, cherry, palate, spic... |  1139  |\n",
       "| [wine, fruit, full, bodied... |  405   |\n",
       "| [oak, vineyard, pinot, fla... |  660   |\n",
       "| [fruit, flavors, notes, ar... |  886   |\n",
       "| [tannins, blend, sauvignon... |  1016  |\n",
       "| [wine, cabernet, made, win... |  853   |\n",
       "| [acidity, white, finish, n... |  1212  |\n",
       "| [wine, fresh, chardonnay, ... |  1717  |\n",
       "| [palate, red, ripe, aromas... |  779   |\n",
       "+-------------------------------+--------+\n",
       "[10 rows x 2 columns]"
      ]
     },
     "execution_count": 174,
     "metadata": {},
     "output_type": "execute_result"
    }
   ],
   "source": [
    "sf['topic']=model.predict(sf['bow'])\n",
    "\n",
    "#make a table to see its performance\n",
    "test=model.get_topics(output_type='topic_words')\n",
    "a=[]\n",
    "i=0\n",
    "while i<10:\n",
    "    a.append(len(sf['name'][sf['topic']==i]))\n",
    "    i+=1\n",
    "a\n",
    "test['in_cat']=a\n",
    "test"
   ]
  },
  {
   "cell_type": "markdown",
   "metadata": {},
   "source": [
    "## Interpretation\n",
    "\n",
    "Similar to what we said about K-means, we would run word clouds and look at othr data to judge how god the clustering is. This notebook will leave that to the reader. Anyway, we see a decent breakdown in the clustering, in terms of no cluster is super smallm(though that doesn't actual mean much).\n",
    "\n",
    "## DBSCAN, a last time, with WE and Wiki filtering on tf-idf"
   ]
  },
  {
   "cell_type": "code",
   "execution_count": 175,
   "metadata": {
    "collapsed": false
   },
   "outputs": [
    {
     "data": {
      "text/html": [
       "<div style=\"max-height:1000px;max-width:1500px;overflow:auto;\"><table frame=\"box\" rules=\"cols\">\n",
       "    <tr>\n",
       "        <th style=\"padding-left: 1em; padding-right: 1em; text-align: center\">id</th>\n",
       "        <th style=\"padding-left: 1em; padding-right: 1em; text-align: center\">year</th>\n",
       "        <th style=\"padding-left: 1em; padding-right: 1em; text-align: center\">lat</th>\n",
       "        <th style=\"padding-left: 1em; padding-right: 1em; text-align: center\">long</th>\n",
       "        <th style=\"padding-left: 1em; padding-right: 1em; text-align: center\">ln_price</th>\n",
       "        <th style=\"padding-left: 1em; padding-right: 1em; text-align: center\">bow</th>\n",
       "    </tr>\n",
       "    <tr>\n",
       "        <td style=\"padding-left: 1em; padding-right: 1em; text-align: center; vertical-align: top\">0</td>\n",
       "        <td style=\"padding-left: 1em; padding-right: 1em; text-align: center; vertical-align: top\">2013</td>\n",
       "        <td style=\"padding-left: 1em; padding-right: 1em; text-align: center; vertical-align: top\">38.220417</td>\n",
       "        <td style=\"padding-left: 1em; padding-right: 1em; text-align: center; vertical-align: top\">-122.228952</td>\n",
       "        <td style=\"padding-left: 1em; padding-right: 1em; text-align: center; vertical-align: top\">4.09434456222</td>\n",
       "        <td style=\"padding-left: 1em; padding-right: 1em; text-align: center; vertical-align: top\">{'decade': 1, 'style': 2,<br>'lariat': 2, 'cherry' ...</td>\n",
       "    </tr>\n",
       "    <tr>\n",
       "        <td style=\"padding-left: 1em; padding-right: 1em; text-align: center; vertical-align: top\">1</td>\n",
       "        <td style=\"padding-left: 1em; padding-right: 1em; text-align: center; vertical-align: top\">2014</td>\n",
       "        <td style=\"padding-left: 1em; padding-right: 1em; text-align: center; vertical-align: top\">38.546127</td>\n",
       "        <td style=\"padding-left: 1em; padding-right: 1em; text-align: center; vertical-align: top\">-122.49276</td>\n",
       "        <td style=\"padding-left: 1em; padding-right: 1em; text-align: center; vertical-align: top\">3.58351893846</td>\n",
       "        <td style=\"padding-left: 1em; padding-right: 1em; text-align: center; vertical-align: top\">{'alluring': 2, 'firm':<br>1, 'palate': 3, 'tast ...</td>\n",
       "    </tr>\n",
       "    <tr>\n",
       "        <td style=\"padding-left: 1em; padding-right: 1em; text-align: center; vertical-align: top\">2</td>\n",
       "        <td style=\"padding-left: 1em; padding-right: 1em; text-align: center; vertical-align: top\">2012</td>\n",
       "        <td style=\"padding-left: 1em; padding-right: 1em; text-align: center; vertical-align: top\">43.225883</td>\n",
       "        <td style=\"padding-left: 1em; padding-right: 1em; text-align: center; vertical-align: top\">10.563555</td>\n",
       "        <td style=\"padding-left: 1em; padding-right: 1em; text-align: center; vertical-align: top\">5.45958551414</td>\n",
       "        <td style=\"padding-left: 1em; padding-right: 1em; text-align: center; vertical-align: top\">{'breadth': 1,<br>'currants': 2, ...</td>\n",
       "    </tr>\n",
       "    <tr>\n",
       "        <td style=\"padding-left: 1em; padding-right: 1em; text-align: center; vertical-align: top\">3</td>\n",
       "        <td style=\"padding-left: 1em; padding-right: 1em; text-align: center; vertical-align: top\">2010</td>\n",
       "        <td style=\"padding-left: 1em; padding-right: 1em; text-align: center; vertical-align: top\">-34.919913</td>\n",
       "        <td style=\"padding-left: 1em; padding-right: 1em; text-align: center; vertical-align: top\">138.654506</td>\n",
       "        <td style=\"padding-left: 1em; padding-right: 1em; text-align: center; vertical-align: top\">3.80666248977</td>\n",
       "        <td style=\"padding-left: 1em; padding-right: 1em; text-align: center; vertical-align: top\">{'tannins': 2, 'rating':<br>1, 'palate': 1, ...</td>\n",
       "    </tr>\n",
       "    <tr>\n",
       "        <td style=\"padding-left: 1em; padding-right: 1em; text-align: center; vertical-align: top\">4</td>\n",
       "        <td style=\"padding-left: 1em; padding-right: 1em; text-align: center; vertical-align: top\">2011</td>\n",
       "        <td style=\"padding-left: 1em; padding-right: 1em; text-align: center; vertical-align: top\">38.741804</td>\n",
       "        <td style=\"padding-left: 1em; padding-right: 1em; text-align: center; vertical-align: top\">-122.955029</td>\n",
       "        <td style=\"padding-left: 1em; padding-right: 1em; text-align: center; vertical-align: top\">3.80666248977</td>\n",
       "        <td style=\"padding-left: 1em; padding-right: 1em; text-align: center; vertical-align: top\">{'currants': 2,<br>'aeration': 1, 'blend ...</td>\n",
       "    </tr>\n",
       "    <tr>\n",
       "        <td style=\"padding-left: 1em; padding-right: 1em; text-align: center; vertical-align: top\">5</td>\n",
       "        <td style=\"padding-left: 1em; padding-right: 1em; text-align: center; vertical-align: top\">2000</td>\n",
       "        <td style=\"padding-left: 1em; padding-right: 1em; text-align: center; vertical-align: top\">45.224217</td>\n",
       "        <td style=\"padding-left: 1em; padding-right: 1em; text-align: center; vertical-align: top\">-0.772444</td>\n",
       "        <td style=\"padding-left: 1em; padding-right: 1em; text-align: center; vertical-align: top\">3.96025104452</td>\n",
       "        <td style=\"padding-left: 1em; padding-right: 1em; text-align: center; vertical-align: top\">{'precise': 1, 'summer':<br>1, 'currants': 2, ...</td>\n",
       "    </tr>\n",
       "    <tr>\n",
       "        <td style=\"padding-left: 1em; padding-right: 1em; text-align: center; vertical-align: top\">6</td>\n",
       "        <td style=\"padding-left: 1em; padding-right: 1em; text-align: center; vertical-align: top\">2013</td>\n",
       "        <td style=\"padding-left: 1em; padding-right: 1em; text-align: center; vertical-align: top\">38.387141</td>\n",
       "        <td style=\"padding-left: 1em; padding-right: 1em; text-align: center; vertical-align: top\">-122.313005</td>\n",
       "        <td style=\"padding-left: 1em; padding-right: 1em; text-align: center; vertical-align: top\">3.63758615973</td>\n",
       "        <td style=\"padding-left: 1em; padding-right: 1em; text-align: center; vertical-align: top\">{'tannins': 3, 'rating':<br>1, 'palate': 1, ...</td>\n",
       "    </tr>\n",
       "    <tr>\n",
       "        <td style=\"padding-left: 1em; padding-right: 1em; text-align: center; vertical-align: top\">7</td>\n",
       "        <td style=\"padding-left: 1em; padding-right: 1em; text-align: center; vertical-align: top\">2010</td>\n",
       "        <td style=\"padding-left: 1em; padding-right: 1em; text-align: center; vertical-align: top\">43.077656</td>\n",
       "        <td style=\"padding-left: 1em; padding-right: 1em; text-align: center; vertical-align: top\">11.491754</td>\n",
       "        <td style=\"padding-left: 1em; padding-right: 1em; text-align: center; vertical-align: top\">4.31748811354</td>\n",
       "        <td style=\"padding-left: 1em; padding-right: 1em; text-align: center; vertical-align: top\">{'traditions': 1,<br>'aromatics': 2, 'years': ...</td>\n",
       "    </tr>\n",
       "    <tr>\n",
       "        <td style=\"padding-left: 1em; padding-right: 1em; text-align: center; vertical-align: top\">8</td>\n",
       "        <td style=\"padding-left: 1em; padding-right: 1em; text-align: center; vertical-align: top\">2012</td>\n",
       "        <td style=\"padding-left: 1em; padding-right: 1em; text-align: center; vertical-align: top\">38.529416</td>\n",
       "        <td style=\"padding-left: 1em; padding-right: 1em; text-align: center; vertical-align: top\">-122.490612</td>\n",
       "        <td style=\"padding-left: 1em; padding-right: 1em; text-align: center; vertical-align: top\">4.27666611902</td>\n",
       "        <td style=\"padding-left: 1em; padding-right: 1em; text-align: center; vertical-align: top\">{'tannins': 2, 'body': 1,<br>'currants': 1, 'palate': ...</td>\n",
       "    </tr>\n",
       "    <tr>\n",
       "        <td style=\"padding-left: 1em; padding-right: 1em; text-align: center; vertical-align: top\">9</td>\n",
       "        <td style=\"padding-left: 1em; padding-right: 1em; text-align: center; vertical-align: top\">2012</td>\n",
       "        <td style=\"padding-left: 1em; padding-right: 1em; text-align: center; vertical-align: top\">38.398864</td>\n",
       "        <td style=\"padding-left: 1em; padding-right: 1em; text-align: center; vertical-align: top\">-122.325167</td>\n",
       "        <td style=\"padding-left: 1em; padding-right: 1em; text-align: center; vertical-align: top\">5.1059454739</td>\n",
       "        <td style=\"padding-left: 1em; padding-right: 1em; text-align: center; vertical-align: top\">{'years': 2, 'leads': 1,<br>'impressively': 1, ...</td>\n",
       "    </tr>\n",
       "</table>\n",
       "[6504 rows x 6 columns]<br/>Note: Only the head of the SFrame is printed.<br/>You can use print_rows(num_rows=m, num_columns=n) to print more rows and columns.\n",
       "</div>"
      ],
      "text/plain": [
       "Columns:\n",
       "\tid\tint\n",
       "\tyear\tint\n",
       "\tlat\tfloat\n",
       "\tlong\tfloat\n",
       "\tln_price\tfloat\n",
       "\tbow\tdict\n",
       "\n",
       "Rows: 6504\n",
       "\n",
       "Data:\n",
       "+----+------+------------+-------------+---------------+\n",
       "| id | year |    lat     |     long    |    ln_price   |\n",
       "+----+------+------------+-------------+---------------+\n",
       "| 0  | 2013 | 38.220417  | -122.228952 | 4.09434456222 |\n",
       "| 1  | 2014 | 38.546127  |  -122.49276 | 3.58351893846 |\n",
       "| 2  | 2012 | 43.225883  |  10.563555  | 5.45958551414 |\n",
       "| 3  | 2010 | -34.919913 |  138.654506 | 3.80666248977 |\n",
       "| 4  | 2011 | 38.741804  | -122.955029 | 3.80666248977 |\n",
       "| 5  | 2000 | 45.224217  |  -0.772444  | 3.96025104452 |\n",
       "| 6  | 2013 | 38.387141  | -122.313005 | 3.63758615973 |\n",
       "| 7  | 2010 | 43.077656  |  11.491754  | 4.31748811354 |\n",
       "| 8  | 2012 | 38.529416  | -122.490612 | 4.27666611902 |\n",
       "| 9  | 2012 | 38.398864  | -122.325167 |  5.1059454739 |\n",
       "+----+------+------------+-------------+---------------+\n",
       "+-------------------------------+\n",
       "|              bow              |\n",
       "+-------------------------------+\n",
       "| {'decade': 1, 'style': 2, ... |\n",
       "| {'alluring': 2, 'firm': 1,... |\n",
       "| {'breadth': 1, 'currants':... |\n",
       "| {'tannins': 2, 'rating': 1... |\n",
       "| {'currants': 2, 'aeration'... |\n",
       "| {'precise': 1, 'summer': 1... |\n",
       "| {'tannins': 3, 'rating': 1... |\n",
       "| {'traditions': 1, 'aromati... |\n",
       "| {'tannins': 2, 'body': 1, ... |\n",
       "| {'years': 2, 'leads': 1, '... |\n",
       "+-------------------------------+\n",
       "[6504 rows x 6 columns]\n",
       "Note: Only the head of the SFrame is printed.\n",
       "You can use print_rows(num_rows=m, num_columns=n) to print more rows and columns."
      ]
     },
     "execution_count": 175,
     "metadata": {},
     "output_type": "execute_result"
    }
   ],
   "source": [
    "#load data frame\n",
    "cur1=gl.SFrame('./4modelclean022316/')\n",
    "\n",
    "cur1"
   ]
  },
  {
   "cell_type": "code",
   "execution_count": 176,
   "metadata": {
    "collapsed": false
   },
   "outputs": [],
   "source": [
    "#filter with WE and wiki list\n",
    "cur1['bow']=cur1['bow'].dict_trim_by_keys(x, exclude=False)"
   ]
  },
  {
   "cell_type": "code",
   "execution_count": 177,
   "metadata": {
    "collapsed": true
   },
   "outputs": [],
   "source": [
    "#create tfodf column\n",
    "cur1['tfidf']=gl.text_analytics.tf_idf(cur1['bow'])\n",
    "cur1=cur1.remove_columns(['bow'])"
   ]
  },
  {
   "cell_type": "code",
   "execution_count": 178,
   "metadata": {
    "collapsed": false
   },
   "outputs": [
    {
     "data": {
      "text/html": [
       "<pre>Starting brute force nearest neighbors model training.</pre>"
      ],
      "text/plain": [
       "Starting brute force nearest neighbors model training."
      ]
     },
     "metadata": {},
     "output_type": "display_data"
    },
    {
     "data": {
      "text/html": [
       "<pre>Starting pairwise querying.</pre>"
      ],
      "text/plain": [
       "Starting pairwise querying."
      ]
     },
     "metadata": {},
     "output_type": "display_data"
    },
    {
     "data": {
      "text/html": [
       "<pre>+--------------+---------+-------------+--------------+</pre>"
      ],
      "text/plain": [
       "+--------------+---------+-------------+--------------+"
      ]
     },
     "metadata": {},
     "output_type": "display_data"
    },
    {
     "data": {
      "text/html": [
       "<pre>| Query points | # Pairs | % Complete. | Elapsed Time |</pre>"
      ],
      "text/plain": [
       "| Query points | # Pairs | % Complete. | Elapsed Time |"
      ]
     },
     "metadata": {},
     "output_type": "display_data"
    },
    {
     "data": {
      "text/html": [
       "<pre>+--------------+---------+-------------+--------------+</pre>"
      ],
      "text/plain": [
       "+--------------+---------+-------------+--------------+"
      ]
     },
     "metadata": {},
     "output_type": "display_data"
    },
    {
     "data": {
      "text/html": [
       "<pre>| 1            | 6504    | 0.0153752   | 25.443ms     |</pre>"
      ],
      "text/plain": [
       "| 1            | 6504    | 0.0153752   | 25.443ms     |"
      ]
     },
     "metadata": {},
     "output_type": "display_data"
    },
    {
     "data": {
      "text/html": [
       "<pre>| 5435         | 3.5e+07 | 83.564      | 1.02s        |</pre>"
      ],
      "text/plain": [
       "| 5435         | 3.5e+07 | 83.564      | 1.02s        |"
      ]
     },
     "metadata": {},
     "output_type": "display_data"
    },
    {
     "data": {
      "text/html": [
       "<pre>| Done         |         | 100         | 1.29s        |</pre>"
      ],
      "text/plain": [
       "| Done         |         | 100         | 1.29s        |"
      ]
     },
     "metadata": {},
     "output_type": "display_data"
    },
    {
     "data": {
      "text/html": [
       "<pre>+--------------+---------+-------------+--------------+</pre>"
      ],
      "text/plain": [
       "+--------------+---------+-------------+--------------+"
      ]
     },
     "metadata": {},
     "output_type": "display_data"
    },
    {
     "name": "stderr",
     "output_type": "stream",
     "text": [
      "[INFO] graphlab.toolkits.clustering.dbscan: Identifying noise points and core points.\n",
      "[INFO] graphlab.toolkits.clustering.dbscan: Constructing the core point similarity graph.\n"
     ]
    },
    {
     "data": {
      "text/html": [
       "<pre>+-----------------------------+</pre>"
      ],
      "text/plain": [
       "+-----------------------------+"
      ]
     },
     "metadata": {},
     "output_type": "display_data"
    },
    {
     "data": {
      "text/html": [
       "<pre>| Number of components merged |</pre>"
      ],
      "text/plain": [
       "| Number of components merged |"
      ]
     },
     "metadata": {},
     "output_type": "display_data"
    },
    {
     "data": {
      "text/html": [
       "<pre>+-----------------------------+</pre>"
      ],
      "text/plain": [
       "+-----------------------------+"
      ]
     },
     "metadata": {},
     "output_type": "display_data"
    },
    {
     "data": {
      "text/html": [
       "<pre>| 50147                       |</pre>"
      ],
      "text/plain": [
       "| 50147                       |"
      ]
     },
     "metadata": {},
     "output_type": "display_data"
    },
    {
     "data": {
      "text/html": [
       "<pre>| 0                           |</pre>"
      ],
      "text/plain": [
       "| 0                           |"
      ]
     },
     "metadata": {},
     "output_type": "display_data"
    },
    {
     "data": {
      "text/html": [
       "<pre>+-----------------------------+</pre>"
      ],
      "text/plain": [
       "+-----------------------------+"
      ]
     },
     "metadata": {},
     "output_type": "display_data"
    },
    {
     "name": "stderr",
     "output_type": "stream",
     "text": [
      "[INFO] graphlab.toolkits.clustering.dbscan: Processing boundary points.\n"
     ]
    },
    {
     "name": "stdout",
     "output_type": "stream",
     "text": [
      "Class                                   : DBSCANModel\n",
      "\n",
      "Schema\n",
      "------\n",
      "Number of examples                      : 6504\n",
      "Number of feature columns               : 5\n",
      "Max distance to a neighbor (radius)     : 5\n",
      "Min number of neighbors for core points : 10\n",
      "Number of distance components           : 3\n",
      "\n",
      "Training summary\n",
      "----------------\n",
      "Total training time (seconds)           : 12.1917\n",
      "Number of clusters                      : 11\n",
      "\n",
      "Accessible fields\n",
      "-----------------\n",
      "cluster_id                              : Cluster label for each row in the input dataset.\n"
     ]
    }
   ],
   "source": [
    "#create sframe for dbscan\n",
    "cur=cur1[['year','lat', 'long', 'ln_price', 'tfidf']]\n",
    "\n",
    "#set distances to be used\n",
    "comp_dis=[[['lat', 'long'], 'euclidean', 1],[['ln_price', 'year'], 'euclidean', .5],[['tfidf'], 'cosine', 2]]\n",
    "\n",
    "#run dbscan\n",
    "dbscan_model = gl.dbscan.create(cur,distance=comp_dis, radius=5)\n",
    "dbscan_model.summary()"
   ]
  },
  {
   "cell_type": "code",
   "execution_count": 179,
   "metadata": {
    "collapsed": false
   },
   "outputs": [
    {
     "data": {
      "text/html": [
       "<div style=\"max-height:1000px;max-width:1500px;overflow:auto;\"><table frame=\"box\" rules=\"cols\">\n",
       "    <tr>\n",
       "        <th style=\"padding-left: 1em; padding-right: 1em; text-align: center\">id</th>\n",
       "        <th style=\"padding-left: 1em; padding-right: 1em; text-align: center\">name</th>\n",
       "        <th style=\"padding-left: 1em; padding-right: 1em; text-align: center\">cluster_id</th>\n",
       "        <th style=\"padding-left: 1em; padding-right: 1em; text-align: center\">type</th>\n",
       "    </tr>\n",
       "    <tr>\n",
       "        <td style=\"padding-left: 1em; padding-right: 1em; text-align: center; vertical-align: top\">0</td>\n",
       "        <td style=\"padding-left: 1em; padding-right: 1em; text-align: center; vertical-align: top\">Jamieson Ranch Vineyards<br>Double Lariat Cabernet ...</td>\n",
       "        <td style=\"padding-left: 1em; padding-right: 1em; text-align: center; vertical-align: top\">8</td>\n",
       "        <td style=\"padding-left: 1em; padding-right: 1em; text-align: center; vertical-align: top\">core</td>\n",
       "    </tr>\n",
       "    <tr>\n",
       "        <td style=\"padding-left: 1em; padding-right: 1em; text-align: center; vertical-align: top\">1</td>\n",
       "        <td style=\"padding-left: 1em; padding-right: 1em; text-align: center; vertical-align: top\">Rombauer Chardonnay 2014</td>\n",
       "        <td style=\"padding-left: 1em; padding-right: 1em; text-align: center; vertical-align: top\">8</td>\n",
       "        <td style=\"padding-left: 1em; padding-right: 1em; text-align: center; vertical-align: top\">core</td>\n",
       "    </tr>\n",
       "    <tr>\n",
       "        <td style=\"padding-left: 1em; padding-right: 1em; text-align: center; vertical-align: top\">2</td>\n",
       "        <td style=\"padding-left: 1em; padding-right: 1em; text-align: center; vertical-align: top\">Tenuta San Guido<br>Sassicaia 2012 ...</td>\n",
       "        <td style=\"padding-left: 1em; padding-right: 1em; text-align: center; vertical-align: top\">2</td>\n",
       "        <td style=\"padding-left: 1em; padding-right: 1em; text-align: center; vertical-align: top\">core</td>\n",
       "    </tr>\n",
       "    <tr>\n",
       "        <td style=\"padding-left: 1em; padding-right: 1em; text-align: center; vertical-align: top\">3</td>\n",
       "        <td style=\"padding-left: 1em; padding-right: 1em; text-align: center; vertical-align: top\">Clarendon Hills Sandown<br>Cabernet Sauvignon 2010 ...</td>\n",
       "        <td style=\"padding-left: 1em; padding-right: 1em; text-align: center; vertical-align: top\">6</td>\n",
       "        <td style=\"padding-left: 1em; padding-right: 1em; text-align: center; vertical-align: top\">core</td>\n",
       "    </tr>\n",
       "    <tr>\n",
       "        <td style=\"padding-left: 1em; padding-right: 1em; text-align: center; vertical-align: top\">4</td>\n",
       "        <td style=\"padding-left: 1em; padding-right: 1em; text-align: center; vertical-align: top\">Silver Oak Alexander<br>Valley Cabernet Sauvi ...</td>\n",
       "        <td style=\"padding-left: 1em; padding-right: 1em; text-align: center; vertical-align: top\">8</td>\n",
       "        <td style=\"padding-left: 1em; padding-right: 1em; text-align: center; vertical-align: top\">core</td>\n",
       "    </tr>\n",
       "    <tr>\n",
       "        <td style=\"padding-left: 1em; padding-right: 1em; text-align: center; vertical-align: top\">5</td>\n",
       "        <td style=\"padding-left: 1em; padding-right: 1em; text-align: center; vertical-align: top\">Chateau Lafite-Rothschild<br>2000 ...</td>\n",
       "        <td style=\"padding-left: 1em; padding-right: 1em; text-align: center; vertical-align: top\">2</td>\n",
       "        <td style=\"padding-left: 1em; padding-right: 1em; text-align: center; vertical-align: top\">core</td>\n",
       "    </tr>\n",
       "    <tr>\n",
       "        <td style=\"padding-left: 1em; padding-right: 1em; text-align: center; vertical-align: top\">6</td>\n",
       "        <td style=\"padding-left: 1em; padding-right: 1em; text-align: center; vertical-align: top\">Clos du Val Cabernet<br>Sauvignon 2013 ...</td>\n",
       "        <td style=\"padding-left: 1em; padding-right: 1em; text-align: center; vertical-align: top\">8</td>\n",
       "        <td style=\"padding-left: 1em; padding-right: 1em; text-align: center; vertical-align: top\">core</td>\n",
       "    </tr>\n",
       "    <tr>\n",
       "        <td style=\"padding-left: 1em; padding-right: 1em; text-align: center; vertical-align: top\">7</td>\n",
       "        <td style=\"padding-left: 1em; padding-right: 1em; text-align: center; vertical-align: top\">Valdicava Brunello di<br>Montalcino 2010 ...</td>\n",
       "        <td style=\"padding-left: 1em; padding-right: 1em; text-align: center; vertical-align: top\">2</td>\n",
       "        <td style=\"padding-left: 1em; padding-right: 1em; text-align: center; vertical-align: top\">core</td>\n",
       "    </tr>\n",
       "    <tr>\n",
       "        <td style=\"padding-left: 1em; padding-right: 1em; text-align: center; vertical-align: top\">8</td>\n",
       "        <td style=\"padding-left: 1em; padding-right: 1em; text-align: center; vertical-align: top\">Duckhorn Napa Valley<br>Cabernet Sauvignon 2012 ...</td>\n",
       "        <td style=\"padding-left: 1em; padding-right: 1em; text-align: center; vertical-align: top\">8</td>\n",
       "        <td style=\"padding-left: 1em; padding-right: 1em; text-align: center; vertical-align: top\">core</td>\n",
       "    </tr>\n",
       "    <tr>\n",
       "        <td style=\"padding-left: 1em; padding-right: 1em; text-align: center; vertical-align: top\">9</td>\n",
       "        <td style=\"padding-left: 1em; padding-right: 1em; text-align: center; vertical-align: top\">Stag's Leap Wine Cellars<br>Cask 23 Cabernet ...</td>\n",
       "        <td style=\"padding-left: 1em; padding-right: 1em; text-align: center; vertical-align: top\">8</td>\n",
       "        <td style=\"padding-left: 1em; padding-right: 1em; text-align: center; vertical-align: top\">core</td>\n",
       "    </tr>\n",
       "</table>\n",
       "[10 rows x 4 columns]<br/>\n",
       "</div>"
      ],
      "text/plain": [
       "Columns:\n",
       "\tid\tint\n",
       "\tname\tstr\n",
       "\tcluster_id\tint\n",
       "\ttype\tstr\n",
       "\n",
       "Rows: 10\n",
       "\n",
       "Data:\n",
       "+----+--------------------------------+------------+------+\n",
       "| id |              name              | cluster_id | type |\n",
       "+----+--------------------------------+------------+------+\n",
       "| 0  | Jamieson Ranch Vineyards D...  |     8      | core |\n",
       "| 1  |    Rombauer Chardonnay 2014    |     8      | core |\n",
       "| 2  | Tenuta San Guido Sassicaia...  |     2      | core |\n",
       "| 3  | Clarendon Hills Sandown Ca...  |     6      | core |\n",
       "| 4  | Silver Oak Alexander Valle...  |     8      | core |\n",
       "| 5  | Chateau Lafite-Rothschild 2000 |     2      | core |\n",
       "| 6  | Clos du Val Cabernet Sauvi...  |     8      | core |\n",
       "| 7  | Valdicava Brunello di Mont...  |     2      | core |\n",
       "| 8  | Duckhorn Napa Valley Caber...  |     8      | core |\n",
       "| 9  | Stag's Leap Wine Cellars C...  |     8      | core |\n",
       "+----+--------------------------------+------------+------+\n",
       "[10 rows x 4 columns]"
      ]
     },
     "execution_count": 179,
     "metadata": {},
     "output_type": "execute_result"
    }
   ],
   "source": [
    "#quick and dirty data manipulation\n",
    "\n",
    "cur2=gl.SFrame('./formodel.gl/')\n",
    "test1=cur2[['id', 'name']]\n",
    "test1\n",
    "test1=test1.add_row_number('row_id')\n",
    "cur=cur.add_row_number('row_id')\n",
    "cur=cur.join(test1, on='row_id', how='left')\n",
    "cur=cur.join(dbscan_model['cluster_id'], on='row_id', how='left')\n",
    "cur[['id','name','cluster_id', 'type']].head()"
   ]
  },
  {
   "cell_type": "code",
   "execution_count": 180,
   "metadata": {
    "collapsed": false
   },
   "outputs": [],
   "source": [
    "#wordcloud function\n",
    "def plot_wordcount(cluster_id, model):\n",
    "        from wordcloud import WordCloud\n",
    "        cluster_data = cur.filter_by(model['cluster_id']['row_id'][model['cluster_id']['cluster_id']==cluster_id],'row_id')\n",
    "        #print cluster_data['tfidf'].sketch_summary()\n",
    "        #print cluster_data['name']\n",
    "        data = list(cluster_data['tfidf'])\n",
    "        data = [' '.join(c) for c in data]\n",
    "        data = ' '.join(data)\n",
    "        wc = WordCloud().generate(data) \n",
    "        figure(figsize=(20,10))\n",
    "        return imshow(wc)\n",
    "    \n",
    "#creat word clouds\n",
    "i=0\n",
    "while i<11:\n",
    "        plot_wordcount(i,dbscan_model)\n",
    "        plt.savefig('termedcluster'+str(i)+'png')\n",
    "        i+=1"
   ]
  },
  {
   "cell_type": "markdown",
   "metadata": {},
   "source": [
    "## Interpretation\n",
    " \n",
    "<center><table>\n",
    "<tr><td><img src=\"termedcluster0png.png\"></td>\n",
    "<td><img src=\"termedcluster1png.png\"></td>\n",
    "<td><img src=\"termedcluster2png.png\"></td></tr><br>\n",
    "<tr><td><img src=\"termedcluster3png.png\"></td>\n",
    "<td><img src=\"termedcluster4png.png\"></td>\n",
    "<td><img src=\"termedcluster5png.png\"></td></tr><br>\n",
    "<tr><td><img src=\"termedcluster6png.png\"></td>\n",
    "<td><img src=\"termedcluster7png.png\"></td>\n",
    "<td><img src=\"termedcluster8png.png\"></td></tr><br>\n",
    "<tr><td><img src=\"termedcluster9png.png\"></td>\n",
    "<td><img src=\"termedcluster10png.png\"></td>\n",
    "</tr><br>\n",
    "</table></center>\n"
   ]
  },
  {
   "cell_type": "code",
   "execution_count": null,
   "metadata": {
    "collapsed": false
   },
   "outputs": [],
   "source": [
    "#create table for info on dbscan\n",
    "import csv\n",
    "filenamed= 'tabledbscanterms'\n",
    "titles=['HOW MANY WINES IN THE CLUSTER','mean price', 'min price', 'max price','upleft: lat long:', 'upright: lat long: ','downleft: lat long: ', 'downright: lat long: ']\n",
    "\n",
    "writer = csv.writer(open(filenamed, 'a'))\n",
    "writer.writerow(titles)   \n",
    " \n",
    "#to get min, max, mean price\n",
    "def getstats(cluster_id,model):\n",
    "     cd = cur.filter_by(model['cluster_id']['row_id'][model['cluster_id']['cluster_id']==cluster_id],'row_id')\n",
    "     holder=[]\n",
    "     holder.append(str(len(cd['lat'])))\n",
    "     holder.append(str(math.exp(cd['ln_price'].mean())))\n",
    "     holder.append(str(math.exp(cd['ln_price'].min())))\n",
    "     holder.append(str(math.exp(cd['ln_price'].max())))\n",
    "     holder.append(str(cd['lat'].max()) +' '+str(cd['long'].min()))\n",
    "     holder.append(str(cd['lat'].max()) +' '+str(cd['long'].max()))\n",
    "     holder.append(str(cd['lat'].min()) +' '+str(cd['long'].min()))\n",
    "     holder.append(str(cd['lat'].min()) +' '+str(cd['long'].max()))\n",
    "     writer = csv.writer(open(filenamed, 'a'))\n",
    "     writer.writerow(holder)   \n",
    "        \n",
    "#to loop through clusters\n",
    "i=0\n",
    "while i<11:\n",
    "    getstats(i,dbscan_model)\n",
    "    i+=1"
   ]
  },
  {
   "cell_type": "code",
   "execution_count": 181,
   "metadata": {
    "collapsed": false
   },
   "outputs": [
    {
     "data": {
      "text/html": [
       "<pre>Finished parsing file /home/ryan/Portfolio/Wine/tabledbscanterms</pre>"
      ],
      "text/plain": [
       "Finished parsing file /home/ryan/Portfolio/Wine/tabledbscanterms"
      ]
     },
     "metadata": {},
     "output_type": "display_data"
    },
    {
     "data": {
      "text/html": [
       "<pre>Parsing completed. Parsed 11 lines in 0.068726 secs.</pre>"
      ],
      "text/plain": [
       "Parsing completed. Parsed 11 lines in 0.068726 secs."
      ]
     },
     "metadata": {},
     "output_type": "display_data"
    },
    {
     "name": "stdout",
     "output_type": "stream",
     "text": [
      "------------------------------------------------------\n",
      "Inferred types from first 100 line(s) of file as \n",
      "column_type_hints=[int,float,float,float,str,str,str,str]\n",
      "If parsing fails due to incorrect types, you can correct\n",
      "the inferred type list above and pass it to read_csv in\n",
      "the column_type_hints argument\n",
      "------------------------------------------------------\n"
     ]
    },
    {
     "data": {
      "text/html": [
       "<pre>Finished parsing file /home/ryan/Portfolio/Wine/tabledbscanterms</pre>"
      ],
      "text/plain": [
       "Finished parsing file /home/ryan/Portfolio/Wine/tabledbscanterms"
      ]
     },
     "metadata": {},
     "output_type": "display_data"
    },
    {
     "data": {
      "text/html": [
       "<pre>Parsing completed. Parsed 11 lines in 0.006967 secs.</pre>"
      ],
      "text/plain": [
       "Parsing completed. Parsed 11 lines in 0.006967 secs."
      ]
     },
     "metadata": {},
     "output_type": "display_data"
    },
    {
     "data": {
      "text/html": [
       "<div style=\"max-height:1000px;max-width:1500px;overflow:auto;\"><table frame=\"box\" rules=\"cols\">\n",
       "    <tr>\n",
       "        <th style=\"padding-left: 1em; padding-right: 1em; text-align: center\">HOW MANY WINES IN THE<br>CLUSTER ...</th>\n",
       "        <th style=\"padding-left: 1em; padding-right: 1em; text-align: center\">mean price</th>\n",
       "        <th style=\"padding-left: 1em; padding-right: 1em; text-align: center\">min price</th>\n",
       "        <th style=\"padding-left: 1em; padding-right: 1em; text-align: center\">max price</th>\n",
       "        <th style=\"padding-left: 1em; padding-right: 1em; text-align: center\">upleft: lat long:</th>\n",
       "        <th style=\"padding-left: 1em; padding-right: 1em; text-align: center\">upright: lat long:</th>\n",
       "    </tr>\n",
       "    <tr>\n",
       "        <td style=\"padding-left: 1em; padding-right: 1em; text-align: center; vertical-align: top\">31</td>\n",
       "        <td style=\"padding-left: 1em; padding-right: 1em; text-align: center; vertical-align: top\">45.5948182517</td>\n",
       "        <td style=\"padding-left: 1em; padding-right: 1em; text-align: center; vertical-align: top\">12.99</td>\n",
       "        <td style=\"padding-left: 1em; padding-right: 1em; text-align: center; vertical-align: top\">52.4704967264</td>\n",
       "        <td style=\"padding-left: 1em; padding-right: 1em; text-align: center; vertical-align: top\">40.811024 22.087299</td>\n",
       "        <td style=\"padding-left: 1em; padding-right: 1em; text-align: center; vertical-align: top\">40.811024 25.46019</td>\n",
       "    </tr>\n",
       "    <tr>\n",
       "        <td style=\"padding-left: 1em; padding-right: 1em; text-align: center; vertical-align: top\">20</td>\n",
       "        <td style=\"padding-left: 1em; padding-right: 1em; text-align: center; vertical-align: top\">36.6763625502</td>\n",
       "        <td style=\"padding-left: 1em; padding-right: 1em; text-align: center; vertical-align: top\">14.0</td>\n",
       "        <td style=\"padding-left: 1em; padding-right: 1em; text-align: center; vertical-align: top\">75.0</td>\n",
       "        <td style=\"padding-left: 1em; padding-right: 1em; text-align: center; vertical-align: top\">-44.693447 168.949127</td>\n",
       "        <td style=\"padding-left: 1em; padding-right: 1em; text-align: center; vertical-align: top\">-44.693447 169.307707</td>\n",
       "    </tr>\n",
       "    <tr>\n",
       "        <td style=\"padding-left: 1em; padding-right: 1em; text-align: center; vertical-align: top\">2308</td>\n",
       "        <td style=\"padding-left: 1em; padding-right: 1em; text-align: center; vertical-align: top\">49.5785038605</td>\n",
       "        <td style=\"padding-left: 1em; padding-right: 1em; text-align: center; vertical-align: top\">8.99</td>\n",
       "        <td style=\"padding-left: 1em; padding-right: 1em; text-align: center; vertical-align: top\">1700.0</td>\n",
       "        <td style=\"padding-left: 1em; padding-right: 1em; text-align: center; vertical-align: top\">50.053387 -9.018866</td>\n",
       "        <td style=\"padding-left: 1em; padding-right: 1em; text-align: center; vertical-align: top\">50.053387 18.422677</td>\n",
       "    </tr>\n",
       "    <tr>\n",
       "        <td style=\"padding-left: 1em; padding-right: 1em; text-align: center; vertical-align: top\">131</td>\n",
       "        <td style=\"padding-left: 1em; padding-right: 1em; text-align: center; vertical-align: top\">29.1834732411</td>\n",
       "        <td style=\"padding-left: 1em; padding-right: 1em; text-align: center; vertical-align: top\">10.0</td>\n",
       "        <td style=\"padding-left: 1em; padding-right: 1em; text-align: center; vertical-align: top\">225.0</td>\n",
       "        <td style=\"padding-left: 1em; padding-right: 1em; text-align: center; vertical-align: top\">-33.382953 18.380004</td>\n",
       "        <td style=\"padding-left: 1em; padding-right: 1em; text-align: center; vertical-align: top\">-33.382953 22.70694</td>\n",
       "    </tr>\n",
       "    <tr>\n",
       "        <td style=\"padding-left: 1em; padding-right: 1em; text-align: center; vertical-align: top\">145</td>\n",
       "        <td style=\"padding-left: 1em; padding-right: 1em; text-align: center; vertical-align: top\">28.1886699278</td>\n",
       "        <td style=\"padding-left: 1em; padding-right: 1em; text-align: center; vertical-align: top\">13.0</td>\n",
       "        <td style=\"padding-left: 1em; padding-right: 1em; text-align: center; vertical-align: top\">115.0</td>\n",
       "        <td style=\"padding-left: 1em; padding-right: 1em; text-align: center; vertical-align: top\">-36.755802 172.611412</td>\n",
       "        <td style=\"padding-left: 1em; padding-right: 1em; text-align: center; vertical-align: top\">-36.755802 176.922699</td>\n",
       "    </tr>\n",
       "    <tr>\n",
       "        <td style=\"padding-left: 1em; padding-right: 1em; text-align: center; vertical-align: top\">12</td>\n",
       "        <td style=\"padding-left: 1em; padding-right: 1em; text-align: center; vertical-align: top\">52.8605372684</td>\n",
       "        <td style=\"padding-left: 1em; padding-right: 1em; text-align: center; vertical-align: top\">15.0</td>\n",
       "        <td style=\"padding-left: 1em; padding-right: 1em; text-align: center; vertical-align: top\">145.0</td>\n",
       "        <td style=\"padding-left: 1em; padding-right: 1em; text-align: center; vertical-align: top\">37.581517 -6.3557</td>\n",
       "        <td style=\"padding-left: 1em; padding-right: 1em; text-align: center; vertical-align: top\">37.581517 -4.644164</td>\n",
       "    </tr>\n",
       "    <tr>\n",
       "        <td style=\"padding-left: 1em; padding-right: 1em; text-align: center; vertical-align: top\">287</td>\n",
       "        <td style=\"padding-left: 1em; padding-right: 1em; text-align: center; vertical-align: top\">38.6442001737</td>\n",
       "        <td style=\"padding-left: 1em; padding-right: 1em; text-align: center; vertical-align: top\">9.0</td>\n",
       "        <td style=\"padding-left: 1em; padding-right: 1em; text-align: center; vertical-align: top\">530.0</td>\n",
       "        <td style=\"padding-left: 1em; padding-right: 1em; text-align: center; vertical-align: top\">-33.833028 138.524613</td>\n",
       "        <td style=\"padding-left: 1em; padding-right: 1em; text-align: center; vertical-align: top\">-33.833028 146.214502</td>\n",
       "    </tr>\n",
       "    <tr>\n",
       "        <td style=\"padding-left: 1em; padding-right: 1em; text-align: center; vertical-align: top\">333</td>\n",
       "        <td style=\"padding-left: 1em; padding-right: 1em; text-align: center; vertical-align: top\">29.4974994737</td>\n",
       "        <td style=\"padding-left: 1em; padding-right: 1em; text-align: center; vertical-align: top\">10.0</td>\n",
       "        <td style=\"padding-left: 1em; padding-right: 1em; text-align: center; vertical-align: top\">235.0</td>\n",
       "        <td style=\"padding-left: 1em; padding-right: 1em; text-align: center; vertical-align: top\">-30.027191 -71.548389</td>\n",
       "        <td style=\"padding-left: 1em; padding-right: 1em; text-align: center; vertical-align: top\">-30.027191 -68.298705</td>\n",
       "    </tr>\n",
       "    <tr>\n",
       "        <td style=\"padding-left: 1em; padding-right: 1em; text-align: center; vertical-align: top\">3097</td>\n",
       "        <td style=\"padding-left: 1em; padding-right: 1em; text-align: center; vertical-align: top\">36.5032490076</td>\n",
       "        <td style=\"padding-left: 1em; padding-right: 1em; text-align: center; vertical-align: top\">10.0</td>\n",
       "        <td style=\"padding-left: 1em; padding-right: 1em; text-align: center; vertical-align: top\">600.0</td>\n",
       "        <td style=\"padding-left: 1em; padding-right: 1em; text-align: center; vertical-align: top\">47.80473 -123.498398</td>\n",
       "        <td style=\"padding-left: 1em; padding-right: 1em; text-align: center; vertical-align: top\">47.80473 -117.115283</td>\n",
       "    </tr>\n",
       "    <tr>\n",
       "        <td style=\"padding-left: 1em; padding-right: 1em; text-align: center; vertical-align: top\">14</td>\n",
       "        <td style=\"padding-left: 1em; padding-right: 1em; text-align: center; vertical-align: top\">43.3824906733</td>\n",
       "        <td style=\"padding-left: 1em; padding-right: 1em; text-align: center; vertical-align: top\">17.0</td>\n",
       "        <td style=\"padding-left: 1em; padding-right: 1em; text-align: center; vertical-align: top\">89.0</td>\n",
       "        <td style=\"padding-left: 1em; padding-right: 1em; text-align: center; vertical-align: top\">-33.824053 115.040998</td>\n",
       "        <td style=\"padding-left: 1em; padding-right: 1em; text-align: center; vertical-align: top\">-33.824053 115.065145</td>\n",
       "    </tr>\n",
       "</table>\n",
       "<table frame=\"box\" rules=\"cols\">\n",
       "    <tr>\n",
       "        <th style=\"padding-left: 1em; padding-right: 1em; text-align: center\">downleft: lat long:</th>\n",
       "        <th style=\"padding-left: 1em; padding-right: 1em; text-align: center\">downright: lat long:</th>\n",
       "    </tr>\n",
       "    <tr>\n",
       "        <td style=\"padding-left: 1em; padding-right: 1em; text-align: center; vertical-align: top\">35.184663 22.087299</td>\n",
       "        <td style=\"padding-left: 1em; padding-right: 1em; text-align: center; vertical-align: top\">35.184663 25.46019</td>\n",
       "    </tr>\n",
       "    <tr>\n",
       "        <td style=\"padding-left: 1em; padding-right: 1em; text-align: center; vertical-align: top\">-45.211275 168.949127</td>\n",
       "        <td style=\"padding-left: 1em; padding-right: 1em; text-align: center; vertical-align: top\">-45.211275 169.307707</td>\n",
       "    </tr>\n",
       "    <tr>\n",
       "        <td style=\"padding-left: 1em; padding-right: 1em; text-align: center; vertical-align: top\">37.220413 -9.018866</td>\n",
       "        <td style=\"padding-left: 1em; padding-right: 1em; text-align: center; vertical-align: top\">37.220413 18.422677</td>\n",
       "    </tr>\n",
       "    <tr>\n",
       "        <td style=\"padding-left: 1em; padding-right: 1em; text-align: center; vertical-align: top\">-34.3893 18.380004</td>\n",
       "        <td style=\"padding-left: 1em; padding-right: 1em; text-align: center; vertical-align: top\">-34.3893 22.70694</td>\n",
       "    </tr>\n",
       "    <tr>\n",
       "        <td style=\"padding-left: 1em; padding-right: 1em; text-align: center; vertical-align: top\">-43.092164 172.611412</td>\n",
       "        <td style=\"padding-left: 1em; padding-right: 1em; text-align: center; vertical-align: top\">-43.092164 176.922699</td>\n",
       "    </tr>\n",
       "    <tr>\n",
       "        <td style=\"padding-left: 1em; padding-right: 1em; text-align: center; vertical-align: top\">36.594918 -6.3557</td>\n",
       "        <td style=\"padding-left: 1em; padding-right: 1em; text-align: center; vertical-align: top\">36.594918 -4.644164</td>\n",
       "    </tr>\n",
       "    <tr>\n",
       "        <td style=\"padding-left: 1em; padding-right: 1em; text-align: center; vertical-align: top\">-38.405284 138.524613</td>\n",
       "        <td style=\"padding-left: 1em; padding-right: 1em; text-align: center; vertical-align: top\">-38.405284 146.214502</td>\n",
       "    </tr>\n",
       "    <tr>\n",
       "        <td style=\"padding-left: 1em; padding-right: 1em; text-align: center; vertical-align: top\">-35.419665 -71.548389</td>\n",
       "        <td style=\"padding-left: 1em; padding-right: 1em; text-align: center; vertical-align: top\">-35.419665 -68.298705</td>\n",
       "    </tr>\n",
       "    <tr>\n",
       "        <td style=\"padding-left: 1em; padding-right: 1em; text-align: center; vertical-align: top\">33.121747 -123.498398</td>\n",
       "        <td style=\"padding-left: 1em; padding-right: 1em; text-align: center; vertical-align: top\">33.121747 -117.115283</td>\n",
       "    </tr>\n",
       "    <tr>\n",
       "        <td style=\"padding-left: 1em; padding-right: 1em; text-align: center; vertical-align: top\">-34.013075 115.040998</td>\n",
       "        <td style=\"padding-left: 1em; padding-right: 1em; text-align: center; vertical-align: top\">-34.013075 115.065145</td>\n",
       "    </tr>\n",
       "</table>\n",
       "[11 rows x 8 columns]<br/>Note: Only the head of the SFrame is printed.<br/>You can use print_rows(num_rows=m, num_columns=n) to print more rows and columns.\n",
       "</div>"
      ],
      "text/plain": [
       "Columns:\n",
       "\tHOW MANY WINES IN THE CLUSTER\tint\n",
       "\tmean price\tfloat\n",
       "\tmin price\tfloat\n",
       "\tmax price\tfloat\n",
       "\tupleft: lat long:\tstr\n",
       "\tupright: lat long:\tstr\n",
       "\tdownleft: lat long:\tstr\n",
       "\tdownright: lat long:\tstr\n",
       "\n",
       "Rows: 11\n",
       "\n",
       "Data:\n",
       "+-------------------------------+---------------+-----------+---------------+\n",
       "| HOW MANY WINES IN THE CLUSTER |   mean price  | min price |   max price   |\n",
       "+-------------------------------+---------------+-----------+---------------+\n",
       "|               31              | 45.5948182517 |   12.99   | 52.4704967264 |\n",
       "|               20              | 36.6763625502 |    14.0   |      75.0     |\n",
       "|              2308             | 49.5785038605 |    8.99   |     1700.0    |\n",
       "|              131              | 29.1834732411 |    10.0   |     225.0     |\n",
       "|              145              | 28.1886699278 |    13.0   |     115.0     |\n",
       "|               12              | 52.8605372684 |    15.0   |     145.0     |\n",
       "|              287              | 38.6442001737 |    9.0    |     530.0     |\n",
       "|              333              | 29.4974994737 |    10.0   |     235.0     |\n",
       "|              3097             | 36.5032490076 |    10.0   |     600.0     |\n",
       "|               14              | 43.3824906733 |    17.0   |      89.0     |\n",
       "+-------------------------------+---------------+-----------+---------------+\n",
       "+-----------------------+-----------------------+-----------------------+\n",
       "|   upleft: lat long:   |   upright: lat long:  |  downleft: lat long:  |\n",
       "+-----------------------+-----------------------+-----------------------+\n",
       "|  40.811024 22.087299  |   40.811024 25.46019  |  35.184663 22.087299  |\n",
       "| -44.693447 168.949127 | -44.693447 169.307707 | -45.211275 168.949127 |\n",
       "|  50.053387 -9.018866  |  50.053387 18.422677  |  37.220413 -9.018866  |\n",
       "|  -33.382953 18.380004 |  -33.382953 22.70694  |   -34.3893 18.380004  |\n",
       "| -36.755802 172.611412 | -36.755802 176.922699 | -43.092164 172.611412 |\n",
       "|   37.581517 -6.3557   |  37.581517 -4.644164  |   36.594918 -6.3557   |\n",
       "| -33.833028 138.524613 | -33.833028 146.214502 | -38.405284 138.524613 |\n",
       "| -30.027191 -71.548389 | -30.027191 -68.298705 | -35.419665 -71.548389 |\n",
       "|  47.80473 -123.498398 |  47.80473 -117.115283 | 33.121747 -123.498398 |\n",
       "| -33.824053 115.040998 | -33.824053 115.065145 | -34.013075 115.040998 |\n",
       "+-----------------------+-----------------------+-----------------------+\n",
       "+-----------------------+\n",
       "|  downright: lat long: |\n",
       "+-----------------------+\n",
       "|   35.184663 25.46019  |\n",
       "| -45.211275 169.307707 |\n",
       "|  37.220413 18.422677  |\n",
       "|   -34.3893 22.70694   |\n",
       "| -43.092164 176.922699 |\n",
       "|  36.594918 -4.644164  |\n",
       "| -38.405284 146.214502 |\n",
       "| -35.419665 -68.298705 |\n",
       "| 33.121747 -117.115283 |\n",
       "| -34.013075 115.065145 |\n",
       "+-----------------------+\n",
       "[11 rows x 8 columns]\n",
       "Note: Only the head of the SFrame is printed.\n",
       "You can use print_rows(num_rows=m, num_columns=n) to print more rows and columns."
      ]
     },
     "execution_count": 181,
     "metadata": {},
     "output_type": "execute_result"
    }
   ],
   "source": [
    "#load table results\n",
    "rs=gl.SFrame.read_csv('./tabledbscanterms', header=True)\n",
    "\n",
    "rs"
   ]
  },
  {
   "cell_type": "markdown",
   "metadata": {},
   "source": [
    "## Conclusions\n",
    "\n",
    "Well that was fun, but as you can see. We only scratched the service. To do a problem like this justice, one needs to decide on a measuring stick. <b> What does it mean for wines to be clustered well?</b> Once you decide on that, you need explore many different permutations of the models we looked at, think deeply about feature engineering, ponder on ways to discard models that won't help earlier rather than later. \n",
    "\n",
    "Anyway, as always, Happy Exploring."
   ]
  }
 ],
 "metadata": {
  "kernelspec": {
   "display_name": "Python 2",
   "language": "python",
   "name": "python2"
  },
  "language_info": {
   "codemirror_mode": {
    "name": "ipython",
    "version": 2
   },
   "file_extension": ".py",
   "mimetype": "text/x-python",
   "name": "python",
   "nbconvert_exporter": "python",
   "pygments_lexer": "ipython2",
   "version": "2.7.11"
  }
 },
 "nbformat": 4,
 "nbformat_minor": 0
}
